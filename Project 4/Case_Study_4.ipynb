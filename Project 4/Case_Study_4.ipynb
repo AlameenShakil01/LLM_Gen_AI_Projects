{
  "cells": [
    {
      "cell_type": "code",
      "execution_count": null,
      "metadata": {
        "colab": {
          "base_uri": "https://localhost:8080/"
        },
        "collapsed": true,
        "id": "gMFShI8ZBjvZ",
        "outputId": "b4744cdb-227a-4013-a4f6-a765cb7e32fa"
      },
      "outputs": [
        {
          "name": "stdout",
          "output_type": "stream",
          "text": [
            "Requirement already satisfied: torch in /usr/local/lib/python3.12/dist-packages (2.8.0+cu126)\n",
            "Requirement already satisfied: transformers in /usr/local/lib/python3.12/dist-packages (4.57.0)\n",
            "Requirement already satisfied: sentence-transformers in /usr/local/lib/python3.12/dist-packages (5.1.1)\n",
            "Requirement already satisfied: filelock in /usr/local/lib/python3.12/dist-packages (from torch) (3.19.1)\n",
            "Requirement already satisfied: typing-extensions>=4.10.0 in /usr/local/lib/python3.12/dist-packages (from torch) (4.15.0)\n",
            "Requirement already satisfied: setuptools in /usr/local/lib/python3.12/dist-packages (from torch) (75.2.0)\n",
            "Requirement already satisfied: sympy>=1.13.3 in /usr/local/lib/python3.12/dist-packages (from torch) (1.13.3)\n",
            "Requirement already satisfied: networkx in /usr/local/lib/python3.12/dist-packages (from torch) (3.5)\n",
            "Requirement already satisfied: jinja2 in /usr/local/lib/python3.12/dist-packages (from torch) (3.1.6)\n",
            "Requirement already satisfied: fsspec in /usr/local/lib/python3.12/dist-packages (from torch) (2025.3.0)\n",
            "Requirement already satisfied: nvidia-cuda-nvrtc-cu12==12.6.77 in /usr/local/lib/python3.12/dist-packages (from torch) (12.6.77)\n",
            "Requirement already satisfied: nvidia-cuda-runtime-cu12==12.6.77 in /usr/local/lib/python3.12/dist-packages (from torch) (12.6.77)\n",
            "Requirement already satisfied: nvidia-cuda-cupti-cu12==12.6.80 in /usr/local/lib/python3.12/dist-packages (from torch) (12.6.80)\n",
            "Requirement already satisfied: nvidia-cudnn-cu12==9.10.2.21 in /usr/local/lib/python3.12/dist-packages (from torch) (9.10.2.21)\n",
            "Requirement already satisfied: nvidia-cublas-cu12==12.6.4.1 in /usr/local/lib/python3.12/dist-packages (from torch) (12.6.4.1)\n",
            "Requirement already satisfied: nvidia-cufft-cu12==11.3.0.4 in /usr/local/lib/python3.12/dist-packages (from torch) (11.3.0.4)\n",
            "Requirement already satisfied: nvidia-curand-cu12==10.3.7.77 in /usr/local/lib/python3.12/dist-packages (from torch) (10.3.7.77)\n",
            "Requirement already satisfied: nvidia-cusolver-cu12==11.7.1.2 in /usr/local/lib/python3.12/dist-packages (from torch) (11.7.1.2)\n",
            "Requirement already satisfied: nvidia-cusparse-cu12==12.5.4.2 in /usr/local/lib/python3.12/dist-packages (from torch) (12.5.4.2)\n",
            "Requirement already satisfied: nvidia-cusparselt-cu12==0.7.1 in /usr/local/lib/python3.12/dist-packages (from torch) (0.7.1)\n",
            "Requirement already satisfied: nvidia-nccl-cu12==2.27.3 in /usr/local/lib/python3.12/dist-packages (from torch) (2.27.3)\n",
            "Requirement already satisfied: nvidia-nvtx-cu12==12.6.77 in /usr/local/lib/python3.12/dist-packages (from torch) (12.6.77)\n",
            "Requirement already satisfied: nvidia-nvjitlink-cu12==12.6.85 in /usr/local/lib/python3.12/dist-packages (from torch) (12.6.85)\n",
            "Requirement already satisfied: nvidia-cufile-cu12==1.11.1.6 in /usr/local/lib/python3.12/dist-packages (from torch) (1.11.1.6)\n",
            "Requirement already satisfied: triton==3.4.0 in /usr/local/lib/python3.12/dist-packages (from torch) (3.4.0)\n",
            "Requirement already satisfied: huggingface-hub<1.0,>=0.34.0 in /usr/local/lib/python3.12/dist-packages (from transformers) (0.35.3)\n",
            "Requirement already satisfied: numpy>=1.17 in /usr/local/lib/python3.12/dist-packages (from transformers) (2.3.3)\n",
            "Requirement already satisfied: packaging>=20.0 in /usr/local/lib/python3.12/dist-packages (from transformers) (25.0)\n",
            "Requirement already satisfied: pyyaml>=5.1 in /usr/local/lib/python3.12/dist-packages (from transformers) (6.0.3)\n",
            "Requirement already satisfied: regex!=2019.12.17 in /usr/local/lib/python3.12/dist-packages (from transformers) (2024.11.6)\n",
            "Requirement already satisfied: requests in /usr/local/lib/python3.12/dist-packages (from transformers) (2.32.5)\n",
            "Requirement already satisfied: tokenizers<=0.23.0,>=0.22.0 in /usr/local/lib/python3.12/dist-packages (from transformers) (0.22.1)\n",
            "Requirement already satisfied: safetensors>=0.4.3 in /usr/local/lib/python3.12/dist-packages (from transformers) (0.6.2)\n",
            "Requirement already satisfied: tqdm>=4.27 in /usr/local/lib/python3.12/dist-packages (from transformers) (4.67.1)\n",
            "Requirement already satisfied: scikit-learn in /usr/local/lib/python3.12/dist-packages (from sentence-transformers) (1.6.1)\n",
            "Requirement already satisfied: scipy in /usr/local/lib/python3.12/dist-packages (from sentence-transformers) (1.16.2)\n",
            "Requirement already satisfied: Pillow in /usr/local/lib/python3.12/dist-packages (from sentence-transformers) (11.3.0)\n",
            "Requirement already satisfied: hf-xet<2.0.0,>=1.1.3 in /usr/local/lib/python3.12/dist-packages (from huggingface-hub<1.0,>=0.34.0->transformers) (1.1.10)\n",
            "Requirement already satisfied: mpmath<1.4,>=1.1.0 in /usr/local/lib/python3.12/dist-packages (from sympy>=1.13.3->torch) (1.3.0)\n",
            "Requirement already satisfied: MarkupSafe>=2.0 in /usr/local/lib/python3.12/dist-packages (from jinja2->torch) (3.0.3)\n",
            "Requirement already satisfied: charset_normalizer<4,>=2 in /usr/local/lib/python3.12/dist-packages (from requests->transformers) (3.4.3)\n",
            "Requirement already satisfied: idna<4,>=2.5 in /usr/local/lib/python3.12/dist-packages (from requests->transformers) (3.10)\n",
            "Requirement already satisfied: urllib3<3,>=1.21.1 in /usr/local/lib/python3.12/dist-packages (from requests->transformers) (2.3.0)\n",
            "Requirement already satisfied: certifi>=2017.4.17 in /usr/local/lib/python3.12/dist-packages (from requests->transformers) (2025.8.3)\n",
            "Requirement already satisfied: joblib>=1.2.0 in /usr/local/lib/python3.12/dist-packages (from scikit-learn->sentence-transformers) (1.5.2)\n",
            "Requirement already satisfied: threadpoolctl>=3.1.0 in /usr/local/lib/python3.12/dist-packages (from scikit-learn->sentence-transformers) (3.6.0)\n"
          ]
        }
      ],
      "source": [
        "# !pip install -U torch transformers sentence-transformers"
      ]
    },
    {
      "cell_type": "code",
      "execution_count": null,
      "metadata": {
        "colab": {
          "base_uri": "https://localhost:8080/"
        },
        "collapsed": true,
        "id": "pPjK35xV_TFO",
        "outputId": "33bbaeee-8619-49cb-97a4-47350138d74d"
      },
      "outputs": [
        {
          "name": "stdout",
          "output_type": "stream",
          "text": [
            "\u001b[?25l     \u001b[90m━━━━━━━━━━━━━━━━━━━━━━━━━━━━━━━━━━━━━━━━\u001b[0m \u001b[32m0.0/9.4 MB\u001b[0m \u001b[31m?\u001b[0m eta \u001b[36m-:--:--\u001b[0m\r\u001b[2K     \u001b[91m━━━━\u001b[0m\u001b[90m╺\u001b[0m\u001b[90m━━━━━━━━━━━━━━━━━━━━━━━━━━━━━━━━━━━\u001b[0m \u001b[32m1.0/9.4 MB\u001b[0m \u001b[31m30.5 MB/s\u001b[0m eta \u001b[36m0:00:01\u001b[0m\r\u001b[2K     \u001b[91m━━━━━━━━━━━━━━━━\u001b[0m\u001b[90m╺\u001b[0m\u001b[90m━━━━━━━━━━━━━━━━━━━━━━━\u001b[0m \u001b[32m3.9/9.4 MB\u001b[0m \u001b[31m56.3 MB/s\u001b[0m eta \u001b[36m0:00:01\u001b[0m\r\u001b[2K     \u001b[90m━━━━━━━━━━━━━━━━━━━━━━━━━━━━━━━━━━━━━━━━\u001b[0m \u001b[32m9.4/9.4 MB\u001b[0m \u001b[31m107.5 MB/s\u001b[0m eta \u001b[36m0:00:00\u001b[0m\n",
            "\u001b[?25h  Installing build dependencies ... \u001b[?25l\u001b[?25hdone\n",
            "  Getting requirements to build wheel ... \u001b[?25l\u001b[?25hdone\n",
            "  Installing backend dependencies ... \u001b[?25l\u001b[?25hdone\n",
            "  Preparing metadata (pyproject.toml) ... \u001b[?25l\u001b[?25hdone\n",
            "\u001b[2K     \u001b[90m━━━━━━━━━━━━━━━━━━━━━━━━━━━━━━━━━━━━━━━\u001b[0m \u001b[32m62.1/62.1 kB\u001b[0m \u001b[31m285.0 MB/s\u001b[0m eta \u001b[36m0:00:00\u001b[0m\n",
            "\u001b[2K   \u001b[90m━━━━━━━━━━━━━━━━━━━━━━━━━━━━━━━━━━━━━━━━\u001b[0m \u001b[32m45.5/45.5 kB\u001b[0m \u001b[31m232.8 MB/s\u001b[0m eta \u001b[36m0:00:00\u001b[0m\n",
            "\u001b[2K   \u001b[90m━━━━━━━━━━━━━━━━━━━━━━━━━━━━━━━━━━━━━━━━\u001b[0m \u001b[32m16.6/16.6 MB\u001b[0m \u001b[31m304.9 MB/s\u001b[0m eta \u001b[36m0:00:00\u001b[0m\n",
            "\u001b[2K   \u001b[90m━━━━━━━━━━━━━━━━━━━━━━━━━━━━━━━━━━━━━━━━\u001b[0m \u001b[32m44.6/44.6 kB\u001b[0m \u001b[31m294.4 MB/s\u001b[0m eta \u001b[36m0:00:00\u001b[0m\n",
            "\u001b[?25h  Building wheel for llama-cpp-python (pyproject.toml) ... \u001b[?25l\u001b[?25hdone\n"
          ]
        }
      ],
      "source": [
        "# # Installation for GPU llama-cpp-python\n",
        "# !CMAKE_ARGS=\"-DLLAMA_CUBLAS=on\" FORCE_CMAKE=1 pip install llama-cpp-python==0.2.28  --force-reinstall --upgrade --no-cache-dir -q 2>/dev/null"
      ]
    },
    {
      "cell_type": "code",
      "execution_count": null,
      "metadata": {
        "id": "sBP4imAmQ14y"
      },
      "outputs": [],
      "source": [
        "# !pip install tiktoken pypdf langchain langchain-community chromadb sentence-transformers huggingface_hub\n"
      ]
    },
    {
      "cell_type": "code",
      "execution_count": null,
      "metadata": {
        "collapsed": true,
        "id": "Wys5cPcqAIXh"
      },
      "outputs": [],
      "source": [
        "import json\n",
        "import tiktoken\n",
        "import pandas as pd\n",
        "from langchain.text_splitter import RecursiveCharacterTextSplitter\n",
        "from langchain_community.document_loaders import PyPDFDirectoryLoader, PyPDFLoader\n",
        "from langchain_community.embeddings.sentence_transformer import SentenceTransformerEmbeddings\n",
        "from langchain_community.vectorstores import Chroma\n",
        "from google.colab import userdata, drive"
      ]
    },
    {
      "cell_type": "code",
      "execution_count": null,
      "metadata": {
        "id": "zIHUFgZwARRG"
      },
      "outputs": [],
      "source": [
        "pdf_loader=PyPDFLoader('/content/HBR_How_Apple_Is_Organized_For_Innovation-4 (2).pdf')"
      ]
    },
    {
      "cell_type": "code",
      "execution_count": null,
      "metadata": {
        "id": "1W_sFuBjATj3"
      },
      "outputs": [],
      "source": [
        "content=pdf_loader.load()"
      ]
    },
    {
      "cell_type": "code",
      "execution_count": null,
      "metadata": {
        "colab": {
          "base_uri": "https://localhost:8080/"
        },
        "collapsed": true,
        "id": "nKM-LclIAYcW",
        "outputId": "4149dd36-4b1d-47d9-8277-9ce1b9c18e2c"
      },
      "outputs": [
        {
          "name": "stdout",
          "output_type": "stream",
          "text": [
            "Page Number: {1}\n",
            "page_content='REPRINT R2006F\n",
            "PUBLISHED IN HBR\n",
            "NOVEMBER–DECEMBER 2020\n",
            "ARTICLEORGANIZATIONAL CULTURE\n",
            "How Apple Is \n",
            "Organized  \n",
            "for Innovation\n",
            "It’s about experts leading experts. \n",
            "by Joel M. Podolny and Morten T. Hansen\n",
            "This article is made available to you with compliments of Apple Inc for your personal use. Further posting, copying or distribution is not permitted.' metadata={'producer': 'Adobe PDF Library 15.0 (via http://bfo.com/products/pdf?version=2.23.5-r33279)', 'creator': 'Adobe InDesign 14.0 (Macintosh)', 'creationdate': '2020-10-05T14:18:42-04:00', 'moddate': '2020-12-01T18:37:49+00:00', 'trapped': '/False', 'source': '/content/HBR_How_Apple_Is_Organized_For_Innovation-4 (2).pdf', 'total_pages': 11, 'page': 0, 'page_label': '1'}\n",
            "Page Number: {2}\n",
            "page_content='2\n",
            "Harvard Business Review\n",
            "November–December 2020\n",
            "This article is made available to you with compliments of Apple Inc for your personal use. Further posting, copying or distribution is not permitted.' metadata={'producer': 'Adobe PDF Library 15.0 (via http://bfo.com/products/pdf?version=2.23.5-r33279)', 'creator': 'Adobe InDesign 14.0 (Macintosh)', 'creationdate': '2020-10-05T14:18:42-04:00', 'moddate': '2020-12-01T18:37:49+00:00', 'trapped': '/False', 'source': '/content/HBR_How_Apple_Is_Organized_For_Innovation-4 (2).pdf', 'total_pages': 11, 'page': 1, 'page_label': '2'}\n",
            "Page Number: {3}\n",
            "page_content='PHOTOGRAPHER MIKAEL JANSSON\n",
            "How Apple Is  Organized  for InnovationIt’s about experts  leading experts.\n",
            "ORGANIZATIONAL \n",
            "CULTURE\n",
            "Joel M. \n",
            "Podolny\n",
            "Dean, Apple \n",
            "University\n",
            "Morten T. \n",
            "Hansen\n",
            "Faculty, Apple \n",
            "University\n",
            "AUTHORS\n",
            "FOR ARTICLE REPRINTS CALL 800-988-0886 OR 617-783-7500, OR VISIT HBR.ORG\n",
            "Harvard Business Review\n",
            "November–December 2020  3\n",
            "This article is made available to you with compliments of Apple Inc for your personal use. Further posting, copying or distribution is not permitted.' metadata={'producer': 'Adobe PDF Library 15.0 (via http://bfo.com/products/pdf?version=2.23.5-r33279)', 'creator': 'Adobe InDesign 14.0 (Macintosh)', 'creationdate': '2020-10-05T14:18:42-04:00', 'moddate': '2020-12-01T18:37:49+00:00', 'trapped': '/False', 'source': '/content/HBR_How_Apple_Is_Organized_For_Innovation-4 (2).pdf', 'total_pages': 11, 'page': 2, 'page_label': '3'}\n",
            "Page Number: {4}\n",
            "page_content='WELL KNOWN FOR ITS innovations in hardware, software, \n",
            "and services. Thanks to them, it grew from some 8,000 \n",
            "employees and $7\n",
            " \n",
            "billion in revenue in 1997, the year Steve \n",
            "Jobs returned, to 137,000 employees and $260\n",
            " \n",
            "billion in \n",
            "revenue in 2019. Much less well known are the organizational \n",
            "design and the associated leadership model that have played \n",
            "a crucial role in the company’s innovation success.\n",
            "When Jobs arrived back at Apple, it had a conventional \n",
            "structure for a company of its size and scope. It was divided \n",
            "into business units, each with its own P&L responsibilities. \n",
            "General managers ran the Macintosh products group, the \n",
            "information appliances division, and the server products \n",
            "division, among others. As is often the case with decentral-\n",
            "ized business units, managers were inclined to fight with \n",
            "one another, over transfer prices in particular. Believing that \n",
            "conventional management had stifled innovation, Jobs, in \n",
            "his first year returning as CEO, laid off the general managers \n",
            "of all the business units (in a single day), put the entire com-\n",
            "pany under one P&L, and combined the disparate functional \n",
            "departments of the business units into one functional organi-\n",
            "zation. (See the exhibit “ Apple’s Functional Organization. ”)\n",
            "The adoption of a functional structure may have been \n",
            "un\n",
            " surprisin\n",
            "g for a company of Apple’s size at the time. What is \n",
            "surprising—in fact, remarkable—is that Apple retains it today, \n",
            "even though the company is nearly 40 times as large in terms \n",
            "of revenue and far more complex than it was in 1998. Senior \n",
            "vice presidents are in charge of functions, not products. As \n",
            "was the case with Jobs before him, CEO Tim Cook occupies the \n",
            "only position on the organizational chart where the design, \n",
            "engineering, operations, marketing, and retail of any of Apple’s \n",
            "main products meet. In effect, besides the CEO, the company \n",
            "operates with no conventional general managers: people \n",
            "who control an entire process from product development \n",
            "through sales and are judged according to a P&L statement.\n",
            "Business history and organizational theory make the case \n",
            "that as entrepreneurial firms grow large and complex, they \n",
            "must shift from a functional to a multidivisional structure to \n",
            "align accountability and control and prevent the congestion \n",
            "that occurs when countless decisions flow up the org chart \n",
            "to the very top. Giving business unit leaders full control over \n",
            "key functions allows them to do what is best to meet the \n",
            "needs of their individual units’ customers and maximize \n",
            "their results, and it enables the executives overseeing them \n",
            "to assess their performance. As the Harvard Business School \n",
            "historian Alfred Chandler documented, U.S. companies such \n",
            "as DuPont and General Motors moved from a functional to \n",
            "a multidivisional structure in the early 20th century. By the \n",
            "latter half of the century the vast majority of large corpora-\n",
            "tions had followed suit. Apple proves that this conventional \n",
            "approach is not necessary and that the functional structure \n",
            "may benefit companies facing tremendous technological \n",
            "change and industry upheaval.\n",
            "Apple’s commitment to a functional organization does \n",
            "not mean that its structure has remained static. As the \n",
            "importance of artificial intelligence and other new areas has \n",
            "increased, that structure has changed. Here we discuss the \n",
            "innovation benefits and leadership challenges of Apple’s \n",
            "distinctive and ever-evolving organizational model, which \n",
            "may be useful for individuals and companies wanting to \n",
            "better understand how to succeed in rapidly changing \n",
            "environments.\n",
            "THE CHALLENGE\n",
            "Major companies \n",
            "competing in many \n",
            "industries struggle to stay \n",
            "abreast of rapidly  \n",
            "changing technologies.\n",
            "ONE MAJOR CAUSE\n",
            "They are typically organized into business \n",
            "units, each with its own set of functions.  \n",
            "Thus the key decision makers—the unit \n",
            "leaders—lack a deep understanding of all  \n",
            "the domains that answer to them.\n",
            "THE APPLE MODEL\n",
            "The company is organized around \n",
            "functions, and expertise aligns with \n",
            "decision rights. Leaders are cross-\n",
            "functionally collaborative and deeply \n",
            "knowledgeable about details.\n",
            "IDEA IN BRIEF\n",
            "Apple is\n",
            "ORGANIZATIONAL \n",
            "CULTURE\n",
            "COPYRIGHT © 2020 HARVARD BUSINESS SCHOOL PUBLISHING CORPORATION. ALL RIGHTS RESERVED.\n",
            "4\n",
            "Harvard Business Review\n",
            "November–December 2020\n",
            "This article is made available to you with compliments of Apple Inc for your personal use. Further posting, copying or distribution is not permitted.' metadata={'producer': 'Adobe PDF Library 15.0 (via http://bfo.com/products/pdf?version=2.23.5-r33279)', 'creator': 'Adobe InDesign 14.0 (Macintosh)', 'creationdate': '2020-10-05T14:18:42-04:00', 'moddate': '2020-12-01T18:37:49+00:00', 'trapped': '/False', 'source': '/content/HBR_How_Apple_Is_Organized_For_Innovation-4 (2).pdf', 'total_pages': 11, 'page': 3, 'page_label': '4'}\n",
            "Page Number: {5}\n",
            "page_content='WHY A FUNCTIONAL ORGANIZATION?\n",
            "Apple’s main purpose is to create products that enrich \n",
            "people’s daily lives. That involves not only developing \n",
            "entirely new product categories such as the iPhone and the \n",
            "Apple Watch, but also continually innovating within those \n",
            "categories. Perhaps no product feature better reflects Apple’s \n",
            "commitment to continuous innovation than the iPhone cam-\n",
            "era. When the iPhone was introduced, in 2007, Steve Jobs \n",
            "devoted only six seconds to its camera in the annual keynote \n",
            "event for unveiling new products. Since then iPhone camera \n",
            "technology has contributed to the photography industry \n",
            "with a stream of innovations: High dynamic range imaging \n",
            "(2010), panorama photos (2012), True Tone flash (2013), opti-\n",
            "cal image stabilization (2015), the dual-lens camera (2016), \n",
            "portrait mode (2016), portrait lighting (2017), and night mode \n",
            "(2019) are but a few of the improvements.\n",
            "To create such innovations, Apple relies on a structure \n",
            "that centers on functional expertise. Its fundamental belief \n",
            "is that those with the most expertise and experience in a \n",
            "domain should have decision rights for that domain. This \n",
            "is based on two views: First, Apple competes in markets \n",
            "where the rates of technological change and disruption are \n",
            "high, so it must rely on the judgment and intuition of people \n",
            "with deep knowledge of the technologies responsible for \n",
            "disruption. Long before it can get market feedback and solid \n",
            "market forecasts, the company must make bets about which \n",
            "technologies and designs are likely to succeed in smart-\n",
            "phones, computers, and so on. Relying on technical experts \n",
            "rather than general managers increases the odds that those \n",
            "bets will pay off.\n",
            "Second, Apple’s commitment to offer the best possible \n",
            "products would be undercut if short-term profit and cost \n",
            "ABOUT THE ART\n",
            "Apple Park, Apple’s corporate headquarters in  \n",
            "Cupertino, California, opened in 2017.\n",
            "Mikael Jansson/Trunk Archive\n",
            "FOR ARTICLE REPRINTS CALL 800-988-0886 OR 617-783-7500, OR VISIT HBR.ORG\n",
            "Harvard Business Review\n",
            "November–December 2020  5\n",
            "This article is made available to you with compliments of Apple Inc for your personal use. Further posting, copying or distribution is not permitted.' metadata={'producer': 'Adobe PDF Library 15.0 (via http://bfo.com/products/pdf?version=2.23.5-r33279)', 'creator': 'Adobe InDesign 14.0 (Macintosh)', 'creationdate': '2020-10-05T14:18:42-04:00', 'moddate': '2020-12-01T18:37:49+00:00', 'trapped': '/False', 'source': '/content/HBR_How_Apple_Is_Organized_For_Innovation-4 (2).pdf', 'total_pages': 11, 'page': 4, 'page_label': '5'}\n"
          ]
        }
      ],
      "source": [
        "for i in range(5):\n",
        "  print(\"Page Number:\",{i+1},end='\\n')\n",
        "  print(content[i])"
      ]
    },
    {
      "cell_type": "markdown",
      "metadata": {
        "id": "9NMMJXtwAa_u"
      },
      "source": [
        "##Chunking"
      ]
    },
    {
      "cell_type": "code",
      "execution_count": null,
      "metadata": {
        "id": "ZDczmkf4AdQf"
      },
      "outputs": [],
      "source": [
        "text_splitter=RecursiveCharacterTextSplitter.from_tiktoken_encoder(\n",
        "    encoding_name='cl100k_base',\n",
        "    chunk_size=512,\n",
        "    chunk_overlap=20\n",
        ")"
      ]
    },
    {
      "cell_type": "code",
      "execution_count": null,
      "metadata": {
        "colab": {
          "base_uri": "https://localhost:8080/"
        },
        "id": "vZE6cjmDAfqY",
        "outputId": "4437125a-9bec-4804-ea88-016aabfcd589"
      },
      "outputs": [
        {
          "name": "stdout",
          "output_type": "stream",
          "text": [
            "25\n"
          ]
        }
      ],
      "source": [
        "text_chunks=text_splitter.split_documents(documents=content)\n",
        "print(len(text_chunks))"
      ]
    },
    {
      "cell_type": "code",
      "execution_count": null,
      "metadata": {
        "colab": {
          "base_uri": "https://localhost:8080/"
        },
        "id": "041gDx5tYKhR",
        "outputId": "3409ef90-2b4c-4e09-f3b5-a9264c69c46a"
      },
      "outputs": [
        {
          "name": "stdout",
          "output_type": "stream",
          "text": [
            "page_content='REPRINT R2006F\n",
            "PUBLISHED IN HBR\n",
            "NOVEMBER–DECEMBER 2020\n",
            "ARTICLEORGANIZATIONAL CULTURE\n",
            "How Apple Is \n",
            "Organized  \n",
            "for Innovation\n",
            "It’s about experts leading experts. \n",
            "by Joel M. Podolny and Morten T. Hansen\n",
            "This article is made available to you with compliments of Apple Inc for your personal use. Further posting, copying or distribution is not permitted.' metadata={'producer': 'Adobe PDF Library 15.0 (via http://bfo.com/products/pdf?version=2.23.5-r33279)', 'creator': 'Adobe InDesign 14.0 (Macintosh)', 'creationdate': '2020-10-05T14:18:42-04:00', 'moddate': '2020-12-01T18:37:49+00:00', 'trapped': '/False', 'source': '/content/HBR_How_Apple_Is_Organized_For_Innovation-4 (2).pdf', 'total_pages': 11, 'page': 0, 'page_label': '1'}\n"
          ]
        }
      ],
      "source": [
        "print(text_chunks[0])"
      ]
    },
    {
      "cell_type": "code",
      "execution_count": null,
      "metadata": {
        "colab": {
          "base_uri": "https://localhost:8080/"
        },
        "id": "Lp2Pxne6YYiR",
        "outputId": "014c830e-8bde-4627-ebf8-eedd8f9d935e"
      },
      "outputs": [
        {
          "name": "stdout",
          "output_type": "stream",
          "text": [
            "page_content='2\n",
            "Harvard Business Review\n",
            "November–December 2020\n",
            "This article is made available to you with compliments of Apple Inc for your personal use. Further posting, copying or distribution is not permitted.' metadata={'producer': 'Adobe PDF Library 15.0 (via http://bfo.com/products/pdf?version=2.23.5-r33279)', 'creator': 'Adobe InDesign 14.0 (Macintosh)', 'creationdate': '2020-10-05T14:18:42-04:00', 'moddate': '2020-12-01T18:37:49+00:00', 'trapped': '/False', 'source': '/content/HBR_How_Apple_Is_Organized_For_Innovation-4 (2).pdf', 'total_pages': 11, 'page': 1, 'page_label': '2'}\n"
          ]
        }
      ],
      "source": [
        "print(text_chunks[1])"
      ]
    },
    {
      "cell_type": "markdown",
      "metadata": {
        "id": "M27zwscpA9DG"
      },
      "source": [
        "##Embedding"
      ]
    },
    {
      "cell_type": "code",
      "execution_count": null,
      "metadata": {
        "id": "1qPW4WFxQSjM"
      },
      "outputs": [],
      "source": [
        "# 🔧 Fix numpy + install all required packages\n",
        "# !pip uninstall -y numpy\n",
        "# !pip install numpy==1.25.2\n",
        "# !pip install -U torch transformers sentence-transformers langchain-community chromadb\n"
      ]
    },
    {
      "cell_type": "code",
      "execution_count": null,
      "metadata": {
        "colab": {
          "base_uri": "https://localhost:8080/",
          "height": 513,
          "referenced_widgets": [
            "8ee0cea6402c445d8b633f207877187a",
            "122d6c8155254f4c9016dd3ff555517d",
            "237c9e9fef5b4941b2e9381be890226f",
            "19af91a2327a4e2a8981537412d915ec",
            "45e55ea1f0c0464980745890933bfab8",
            "27d9792e403848d8999a02ae61b8ae8c",
            "f30c17a3d075487cbe93d9262bfbc612",
            "c36efc3e9c7b43b488e6ac4bc9c72018",
            "676e8aa1852f43cead9d30ec311d3e42",
            "68e049e9e949422cbfb2ce25056b9792",
            "5552d590a7f54612aac744d4da104610",
            "26a5ac64fb4949ed95c8aa93fc811c32",
            "9a723f0895634f26bf0caf8730905129",
            "4c2d9de4e4444d79950a93381dea0dde",
            "2932484d78fe4480b6997929fcaf177d",
            "805d6001998941beb8fcb4a3db479dda",
            "54b838a3efad43dd8d470f9c2fd9e346",
            "3e7d79da58c64fe18a009f585bcd8a7e",
            "ed0c356351e9451faae553a706091e0c",
            "4786588c03004b72a095a3b1595b514e",
            "bec924a646d146459716804e25ea5377",
            "943c052fcd7049b2b4e4a3d7acfffd92",
            "7e46d796cc6542758c171a0f5cd6978c",
            "5230f97fe5944e108b7cfcbe7ef067e3",
            "9ca6ff0b68084c34bbf9eb1d0a5d0913",
            "967bee87f1f843f7999dbc93f10f4c5f",
            "e597c78d07c842a18cf2ad88e8987ef0",
            "81bd2dcfe4494dd5808c3e9805bad0ae",
            "985ce0c85aa049e9a0bcc7d3a289d60d",
            "4ef7155225714374b90ae9effac65a5f",
            "180bf5f8861341fa9c7344be49ecff91",
            "3a824ca1297148828b77714589353c0c",
            "2f75cdc6c2814fb1817ceed2aab6c125",
            "33b51c6be2d04c39aa803bc9d053aba5",
            "8f5213b41a37463692473d8d02fecf4d",
            "a3f869447b624575949e0d38caa98b55",
            "c2a0069059114886937773609d5e5683",
            "952e5eb4352f4d25889edfd5cd6d1b44",
            "43bfb6ff66764aca97ff1749c666f6ab",
            "130fbb604c8445939bb4de891b0498a2",
            "9ae6aaec13654d1fb12632746c8eb6f5",
            "125969e4db2f4cdb8fb49602256a5318",
            "f3487dbe365b4efcbc53d8a510ed20f8",
            "884e77325f614f7382f136b311ab5b62",
            "f7f030013a6c48e6ba6cb0ea78d993c7",
            "1a72a5b8c8984258af7bce564f118996",
            "1883cc6e9aa9449ab4e49d7797edac45",
            "e8902b7cfb844485aae3ce69bdd1e1fa",
            "bfb94ea0f89d4b46b386f9fbf8503371",
            "d41ad5493ccc41fd8cafcfa3e32c8c96",
            "09c71ca8b39648fdaf36eebfef1565ca",
            "b28133f9062f4b19930739076df07375",
            "6843b813fd2e476c905d83b861cdf139",
            "1ba0b33cabb544808f245bb67b4fb4be",
            "6346c3966a9a4e68937a4a75f29d430e",
            "623630fb8791485399f00df171a6bb7a",
            "34b21cd21e5c406c80a296c03aaeefff",
            "84ebd40f6a9d44da85c7e18e1c4a8b23",
            "79c7a16b63e448cca44b588b05c9e0af",
            "ce3a8cc287394f8b8883dee167691e24",
            "f6b414b8799f4d479fd27d1cf0e1299b",
            "f9083ce959a04ff096d00ae621c58489",
            "182f2c0cce74441984d4289ac9d36801",
            "623a092c3ef84b889a14202ff6830cdd",
            "1f8516ee9b344bde934913d5876f461e",
            "7d14464c1ff34036a7cb85af64b7fc55",
            "48782e2f8b8e4f5687d25d50d7efe294",
            "f84538411ad147a99984bdd15bb28495",
            "b61c3ff2af9d4d91a3a3f6012017a88e",
            "21ea0eea0b18443dba1d162a0cf1703d",
            "655fec879b6c4f61ad707b3a9a970f09",
            "4ee5f4997f274d7e96e62e6ed904b83e",
            "1fa23755d05344f89333468c4b905706",
            "26fc4aa8062444c0859ba91f18f81029",
            "4c96de97967c42e7a33b656d8ee7502a",
            "e37a9d4f9d3048cebf25fb098692b5e6",
            "4053a7f50c1a49d3b011f138f7c22a4c",
            "1a4e051b8b2f4a7e93e8690d510bf6a0",
            "522b48f0e84243ab993f6775173c38a2",
            "1876364499ef478b80ca1685fcad91b8",
            "e9bae5292e614e048d4be3d1d47b6d88",
            "1c68d806adaa4c8abbc3df97c9f026c5",
            "4af39dde8d5244baab193ba0f0c12200",
            "d4fff690be6b4accb5ef6bcdf1093d4b",
            "5085acde29e84a1383ef75c5797cc076",
            "7eeafdc3918949c7b3da5f23d04814fd",
            "6ad904010c614367b580ac8ce687c226",
            "102e7de2e44a405883fbdf09c95802e8",
            "6d12c6046b16467a97c26f9316ab03d3",
            "dcb9930279384449b574ac7cdd7a498e",
            "40e68d0e1d8c422ca1260e83fccafe04",
            "2e62fde5f7a64cb09cc5cfe3f93a78eb",
            "c8835f2adc164635a77bf85e23eb7eaf",
            "aa31d5711b45443fa4f958f1d27fac99",
            "48b52a50bbf14f94902c2d856e89efeb",
            "043f9d8d824948a28c440e044857a1a6",
            "3bd78c9e89354bce95b579037135ee71",
            "2a27713cc6854ecab01d06503dcef36b",
            "3d5467abdf26490f8c73d870197a3d2a",
            "d577adbe14064a5db800ede377cd8c6a",
            "6de26d55a3034dc1830a23a270ce4069",
            "01e8c413be9643918038e9198354b844",
            "667c5e47e7804c8eb4f856b05a400683",
            "ea44381f8cd0429fa14d7cd8486f43cd",
            "ff157bef94e1447ab413c0cfe8034a6e",
            "47a01fc0a935433eb7de65df3a57e56a",
            "01a2a17e717a47ef9f24910fd8c0eeb2",
            "68b2e4c31dcc4f22b2d566229f38bfca",
            "77456fa545f24f7a8d39bb23193b16d4",
            "e418e89a9e8c4465b897ec234f51d07b"
          ]
        },
        "id": "LvQwDIF2N8HL",
        "outputId": "2d337b26-e5d4-4fb8-cb34-7a3795a7fa66"
      },
      "outputs": [
        {
          "name": "stderr",
          "output_type": "stream",
          "text": [
            "/tmp/ipython-input-2027095104.py:7: LangChainDeprecationWarning: The class `HuggingFaceEmbeddings` was deprecated in LangChain 0.2.2 and will be removed in 1.0. An updated version of the class exists in the :class:`~langchain-huggingface package and should be used instead. To use it run `pip install -U :class:`~langchain-huggingface` and import as `from :class:`~langchain_huggingface import HuggingFaceEmbeddings``.\n",
            "  embedding_model = SentenceTransformerEmbeddings(model_name='thenlper/gte-large')\n",
            "/usr/local/lib/python3.12/dist-packages/huggingface_hub/utils/_auth.py:94: UserWarning: \n",
            "The secret `HF_TOKEN` does not exist in your Colab secrets.\n",
            "To authenticate with the Hugging Face Hub, create a token in your settings tab (https://huggingface.co/settings/tokens), set it as secret in your Google Colab and restart your session.\n",
            "You will be able to reuse this secret in all of your notebooks.\n",
            "Please note that authentication is recommended but still optional to access public models or datasets.\n",
            "  warnings.warn(\n"
          ]
        },
        {
          "data": {
            "application/vnd.jupyter.widget-view+json": {
              "model_id": "8ee0cea6402c445d8b633f207877187a",
              "version_major": 2,
              "version_minor": 0
            },
            "text/plain": [
              "modules.json:   0%|          | 0.00/385 [00:00<?, ?B/s]"
            ]
          },
          "metadata": {},
          "output_type": "display_data"
        },
        {
          "data": {
            "application/vnd.jupyter.widget-view+json": {
              "model_id": "26a5ac64fb4949ed95c8aa93fc811c32",
              "version_major": 2,
              "version_minor": 0
            },
            "text/plain": [
              "README.md: 0.00B [00:00, ?B/s]"
            ]
          },
          "metadata": {},
          "output_type": "display_data"
        },
        {
          "data": {
            "application/vnd.jupyter.widget-view+json": {
              "model_id": "7e46d796cc6542758c171a0f5cd6978c",
              "version_major": 2,
              "version_minor": 0
            },
            "text/plain": [
              "sentence_bert_config.json:   0%|          | 0.00/57.0 [00:00<?, ?B/s]"
            ]
          },
          "metadata": {},
          "output_type": "display_data"
        },
        {
          "data": {
            "application/vnd.jupyter.widget-view+json": {
              "model_id": "33b51c6be2d04c39aa803bc9d053aba5",
              "version_major": 2,
              "version_minor": 0
            },
            "text/plain": [
              "config.json:   0%|          | 0.00/619 [00:00<?, ?B/s]"
            ]
          },
          "metadata": {},
          "output_type": "display_data"
        },
        {
          "data": {
            "application/vnd.jupyter.widget-view+json": {
              "model_id": "f7f030013a6c48e6ba6cb0ea78d993c7",
              "version_major": 2,
              "version_minor": 0
            },
            "text/plain": [
              "model.safetensors:   0%|          | 0.00/670M [00:00<?, ?B/s]"
            ]
          },
          "metadata": {},
          "output_type": "display_data"
        },
        {
          "data": {
            "application/vnd.jupyter.widget-view+json": {
              "model_id": "623630fb8791485399f00df171a6bb7a",
              "version_major": 2,
              "version_minor": 0
            },
            "text/plain": [
              "tokenizer_config.json:   0%|          | 0.00/342 [00:00<?, ?B/s]"
            ]
          },
          "metadata": {},
          "output_type": "display_data"
        },
        {
          "data": {
            "application/vnd.jupyter.widget-view+json": {
              "model_id": "48782e2f8b8e4f5687d25d50d7efe294",
              "version_major": 2,
              "version_minor": 0
            },
            "text/plain": [
              "vocab.txt: 0.00B [00:00, ?B/s]"
            ]
          },
          "metadata": {},
          "output_type": "display_data"
        },
        {
          "data": {
            "application/vnd.jupyter.widget-view+json": {
              "model_id": "1a4e051b8b2f4a7e93e8690d510bf6a0",
              "version_major": 2,
              "version_minor": 0
            },
            "text/plain": [
              "tokenizer.json: 0.00B [00:00, ?B/s]"
            ]
          },
          "metadata": {},
          "output_type": "display_data"
        },
        {
          "data": {
            "application/vnd.jupyter.widget-view+json": {
              "model_id": "6d12c6046b16467a97c26f9316ab03d3",
              "version_major": 2,
              "version_minor": 0
            },
            "text/plain": [
              "special_tokens_map.json:   0%|          | 0.00/125 [00:00<?, ?B/s]"
            ]
          },
          "metadata": {},
          "output_type": "display_data"
        },
        {
          "data": {
            "application/vnd.jupyter.widget-view+json": {
              "model_id": "d577adbe14064a5db800ede377cd8c6a",
              "version_major": 2,
              "version_minor": 0
            },
            "text/plain": [
              "config.json:   0%|          | 0.00/191 [00:00<?, ?B/s]"
            ]
          },
          "metadata": {},
          "output_type": "display_data"
        },
        {
          "name": "stdout",
          "output_type": "stream",
          "text": [
            "✅ Embedding model loaded successfully!\n"
          ]
        }
      ],
      "source": [
        "\n",
        "# 🔁 Restart runtime manually after this cell finishes running\n",
        "# (Colab: Runtime → Restart runtime)\n",
        "\n",
        "# ✅ Then re-run these lines below after restart\n",
        "from langchain_community.embeddings import SentenceTransformerEmbeddings\n",
        "\n",
        "embedding_model = SentenceTransformerEmbeddings(model_name='thenlper/gte-large')\n",
        "print(\"✅ Embedding model loaded successfully!\")\n"
      ]
    },
    {
      "cell_type": "code",
      "execution_count": null,
      "metadata": {
        "colab": {
          "base_uri": "https://localhost:8080/"
        },
        "id": "af8b5c5b",
        "outputId": "00facec9-f9af-4dcc-f9b6-2a9e21b25505"
      },
      "outputs": [
        {
          "name": "stdout",
          "output_type": "stream",
          "text": [
            "Requirement already satisfied: numpy in /usr/local/lib/python3.12/dist-packages (2.3.3)\n",
            "Requirement already satisfied: scipy in /usr/local/lib/python3.12/dist-packages (1.16.2)\n"
          ]
        }
      ],
      "source": [
        "!pip install --upgrade numpy scipy"
      ]
    },
    {
      "cell_type": "code",
      "execution_count": null,
      "metadata": {
        "id": "f7cd24ba"
      },
      "outputs": [],
      "source": [
        "!pip install sentence-transformers==2.8.1 numpy==1.26.2 scipy==1.12.0 --force-reinstall --upgrade --no-cache-dir -q 2>/dev/null"
      ]
    },
    {
      "cell_type": "code",
      "execution_count": null,
      "metadata": {
        "id": "MmZZ4oGrAiQ3"
      },
      "outputs": [],
      "source": [
        "from langchain_community.embeddings import SentenceTransformerEmbeddings\n",
        "import sentence_transformers\n",
        "embedding_model = SentenceTransformerEmbeddings(model_name='thenlper/gte-large')"
      ]
    },
    {
      "cell_type": "code",
      "execution_count": null,
      "metadata": {
        "id": "6tmJ9_t4AiOb"
      },
      "outputs": [],
      "source": [
        "embedding_1=embedding_model.embed_query(text_chunks[0].page_content)\n",
        "embedding_2=embedding_model.embed_query(text_chunks[1].page_content)"
      ]
    },
    {
      "cell_type": "code",
      "execution_count": null,
      "metadata": {
        "colab": {
          "base_uri": "https://localhost:8080/"
        },
        "id": "kaHONV41AiMZ",
        "outputId": "1d863914-3c81-4478-d90e-e3ea491c1db5"
      },
      "outputs": [
        {
          "name": "stdout",
          "output_type": "stream",
          "text": [
            "Dimension of the vector 1024\n"
          ]
        },
        {
          "data": {
            "text/plain": [
              "True"
            ]
          },
          "execution_count": 15,
          "metadata": {},
          "output_type": "execute_result"
        }
      ],
      "source": [
        "print(\"Dimension of the vector\",len(embedding_1))\n",
        "len(embedding_1)==len(embedding_2)"
      ]
    },
    {
      "cell_type": "markdown",
      "metadata": {
        "id": "86KqWc8zJFsF"
      },
      "source": [
        "* The embedding model provides a fixed-length vector for any number of chunks.  \n",
        "* This is necessary because we want to compare them for similarity."
      ]
    },
    {
      "cell_type": "markdown",
      "metadata": {
        "id": "kOQExZ9VJK0_"
      },
      "source": [
        "## Vector Database"
      ]
    },
    {
      "cell_type": "code",
      "execution_count": null,
      "metadata": {
        "id": "7PArF3ixAiKn"
      },
      "outputs": [],
      "source": [
        "out_dir = 'apple_db'\n",
        "\n",
        "if not os.path.exists(out_dir):\n",
        "  os.makedirs(out_dir)"
      ]
    },
    {
      "cell_type": "code",
      "execution_count": null,
      "metadata": {
        "id": "ewBHx1yQJNxN"
      },
      "outputs": [],
      "source": [
        "vectorstore = Chroma.from_documents(\n",
        "    text_chunks,\n",
        "    embedding_model,\n",
        "    persist_directory=out_dir\n",
        ")"
      ]
    },
    {
      "cell_type": "code",
      "execution_count": null,
      "metadata": {
        "colab": {
          "base_uri": "https://localhost:8080/"
        },
        "id": "wrqDO1AAJUOv",
        "outputId": "4182b35d-3dca-426d-9c10-385cfe00c5bf"
      },
      "outputs": [
        {
          "name": "stderr",
          "output_type": "stream",
          "text": [
            "/tmp/ipython-input-2756559696.py:1: LangChainDeprecationWarning: The class `Chroma` was deprecated in LangChain 0.2.9 and will be removed in 1.0. An updated version of the class exists in the :class:`~langchain-chroma package and should be used instead. To use it run `pip install -U :class:`~langchain-chroma` and import as `from :class:`~langchain_chroma import Chroma``.\n",
            "  vectorstore = Chroma(persist_directory=out_dir,embedding_function=embedding_model)\n"
          ]
        }
      ],
      "source": [
        "vectorstore = Chroma(persist_directory=out_dir,embedding_function=embedding_model)"
      ]
    },
    {
      "cell_type": "code",
      "execution_count": null,
      "metadata": {
        "colab": {
          "base_uri": "https://localhost:8080/"
        },
        "id": "E-3S20n3Res9",
        "outputId": "f29dcadf-2eab-4552-acb7-4dce42c40c5e"
      },
      "outputs": [
        {
          "data": {
            "text/plain": [
              "HuggingFaceEmbeddings(client=SentenceTransformer(\n",
              "  (0): Transformer({'max_seq_length': 512, 'do_lower_case': False, 'architecture': 'BertModel'})\n",
              "  (1): Pooling({'word_embedding_dimension': 1024, 'pooling_mode_cls_token': False, 'pooling_mode_mean_tokens': True, 'pooling_mode_max_tokens': False, 'pooling_mode_mean_sqrt_len_tokens': False, 'pooling_mode_weightedmean_tokens': False, 'pooling_mode_lasttoken': False, 'include_prompt': True})\n",
              "  (2): Normalize()\n",
              "), model_name='thenlper/gte-large', cache_folder=None, model_kwargs={}, encode_kwargs={}, multi_process=False, show_progress=False)"
            ]
          },
          "execution_count": 24,
          "metadata": {},
          "output_type": "execute_result"
        }
      ],
      "source": [
        "vectorstore.embeddings"
      ]
    },
    {
      "cell_type": "code",
      "execution_count": null,
      "metadata": {
        "colab": {
          "base_uri": "https://localhost:8080/"
        },
        "id": "laT8dY_URhGP",
        "outputId": "e795f542-6973-47bb-c183-a224fbadc1a5"
      },
      "outputs": [
        {
          "data": {
            "text/plain": [
              "[Document(metadata={'moddate': '2020-12-01T18:37:49+00:00', 'creationdate': '2020-10-05T14:18:42-04:00', 'source': '/content/HBR_How_Apple_Is_Organized_For_Innovation-4 (2).pdf', 'page_label': '5', 'total_pages': 11, 'producer': 'Adobe PDF Library 15.0 (via http://bfo.com/products/pdf?version=2.23.5-r33279)', 'page': 4, 'creator': 'Adobe InDesign 14.0 (Macintosh)', 'trapped': '/False'}, page_content='WHY A FUNCTIONAL ORGANIZATION?\\nApple’s main purpose is to create products that enrich \\npeople’s daily lives. That involves not only developing \\nentirely new product categories such as the iPhone and the \\nApple Watch, but also continually innovating within those \\ncategories. Perhaps no product feature better reflects Apple’s \\ncommitment to continuous innovation than the iPhone cam-\\nera. When the iPhone was introduced, in 2007, Steve Jobs \\ndevoted only six seconds to its camera in the annual keynote \\nevent for unveiling new products. Since then iPhone camera \\ntechnology has contributed to the photography industry \\nwith a stream of innovations: High dynamic range imaging \\n(2010), panorama photos (2012), True Tone flash (2013), opti-\\ncal image stabilization (2015), the dual-lens camera (2016), \\nportrait mode (2016), portrait lighting (2017), and night mode \\n(2019) are but a few of the improvements.\\nTo create such innovations, Apple relies on a structure \\nthat centers on functional expertise. Its fundamental belief \\nis that those with the most expertise and experience in a \\ndomain should have decision rights for that domain. This \\nis based on two views: First, Apple competes in markets \\nwhere the rates of technological change and disruption are \\nhigh, so it must rely on the judgment and intuition of people \\nwith deep knowledge of the technologies responsible for \\ndisruption. Long before it can get market feedback and solid \\nmarket forecasts, the company must make bets about which \\ntechnologies and designs are likely to succeed in smart-\\nphones, computers, and so on. Relying on technical experts \\nrather than general managers increases the odds that those \\nbets will pay off.\\nSecond, Apple’s commitment to offer the best possible \\nproducts would be undercut if short-term profit and cost \\nABOUT THE ART\\nApple Park, Apple’s corporate headquarters in  \\nCupertino, California, opened in 2017.\\nMikael Jansson/Trunk Archive\\nFOR ARTICLE REPRINTS CALL 800-988-0886 OR 617-783-7500, OR VISIT HBR.ORG\\nHarvard Business Review\\nNovember–December 2020 \\u20095'),\n",
              " Document(metadata={'total_pages': 11, 'trapped': '/False', 'page': 3, 'creator': 'Adobe InDesign 14.0 (Macintosh)', 'page_label': '4', 'creationdate': '2020-10-05T14:18:42-04:00', 'producer': 'Adobe PDF Library 15.0 (via http://bfo.com/products/pdf?version=2.23.5-r33279)', 'moddate': '2020-12-01T18:37:49+00:00', 'source': '/content/HBR_How_Apple_Is_Organized_For_Innovation-4 (2).pdf'}, page_content='WELL KNOWN FOR ITS innovations in hardware, software, \\nand services. Thanks to them, it grew from some 8,000 \\nemployees and $7\\n \\nbillion in revenue in 1997, the year Steve \\nJobs returned, to 137,000 employees and $260\\n \\nbillion in \\nrevenue in 2019. Much less well known are the organizational \\ndesign and the associated leadership model that have played \\na crucial role in the company’s innovation success.\\nWhen Jobs arrived back at Apple, it had a conventional \\nstructure for a company of its size and scope. It was divided \\ninto business units, each with its own P&L responsibilities. \\nGeneral managers ran the Macintosh products group, the \\ninformation appliances division, and the server products \\ndivision, among others. As is often the case with decentral-\\nized business units, managers were inclined to fight with \\none another, over transfer prices in particular. Believing that \\nconventional management had stifled innovation, Jobs, in \\nhis first year returning as CEO, laid off the general managers \\nof all the business units (in a single day), put the entire com-\\npany under one P&L, and combined the disparate functional \\ndepartments of the business units into one functional organi-\\nzation. (See the exhibit “ Apple’s Functional Organization. ”)\\nThe adoption of a functional structure may have been \\nun\\n surprisin\\ng for a company of Apple’s size at the time. What is \\nsurprising—in fact, remarkable—is that Apple retains it today, \\neven though the company is nearly 40 times as large in terms \\nof revenue and far more complex than it was in 1998. Senior \\nvice presidents are in charge of functions, not products. As \\nwas the case with Jobs before him, CEO Tim Cook occupies the \\nonly position on the organizational chart where the design, \\nengineering, operations, marketing, and retail of any of Apple’s \\nmain products meet. In effect, besides the CEO, the company \\noperates with no conventional general managers: people \\nwho control an entire process from product development \\nthrough sales and are judged according to a P&L statement.\\nBusiness history and organizational theory make the case \\nthat as entrepreneurial firms grow large and complex, they'),\n",
              " Document(metadata={'total_pages': 11, 'creator': 'Adobe InDesign 14.0 (Macintosh)', 'creationdate': '2020-10-05T14:18:42-04:00', 'moddate': '2020-12-01T18:37:49+00:00', 'trapped': '/False', 'page': 8, 'producer': 'Adobe PDF Library 15.0 (via http://bfo.com/products/pdf?version=2.23.5-r33279)', 'source': '/content/HBR_How_Apple_Is_Organized_For_Innovation-4 (2).pdf', 'page_label': '9'}, page_content='things, that these photos often had blurring at the edges of a \\nface but sharpness on the eyes. So they charged the algorithm \\nteams with achieving the same effect. When the teams suc-\\nceeded, they knew they had an acceptable standard.\\nAnother issue that emerged was the ability to preview a \\nportrait photo with a blurred background. The camera team \\nhad designed the feature so that users could see its effect on \\ntheir photos only after they had been taken, but the human \\ninterface (HI) design team pushed back, insisting that users \\nshould be able to see a “live preview” and get some guidance \\nabout how to make adjustments before taking the photo. \\nJohnnie Manzari, a member of the HI team, gave the camera \\nteam a demo. “When we saw the demo, we realized that this \\nis what we needed to do, ” Townsend told us. The members \\nof his camera hardware team weren’t sure they could do \\nit, but difficulty was not an acceptable excuse for failing to \\ndeliver what would clearly be a superior user experience. After \\nmonths of engineering effort, a key stakeholder, the video \\nengineering team (responsible for the low-level software that \\ncontrols sensor and camera operations) found a way, and the \\ncollaboration paid off. Portrait mode was central to Apple’s \\nmarketing of the iPhone 7 Plus. It proved a major reason for \\nusers’ choosing to buy and delighting in the use of the phone.\\nAs this example shows, Apple’s collaborative debate \\ninvolves people from various functions who disagree, push \\nback, promote or reject ideas, and build on one another’s \\nideas to come up with the best solutions. It requires open-\\n \\nmindedness fr\\nom senior leaders. It also requires those \\nleaders to inspire, prod, or influence colleagues in other  \\nareas to contribute toward achieving their goals.\\nWhile Townsend is accountable for how great the camera \\nis, he needed dozens of other teams—each of which had a \\nlong list of its own commitments—to contribute their time and \\neffort to the portrait mode proj\\n ect. A\\nt Apple that’s known as \\naccountability without control: You’re accountable for making \\nthe proj\\n ect succeed ev\\nen though you don’t control all the other')]"
            ]
          },
          "execution_count": 25,
          "metadata": {},
          "output_type": "execute_result"
        }
      ],
      "source": [
        "vectorstore.similarity_search(\"Apple Steve Jobs iPhone \",k=3)"
      ]
    },
    {
      "cell_type": "markdown",
      "metadata": {
        "id": "xu5l63HvRlZo"
      },
      "source": [
        "* From the retrieved chunks, we observe that all the chunks are related to the key terms [ 'Apple', 'Steve Jobs', 'iPhone' ]."
      ]
    },
    {
      "cell_type": "markdown",
      "metadata": {
        "id": "5Tf2NF7kRm3D"
      },
      "source": [
        "## Retriever"
      ]
    },
    {
      "cell_type": "code",
      "execution_count": null,
      "metadata": {
        "id": "x3VligjmR-hq"
      },
      "outputs": [],
      "source": [
        "retriever = vectorstore.as_retriever(\n",
        "    search_type='similarity',\n",
        "    search_kwargs={'k': 2}\n",
        ")"
      ]
    },
    {
      "cell_type": "code",
      "execution_count": null,
      "metadata": {
        "colab": {
          "base_uri": "https://localhost:8080/"
        },
        "id": "N2y1YD82RisL",
        "outputId": "9d493d9a-994c-4b1b-f03f-0fe959f53256"
      },
      "outputs": [
        {
          "name": "stderr",
          "output_type": "stream",
          "text": [
            "/tmp/ipython-input-3586710401.py:1: LangChainDeprecationWarning: The method `BaseRetriever.get_relevant_documents` was deprecated in langchain-core 0.1.46 and will be removed in 1.0. Use :meth:`~invoke` instead.\n",
            "  rel_docs = retriever.get_relevant_documents(\"How does does Apple develop and ship products that requires good coordination between the teams?\")\n"
          ]
        },
        {
          "data": {
            "text/plain": [
              "[Document(metadata={'total_pages': 11, 'producer': 'Adobe PDF Library 15.0 (via http://bfo.com/products/pdf?version=2.23.5-r33279)', 'trapped': '/False', 'page_label': '8', 'moddate': '2020-12-01T18:37:49+00:00', 'source': '/content/HBR_How_Apple_Is_Organized_For_Innovation-4 (2).pdf', 'page': 7, 'creationdate': '2020-10-05T14:18:42-04:00', 'creator': 'Adobe InDesign 14.0 (Macintosh)'}, page_content='40 specialist teams: silicon design, camera software, reliabil-\\nity engineering, motion sensor hardware, video engineering, \\ncore motion, and camera sensor design, to name just a few. \\nHow on earth does Apple develop and ship products that \\nrequire such coordination? The answer is collaborative \\ndebate. Because no function is responsible for a product or a \\nservice on its own, cross-functional collaboration is crucial.\\nWhen debates reach an impasse, as some inevitably do, \\nhigher-level managers weigh in as tiebreakers, including at \\ntimes the CEO and the senior VPs. To do this at speed with \\nsufficient attention to detail is challenging for even the best \\nof leaders, making it all the more important that the company \\nfill many senior positions from within the ranks of its VPs, \\nwho have experience in Apple’s way of operating.\\nHowever, given Apple’s size and scope, even the executive \\nteam can resolve only a limited number of stalemates. The \\nmany horizontal dependencies mean that ineffective peer \\nrelationships at the VP and director levels have the potential \\nto undermine not only particular proj\\n ec\\nts but the entire \\ncompany. Consequently, for people to attain and remain in \\na leadership position within a function, they must be highly \\neffective collaborators.\\nThat doesn’t mean people can’t express their points of \\nview. Leaders are expected to hold strong, well-grounded \\nviews and advocate forcefully for them, yet also be willing  \\nto change their minds when presented with evidence \\nthat others’ views are better. Doing so is not always \\neasy, of course. A leader’s ability to be both partisan and \\nopen-minded is facilitated by two things: deep understand-\\ning of and devotion to the company’s values and common \\npurpose, and a commitment to separating how right from \\nhow hard a particular path is so that the difficulty of execut-\\ning a decision doesn’t prevent its being selected.\\nThe development of the iPhone’s portrait mode illustrates \\na fanatical attention to detail at the leadership level, intense \\ncollaborative debate among teams, and the power of a shared \\npurpose to shape and ultimately resolve debates. In 2009 \\nHubel had the idea of developing an iPhone feature that \\nwould allow people to take portrait photos with bokeh—'),\n",
              " Document(metadata={'page': 6, 'trapped': '/False', 'source': '/content/HBR_How_Apple_Is_Organized_For_Innovation-4 (2).pdf', 'producer': 'Adobe PDF Library 15.0 (via http://bfo.com/products/pdf?version=2.23.5-r33279)', 'creationdate': '2020-10-05T14:18:42-04:00', 'creator': 'Adobe InDesign 14.0 (Macintosh)', 'page_label': '7', 'moddate': '2020-12-01T18:37:49+00:00', 'total_pages': 11}, page_content='Apple is run. Leaders can push, probe, and “smell” an issue. \\nThey know which details are important and where to focus \\ntheir attention. Many people at Apple see it as liberating, \\neven exhilarating, to work for experts, who provide better \\nguidance and mentoring than a general manager would. \\nTogether, all can strive to do the best work of their lives in \\ntheir chosen area.\\nWillingness to collaboratively debate. Apple has \\nhundreds of specialist teams across the company, dozens of \\nwhich may be needed for even one key component of a new \\nproduct offering. For example, the dual-lens camera with \\nportrait mode required the collaboration of no fewer than  \\nApple leaders are expected to possess deep expertise, be immersed \\nin the details of their functions, and engage in collaborative debate.\\nORGANIZATIONAL \\nCULTURE\\nFOR ARTICLE REPRINTS CALL 800-988-0886 OR 617-783-7500, OR VISIT HBR.ORG\\nHarvard Business Review\\nNovember–December 2020 \\u20097\\nThis article is made available to you with compliments of Apple Inc for your personal use. Further posting, copying or distribution is not permitted.')]"
            ]
          },
          "execution_count": 27,
          "metadata": {},
          "output_type": "execute_result"
        }
      ],
      "source": [
        "rel_docs = retriever.get_relevant_documents(\"How does does Apple develop and ship products that requires good coordination between the teams?\")\n",
        "rel_docs"
      ]
    },
    {
      "cell_type": "markdown",
      "metadata": {
        "id": "Dt_JGC55SC-H"
      },
      "source": [
        "- We can observe that the two relevant chunks contain the answer to the query.  \n",
        "- If we increase the **`k`** value, there is a chance that we might find the answer in even more chunks.  \n",
        "- This is a hyperparameter that we need to tune to get the best context."
      ]
    },
    {
      "cell_type": "markdown",
      "metadata": {
        "id": "94MqUo3USFhU"
      },
      "source": [
        "- We can observe that the two relevant chunks contain the answer to the query.  \n",
        "- If we increase the **`k`** value, there is a chance that we might find the answer in even more chunks.  \n",
        "- This is a hyperparameter that we need to tune to get the best context.\n",
        "## Retriever"
      ]
    },
    {
      "cell_type": "markdown",
      "metadata": {
        "id": "8kg-sSCSSJs0"
      },
      "source": [
        "## Defining the Response Generator"
      ]
    },
    {
      "cell_type": "markdown",
      "metadata": {
        "id": "tO51fPSySR0O"
      },
      "source": [
        "## Downloading and Loading the model"
      ]
    },
    {
      "cell_type": "code",
      "execution_count": null,
      "metadata": {
        "id": "4d81QoCBSAd9"
      },
      "outputs": [],
      "source": [
        "model_name_or_path = \"TheBloke/Mistral-7B-Instruct-v0.2-GGUF\"\n",
        "model_basename = \"mistral-7b-instruct-v0.2.Q6_K.gguf\""
      ]
    },
    {
      "cell_type": "code",
      "execution_count": null,
      "metadata": {
        "colab": {
          "base_uri": "https://localhost:8080/",
          "height": 49,
          "referenced_widgets": [
            "b4256843f9b748c7b6b0462f1a080460",
            "59d9ab52d3894c0ea058f68aa68a88e6",
            "5ff03e6d503445c7b59b73c0b63d2498",
            "8fa8d2ea3bbd4d75a93ca71a28c8b946",
            "31dc5999b7724e4db3a10879a22017b2",
            "184a5d3be66a4bd6a8d4d5797cb9a6dc",
            "ef5c75dd6e074f6aa1167aea2a8b05bc",
            "b760033b8af0443285c79621eb3be92a",
            "99da4f0a8a374a78b69012a608b5c7d4",
            "285016eff7c844a1b4233d293383295d",
            "28c2cda4d0294b509fda658db03d8f5c"
          ]
        },
        "id": "eMYv3aAlSUKS",
        "outputId": "286545ed-7db4-4030-9e67-074bbfd71e01"
      },
      "outputs": [
        {
          "data": {
            "application/vnd.jupyter.widget-view+json": {
              "model_id": "b4256843f9b748c7b6b0462f1a080460",
              "version_major": 2,
              "version_minor": 0
            },
            "text/plain": [
              "mistral-7b-instruct-v0.2.Q6_K.gguf:   0%|          | 0.00/5.94G [00:00<?, ?B/s]"
            ]
          },
          "metadata": {},
          "output_type": "display_data"
        }
      ],
      "source": [
        "from huggingface_hub import hf_hub_download\n",
        "\n",
        "model_path = hf_hub_download(\n",
        "    repo_id=model_name_or_path,\n",
        "    filename=model_basename\n",
        ")"
      ]
    },
    {
      "cell_type": "code",
      "execution_count": null,
      "metadata": {
        "colab": {
          "base_uri": "https://localhost:8080/"
        },
        "id": "oPx5VM71SWRG",
        "outputId": "298516ab-ffbd-4d99-8738-632d360f256c"
      },
      "outputs": [
        {
          "name": "stderr",
          "output_type": "stream",
          "text": [
            "AVX = 1 | AVX_VNNI = 0 | AVX2 = 1 | AVX512 = 0 | AVX512_VBMI = 0 | AVX512_VNNI = 0 | FMA = 1 | NEON = 0 | ARM_FMA = 0 | F16C = 1 | FP16_VA = 0 | WASM_SIMD = 0 | BLAS = 1 | SSE3 = 1 | SSSE3 = 1 | VSX = 0 | \n"
          ]
        }
      ],
      "source": [
        "#uncomment the below snippet of code if the runtime is connected to GPU.\n",
        "llm = Llama(\n",
        "    model_path=model_path,\n",
        "    n_ctx=2300,\n",
        "    n_gpu_layers=38,\n",
        "    n_batch=512\n",
        ")"
      ]
    },
    {
      "cell_type": "code",
      "execution_count": null,
      "metadata": {
        "colab": {
          "base_uri": "https://localhost:8080/"
        },
        "id": "gprOqM3eSX1c",
        "outputId": "c8192919-da5f-4716-a4f8-fee373addf57"
      },
      "outputs": [
        {
          "name": "stderr",
          "output_type": "stream",
          "text": [
            "AVX = 1 | AVX_VNNI = 0 | AVX2 = 1 | AVX512 = 0 | AVX512_VBMI = 0 | AVX512_VNNI = 0 | FMA = 1 | NEON = 0 | ARM_FMA = 0 | F16C = 1 | FP16_VA = 0 | WASM_SIMD = 0 | BLAS = 1 | SSE3 = 1 | SSSE3 = 1 | VSX = 0 | \n"
          ]
        }
      ],
      "source": [
        "#uncomment the below snippet of code if the runtime is connected to CPU only.\n",
        "llm = Llama(\n",
        "    model_path=model_path,\n",
        "    n_ctx=1024,\n",
        "    n_cores=-2\n",
        ")"
      ]
    },
    {
      "cell_type": "code",
      "execution_count": null,
      "metadata": {
        "colab": {
          "base_uri": "https://localhost:8080/",
          "height": 36
        },
        "id": "UOoLx86pSihs",
        "outputId": "24465242-6881-4c5d-82be-a7dc572df125"
      },
      "outputs": [
        {
          "data": {
            "application/vnd.google.colaboratory.intrinsic+json": {
              "type": "string"
            },
            "text/plain": [
              "'\\n\\nApple is known for its ability to develop and ship high-quality'"
            ]
          },
          "execution_count": 37,
          "metadata": {},
          "output_type": "execute_result"
        }
      ],
      "source": [
        "llm(\"How does does Apple develop and ship products that requires good coordination between the teams?\")['choices'][0]['text']"
      ]
    },
    {
      "cell_type": "markdown",
      "metadata": {
        "id": "0Rn6NFD4UACB"
      },
      "source": [
        "llm(\"How does does Apple develop and ship products that requires good coordination between the teams?\")['choices'][0]['text']\n",
        "- The response seems generic and appears to be derived from another article. Let's provide our own context and align the response with our needs."
      ]
    },
    {
      "cell_type": "markdown",
      "metadata": {
        "id": "EMgcARSbUH7u"
      },
      "source": [
        "## System and User Prompt Template\n",
        "Prompts guide the model to generate accurate responses. Here, we define two parts:\n",
        "\n",
        "    1. The system message describing the assistant's role.\n",
        "    2. A user message template including context and the question."
      ]
    },
    {
      "cell_type": "code",
      "execution_count": null,
      "metadata": {
        "id": "_yF7w3dRUElY"
      },
      "outputs": [],
      "source": [
        "qna_system_message = \"\"\"\n",
        "You are an assistant whose work is to review the report and provide the appropriate answers from the context.\n",
        "User input will have the context required by you to answer user questions.\n",
        "This context will begin with the token: ###Context.\n",
        "The context contains references to specific portions of a document relevant to the user query.\n",
        "\n",
        "User questions will begin with the token: ###Question.\n",
        "\n",
        "Please answer only using the context provided in the input. Do not mention anything about the context in your final answer.\n",
        "\n",
        "If the answer is not found in the context, respond \"I don't know\".\n",
        "\"\"\""
      ]
    },
    {
      "cell_type": "code",
      "execution_count": null,
      "metadata": {
        "id": "qlVUor04UMsL"
      },
      "outputs": [],
      "source": [
        "qna_user_message_template = \"\"\"\n",
        "###Context\n",
        "Here are some documents that are relevant to the question mentioned below.\n",
        "{context}\n",
        "\n",
        "###Question\n",
        "{question}\n",
        "\"\"\""
      ]
    },
    {
      "cell_type": "markdown",
      "metadata": {
        "id": "nfc2U1s4UR2G"
      },
      "source": [
        "## Response Function"
      ]
    },
    {
      "cell_type": "code",
      "execution_count": null,
      "metadata": {
        "id": "UHxgwAcuUPoi"
      },
      "outputs": [],
      "source": [
        "def generate_rag_response(user_input,k=3,max_tokens=128,temperature=0,top_p=0.95,top_k=50):\n",
        "    global qna_system_message,qna_user_message_template\n",
        "    # Retrieve relevant document chunks\n",
        "    relevant_document_chunks = retriever.get_relevant_documents(query=user_input,k=k)\n",
        "    context_list = [d.page_content for d in relevant_document_chunks]\n",
        "\n",
        "    # Combine document chunks into a single context\n",
        "    context_for_query = \". \".join(context_list)\n",
        "\n",
        "    user_message = qna_user_message_template.replace('{context}', context_for_query)\n",
        "    user_message = user_message.replace('{question}', user_input)\n",
        "\n",
        "    prompt = qna_system_message + '\\n' + user_message\n",
        "\n",
        "    # Generate the response\n",
        "    try:\n",
        "        response = llm(\n",
        "                  prompt=prompt,\n",
        "                  max_tokens=max_tokens,\n",
        "                  temperature=temperature,\n",
        "                  top_p=top_p,\n",
        "                  top_k=top_k\n",
        "                  )\n",
        "\n",
        "        # Extract and print the model's response\n",
        "        response = response['choices'][0]['text'].strip()\n",
        "    except Exception as e:\n",
        "        response = f'Sorry, I encountered the following error: \\n {e}'\n",
        "\n",
        "    return response"
      ]
    },
    {
      "cell_type": "markdown",
      "metadata": {
        "id": "j5qVEpK9UgwQ"
      },
      "source": [
        "# Question Answering using RAG"
      ]
    },
    {
      "cell_type": "code",
      "execution_count": null,
      "metadata": {
        "id": "JhJkCrmkUe9V"
      },
      "outputs": [],
      "source": [
        "# Question Answering using RAG\n",
        "### Query 1: Who are the authors of this article and who published this article ?"
      ]
    },
    {
      "cell_type": "code",
      "execution_count": null,
      "metadata": {
        "colab": {
          "base_uri": "https://localhost:8080/"
        },
        "id": "3BYBVbrDUi52",
        "outputId": "2fcc0ab3-ac21-477f-dcde-cd3008d841e9"
      },
      "outputs": [
        {
          "name": "stderr",
          "output_type": "stream",
          "text": [
            "Llama.generate: prefix-match hit\n"
          ]
        },
        {
          "name": "stdout",
          "output_type": "stream",
          "text": [
            "Answer:\n",
            "Morten T. Hansen and Joel M. Podolny are the authors of the article. Harvard Business Review published it.\n"
          ]
        }
      ],
      "source": [
        "user_input = \"Who are the authors of this article and who published this article ?\"\n",
        "print(generate_rag_response(user_input))"
      ]
    },
    {
      "cell_type": "markdown",
      "metadata": {
        "id": "2kWqXCwhUpBT"
      },
      "source": [
        "- The answer is clear, concise, and focused, without any unnecessary information.  \n",
        "\n",
        "- For queries like this, we expect a response of this nature."
      ]
    },
    {
      "cell_type": "markdown",
      "metadata": {
        "id": "MAwnsRvtUsQR"
      },
      "source": [
        "### Query 2: List down the three leadership characteristics in bulleted points and explain each one of the characteristics under two lines."
      ]
    },
    {
      "cell_type": "code",
      "execution_count": null,
      "metadata": {
        "colab": {
          "base_uri": "https://localhost:8080/",
          "height": 36
        },
        "id": "8VTUY1N9UnXA",
        "outputId": "2c148621-e1ce-4ba1-eb9e-75a8c1e4bea8"
      },
      "outputs": [
        {
          "data": {
            "application/vnd.google.colaboratory.intrinsic+json": {
              "type": "string"
            },
            "text/plain": [
              "'Sorry, I encountered the following error: \\n Requested tokens (1845) exceed context window of 1024'"
            ]
          },
          "execution_count": 43,
          "metadata": {},
          "output_type": "execute_result"
        }
      ],
      "source": [
        "user_input_2 = \"List down the three leadership characteristics in bulleted points and explain each one of the characteristics under two lines.\"\n",
        "generate_rag_response(user_input_2)"
      ]
    },
    {
      "cell_type": "markdown",
      "metadata": {
        "id": "InVBj6NVUzvF"
      },
      "source": [
        "- The response contains only two leadership characteristics, but they are well explained.  \n",
        "- Perhaps if we increase the **`max_tokens`**, we might get the third characteristic as well (assuming it is in the document)."
      ]
    },
    {
      "cell_type": "markdown",
      "metadata": {
        "id": "PQzeKRd3U4Fs"
      },
      "source": [
        "### Query 3: Can you explain specific examples from the article where Apple's approach to leadership has led to successful innovations?"
      ]
    },
    {
      "cell_type": "code",
      "execution_count": null,
      "metadata": {
        "colab": {
          "base_uri": "https://localhost:8080/",
          "height": 36
        },
        "id": "RN8G8Lw6U5X9",
        "outputId": "833e1b0b-1b91-4c34-ec02-d54558c8202d"
      },
      "outputs": [
        {
          "data": {
            "application/vnd.google.colaboratory.intrinsic+json": {
              "type": "string"
            },
            "text/plain": [
              "'Sorry, I encountered the following error: \\n Requested tokens (1850) exceed context window of 1024'"
            ]
          },
          "execution_count": 44,
          "metadata": {},
          "output_type": "execute_result"
        }
      ],
      "source": [
        "user_input_3 = \"Can you explain specific examples from the article where Apple's approach to leadership has led to successful innovations?\"\n",
        "generate_rag_response(user_input_3)"
      ]
    },
    {
      "cell_type": "markdown",
      "metadata": {
        "id": "EGyIxherVDAn"
      },
      "source": [
        "- If we look at the system prompt, we explicitly mentioned that the query should not be answered if it cannot be derived from the context.  \n",
        "\n",
        "- As expected, the model has done its job well. It has eliminated hallucination."
      ]
    },
    {
      "cell_type": "code",
      "execution_count": null,
      "metadata": {
        "id": "ucU_456lU5w4"
      },
      "outputs": [],
      "source": [
        "## Fine-tuning Parameters"
      ]
    },
    {
      "cell_type": "code",
      "execution_count": null,
      "metadata": {
        "id": "bduqF_TDVG0F"
      },
      "outputs": [],
      "source": [
        "## Fine-tuning Parameters\n",
        "### Query 1: Who are the authors of this article and who published this article ?"
      ]
    },
    {
      "cell_type": "code",
      "execution_count": null,
      "metadata": {
        "colab": {
          "base_uri": "https://localhost:8080/",
          "height": 70
        },
        "id": "Dw0YndiQVIP2",
        "outputId": "b3083d3f-d936-487f-c9e6-82a784952b2e"
      },
      "outputs": [
        {
          "name": "stderr",
          "output_type": "stream",
          "text": [
            "Llama.generate: prefix-match hit\n"
          ]
        },
        {
          "data": {
            "application/vnd.google.colaboratory.intrinsic+json": {
              "type": "string"
            },
            "text/plain": [
              "'Answer:\\nMorten T. Hansen and Joel M. Podolny are the authors of the article. Harvard Business Review published it.'"
            ]
          },
          "execution_count": 47,
          "metadata": {},
          "output_type": "execute_result"
        }
      ],
      "source": [
        "user_input = \"Who are the authors of this article and who published this article ?\"\n",
        "generate_rag_response(user_input, max_tokens=100)"
      ]
    },
    {
      "cell_type": "markdown",
      "metadata": {
        "id": "sifzy687VMIh"
      },
      "source": [
        "- Even if the **`max_tokens`** is set to 100, the model still didn't generate that many, as the query could be answered with a limited number of tokens.  \n",
        "\n",
        "- One of the reasons could be that the temperature is set to 0, making the model more deterministic and less creative."
      ]
    },
    {
      "cell_type": "markdown",
      "metadata": {
        "id": "HGxShqAgVL_s"
      },
      "source": [
        "### Query 2: List down the three leadership characteristics in bulleted points and explain each one of the characteristics under two lines."
      ]
    },
    {
      "cell_type": "code",
      "execution_count": null,
      "metadata": {
        "colab": {
          "base_uri": "https://localhost:8080/",
          "height": 36
        },
        "id": "6lJPGzPIVJxY",
        "outputId": "8c3e3907-bc9f-4140-abfe-0262787e1628"
      },
      "outputs": [
        {
          "data": {
            "application/vnd.google.colaboratory.intrinsic+json": {
              "type": "string"
            },
            "text/plain": [
              "'Sorry, I encountered the following error: \\n Requested tokens (1845) exceed context window of 1024'"
            ]
          },
          "execution_count": 48,
          "metadata": {},
          "output_type": "execute_result"
        }
      ],
      "source": [
        "user_input_2 = \"List down the three leadership characteristics in bulleted points and explain each one of the characteristics under two lines.\"\n",
        "generate_rag_response(user_input_2, temperature=0.1, max_tokens=350)"
      ]
    },
    {
      "cell_type": "markdown",
      "metadata": {
        "id": "j2FOJghAVUam"
      },
      "source": [
        "- If we compare it to the previous case, after increasing the **`max_tokens`**, we got the third characteristic"
      ]
    },
    {
      "cell_type": "markdown",
      "metadata": {
        "id": "XY_g2Q6LVVzd"
      },
      "source": [
        "### Query 3: Can you explain specific examples from the article where Apple's approach to leadership has led to successful innovations?"
      ]
    },
    {
      "cell_type": "code",
      "execution_count": null,
      "metadata": {
        "colab": {
          "base_uri": "https://localhost:8080/",
          "height": 36
        },
        "id": "7WpqLQxzVS8v",
        "outputId": "b390d5f1-f7ba-488c-b06a-28e355eae2b2"
      },
      "outputs": [
        {
          "data": {
            "application/vnd.google.colaboratory.intrinsic+json": {
              "type": "string"
            },
            "text/plain": [
              "'Sorry, I encountered the following error: \\n Requested tokens (1850) exceed context window of 1024'"
            ]
          },
          "execution_count": 49,
          "metadata": {},
          "output_type": "execute_result"
        }
      ],
      "source": [
        "user_input_3 = \"Can you explain specific examples from the article where Apple's approach to leadership has led to successful innovations?\"\n",
        "generate_rag_response(user_input_3, top_p=0.98, top_k=20, max_tokens=256)"
      ]
    },
    {
      "cell_type": "markdown",
      "metadata": {
        "id": "8op8KKyZVdiy"
      },
      "source": [
        "- Since the context provided doesn't help with the query, the model has responded correctly based on the prompt design.  \n",
        "\n",
        "- However, there is a chance that it might not be present in the top **`k`** context. Therefore, it is better to experiment with higher values of **`k`** and check."
      ]
    },
    {
      "cell_type": "markdown",
      "metadata": {
        "id": "IUAIazgDVwKz"
      },
      "source": [
        "# Output Evaluation"
      ]
    },
    {
      "cell_type": "markdown",
      "metadata": {
        "id": "FQhVPzLMVoIC"
      },
      "source": [
        "Let us now use the LLM-as-a-judge method to check the quality of the RAG system on two parameters - retrieval and generation. We illustrate this evaluation based on the answeres generated to the question from the previous section.\n",
        "\n",
        "- We are using the same Mistral model for evaluation, so basically here the llm is rating itself on how well he has performed in the task."
      ]
    },
    {
      "cell_type": "markdown",
      "metadata": {
        "id": "JOMnVNj2Vz6Y"
      },
      "source": [
        "![image.png](data:image/png;base64,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)"
      ]
    },
    {
      "cell_type": "markdown",
      "metadata": {
        "id": "RtouSolbV9cB"
      },
      "source": [
        "### Defining the Evaluation Prompts"
      ]
    },
    {
      "cell_type": "code",
      "execution_count": null,
      "metadata": {
        "id": "0Y3Gv9QjVZYn"
      },
      "outputs": [],
      "source": [
        "groundedness_rater_system_message = \"\"\"\n",
        "You are tasked with rating AI generated answers to questions posed by users.\n",
        "You will be presented a question, context used by the AI system to generate the answer and an AI generated answer to the question.\n",
        "In the input, the question will begin with ###Question, the context will begin with ###Context while the AI generated answer will begin with ###Answer.\n",
        "\n",
        "Evaluation criteria:\n",
        "The task is to judge the extent to which the metric is followed by the answer.\n",
        "1 - The metric is not followed at all\n",
        "2 - The metric is followed only to a limited extent\n",
        "3 - The metric is followed to a good extent\n",
        "4 - The metric is followed mostly\n",
        "5 - The metric is followed completely\n",
        "\n",
        "Metric:\n",
        "The answer should be derived only from the information presented in the context\n",
        "\n",
        "Instructions:\n",
        "1. First write down the steps that are needed to evaluate the answer as per the metric.\n",
        "2. Give a step-by-step explanation if the answer adheres to the metric considering the question and context as the input.\n",
        "3. Next, evaluate the extent to which the metric is followed.\n",
        "4. Use the previous information to rate the answer using the evaluaton criteria and assign a score.\n",
        "\"\"\""
      ]
    },
    {
      "cell_type": "code",
      "execution_count": null,
      "metadata": {
        "id": "xrUGt6u9V8f2"
      },
      "outputs": [],
      "source": [
        "relevance_rater_system_message = \"\"\"\n",
        "You are tasked with rating AI generated answers to questions posed by users.\n",
        "You will be presented a question, context used by the AI system to generate the answer and an AI generated answer to the question.\n",
        "In the input, the question will begin with ###Question, the context will begin with ###Context while the AI generated answer will begin with ###Answer.\n",
        "\n",
        "Evaluation criteria:\n",
        "The task is to judge the extent to which the metric is followed by the answer.\n",
        "1 - The metric is not followed at all\n",
        "2 - The metric is followed only to a limited extent\n",
        "3 - The metric is followed to a good extent\n",
        "4 - The metric is followed mostly\n",
        "5 - The metric is followed completely\n",
        "\n",
        "Metric:\n",
        "Relevance measures how well the answer addresses the main aspects of the question, based on the context.\n",
        "Consider whether all and only the important aspects are contained in the answer when evaluating relevance.\n",
        "\n",
        "Instructions:\n",
        "1. First write down the steps that are needed to evaluate the context as per the metric.\n",
        "2. Give a step-by-step explanation if the context adheres to the metric considering the question as the input.\n",
        "3. Next, evaluate the extent to which the metric is followed.\n",
        "4. Use the previous information to rate the context using the evaluaton criteria and assign a score.\n",
        "\"\"\""
      ]
    },
    {
      "cell_type": "code",
      "execution_count": null,
      "metadata": {
        "id": "B7s3k9c0Wwkq"
      },
      "outputs": [],
      "source": [
        "user_message_template = \"\"\"\n",
        "###Question\n",
        "{question}\n",
        "\n",
        "###Context\n",
        "{context}\n",
        "\n",
        "###Answer\n",
        "{answer}\n",
        "\"\"\""
      ]
    },
    {
      "cell_type": "markdown",
      "metadata": {
        "id": "Kwbdlq9xWzvd"
      },
      "source": [
        "### Defining the Evaluation Function"
      ]
    },
    {
      "cell_type": "code",
      "execution_count": null,
      "metadata": {
        "id": "3HtY1SN9WyYJ"
      },
      "outputs": [],
      "source": [
        "def generate_ground_relevance_response(user_input,k=1,max_tokens=128,temperature=0,top_p=0.95,top_k=50):\n",
        "    global qna_system_message,qna_user_message_template\n",
        "    # Retrieve relevant document chunks\n",
        "    relevant_document_chunks = retriever.get_relevant_documents(query=user_input,k=k)\n",
        "    context_list = [d.page_content for d in relevant_document_chunks]\n",
        "    context_for_query = \". \".join(context_list)\n",
        "\n",
        "    # Combine user_prompt and system_message to create the prompt\n",
        "    prompt = f\"\"\"[INST]{qna_system_message}\\n\n",
        "                {'user'}: {qna_user_message_template.format(context=context_for_query, question=user_input)}\n",
        "                [/INST]\"\"\"\n",
        "\n",
        "    response = llm(\n",
        "            prompt=prompt,\n",
        "            max_tokens=max_tokens,\n",
        "            temperature=temperature,\n",
        "            top_p=top_p,\n",
        "            top_k=top_k,\n",
        "            stop=['INST'],\n",
        "            )\n",
        "\n",
        "    answer =  response[\"choices\"][0][\"text\"]\n",
        "\n",
        "    # Combine user_prompt and system_message to create the prompt\n",
        "    groundedness_prompt = f\"\"\"[INST]{groundedness_rater_system_message}\\n\n",
        "                {'user'}: {user_message_template.format(context=context_for_query, question=user_input, answer=answer)}\n",
        "                [/INST]\"\"\"\n",
        "\n",
        "    # Combine user_prompt and system_message to create the prompt\n",
        "    relevance_prompt = f\"\"\"[INST]{relevance_rater_system_message}\\n\n",
        "                {'user'}: {user_message_template.format(context=context_for_query, question=user_input, answer=answer)}\n",
        "                [/INST]\"\"\"\n",
        "\n",
        "    response_1 = llm(\n",
        "            prompt=groundedness_prompt,\n",
        "            max_tokens=max_tokens,\n",
        "            temperature=temperature,\n",
        "            top_p=top_p,\n",
        "            top_k=top_k,\n",
        "            stop=['INST'],\n",
        "            )\n",
        "\n",
        "    response_2 = llm(\n",
        "            prompt=relevance_prompt,\n",
        "            max_tokens=max_tokens,\n",
        "            temperature=temperature,\n",
        "            top_p=top_p,\n",
        "            top_k=top_k,\n",
        "            stop=['INST'],\n",
        "            )\n",
        "\n",
        "    return response_1['choices'][0]['text'],response_2['choices'][0]['text']"
      ]
    },
    {
      "cell_type": "markdown",
      "metadata": {
        "id": "fDP-NBqNW8MW"
      },
      "source": [
        "### Query 1: Who are the authors of this article and who published this article ?"
      ]
    },
    {
      "cell_type": "code",
      "execution_count": null,
      "metadata": {
        "colab": {
          "background_save": true,
          "base_uri": "https://localhost:8080/"
        },
        "id": "WrlVyS3gW1bR",
        "outputId": "b5f92a49-704f-4cd3-e2da-5a492c165daa"
      },
      "outputs": [
        {
          "name": "stderr",
          "output_type": "stream",
          "text": [
            "Llama.generate: prefix-match hit\n",
            "Llama.generate: prefix-match hit\n",
            "Llama.generate: prefix-match hit\n"
          ]
        },
        {
          "name": "stdout",
          "output_type": "stream",
          "text": [
            " Steps to evaluate the answer:\n",
            "1. Identify the key information in the context related to the question.\n",
            "2. Check if the answer is derived only from the identified information.\n",
            "3. Compare each element of the answer with the corresponding information in the context.\n",
            "\n",
            "Explanation:\n",
            "The question asks for the authors and publisher of the article. The context provides the names of the authors (Morten T. Hansen and Joel M. Podolny) and the name of the publisher (Harvard Business Review). The answer matches exactly with the information in the context, so it is derived only from the context.\n",
            "\n",
            "Evaluation:\n",
            "The metric is followed completely as the answer is derived solely from the context without any additional or incorrect information.\n",
            "\n",
            "Rating:\n",
            "Based on the evaluation criteria, I would rate this answer a 5 (The metric is followed completely).\n",
            "\n",
            " Steps to evaluate context as per relevance metric:\n",
            "1. Identify the main aspects of the question from the question itself. In this case, the main aspects are \"who are the authors\" and \"who published the article\".\n",
            "2. Determine if all the important aspects are present in the context.\n",
            "3. Check if any irrelevant information is included in the context that may distract from the main aspects of the question.\n",
            "\n",
            "Explanation:\n",
            "The context adheres to the relevance metric as it contains all the necessary information to answer the question. The authors' names and the name of the publishing organization are explicitly stated, making it easy to extract the required information for the answer. There is no irrelevant information in the context that may distract from the main aspects of the question.\n",
            "\n",
            "Evaluation:\n",
            "The metric is followed completely as all the important aspects of the question are addressed in the context and only relevant information is included.\n",
            "\n",
            "Rating:\n",
            "Based on the evaluation criteria, I would rate the context a 5 (followed completely) for relevance.\n"
          ]
        }
      ],
      "source": [
        "user_input = \"Who are the authors of this article and who published this article ?\"\n",
        "ground,rel = generate_ground_relevance_response(user_input,max_tokens=350)\n",
        "\n",
        "print(ground,end=\"\\n\\n\")\n",
        "print(rel)"
      ]
    },
    {
      "cell_type": "markdown",
      "metadata": {
        "id": "eySFaXCwXA-o"
      },
      "source": [
        "- It got a perfect score because the response is both grounded in the context and relevant to the query.  \n",
        "- This means that both the retrieval and augmentation parts are good.\n",
        "### Query 2: List down the three leadership characteristics in bulleted points and explain each one of the characteristics under two lines."
      ]
    },
    {
      "cell_type": "code",
      "execution_count": null,
      "metadata": {
        "colab": {
          "base_uri": "https://localhost:8080/",
          "height": 425
        },
        "id": "6Y3UFAXFW-Kf",
        "outputId": "125e75e8-c0a4-442c-f5dc-4f45fdf7967c"
      },
      "outputs": [
        {
          "ename": "ValueError",
          "evalue": "Requested tokens (1860) exceed context window of 1024",
          "output_type": "error",
          "traceback": [
            "\u001b[0;31m---------------------------------------------------------------------------\u001b[0m",
            "\u001b[0;31mValueError\u001b[0m                                Traceback (most recent call last)",
            "\u001b[0;32m/tmp/ipython-input-538971582.py\u001b[0m in \u001b[0;36m<cell line: 0>\u001b[0;34m()\u001b[0m\n\u001b[1;32m      1\u001b[0m \u001b[0muser_input_2\u001b[0m \u001b[0;34m=\u001b[0m \u001b[0;34m\"List down the three leadership characteristics in bulleted points and explain each one of the characteristics under two lines.\"\u001b[0m\u001b[0;34m\u001b[0m\u001b[0;34m\u001b[0m\u001b[0m\n\u001b[0;32m----> 2\u001b[0;31m \u001b[0mground\u001b[0m\u001b[0;34m,\u001b[0m\u001b[0mrel\u001b[0m \u001b[0;34m=\u001b[0m \u001b[0mgenerate_ground_relevance_response\u001b[0m\u001b[0;34m(\u001b[0m\u001b[0muser_input_2\u001b[0m\u001b[0;34m,\u001b[0m\u001b[0mmax_tokens\u001b[0m\u001b[0;34m=\u001b[0m\u001b[0;36m500\u001b[0m\u001b[0;34m)\u001b[0m\u001b[0;34m\u001b[0m\u001b[0;34m\u001b[0m\u001b[0m\n\u001b[0m\u001b[1;32m      3\u001b[0m \u001b[0mprint\u001b[0m\u001b[0;34m(\u001b[0m\u001b[0mground\u001b[0m\u001b[0;34m,\u001b[0m\u001b[0mend\u001b[0m\u001b[0;34m=\u001b[0m\u001b[0;34m\"\\n\\n\"\u001b[0m\u001b[0;34m)\u001b[0m\u001b[0;34m\u001b[0m\u001b[0;34m\u001b[0m\u001b[0m\n\u001b[1;32m      4\u001b[0m \u001b[0mprint\u001b[0m\u001b[0;34m(\u001b[0m\u001b[0mrel\u001b[0m\u001b[0;34m)\u001b[0m\u001b[0;34m\u001b[0m\u001b[0;34m\u001b[0m\u001b[0m\n",
            "\u001b[0;32m/tmp/ipython-input-2320697867.py\u001b[0m in \u001b[0;36mgenerate_ground_relevance_response\u001b[0;34m(user_input, k, max_tokens, temperature, top_p, top_k)\u001b[0m\n\u001b[1;32m     11\u001b[0m                 [/INST]\"\"\"\n\u001b[1;32m     12\u001b[0m \u001b[0;34m\u001b[0m\u001b[0m\n\u001b[0;32m---> 13\u001b[0;31m     response = llm(\n\u001b[0m\u001b[1;32m     14\u001b[0m             \u001b[0mprompt\u001b[0m\u001b[0;34m=\u001b[0m\u001b[0mprompt\u001b[0m\u001b[0;34m,\u001b[0m\u001b[0;34m\u001b[0m\u001b[0;34m\u001b[0m\u001b[0m\n\u001b[1;32m     15\u001b[0m             \u001b[0mmax_tokens\u001b[0m\u001b[0;34m=\u001b[0m\u001b[0mmax_tokens\u001b[0m\u001b[0;34m,\u001b[0m\u001b[0;34m\u001b[0m\u001b[0;34m\u001b[0m\u001b[0m\n",
            "\u001b[0;32m/usr/local/lib/python3.12/dist-packages/llama_cpp/llama.py\u001b[0m in \u001b[0;36m__call__\u001b[0;34m(self, prompt, suffix, max_tokens, temperature, top_p, min_p, typical_p, logprobs, echo, stop, frequency_penalty, presence_penalty, repeat_penalty, top_k, stream, seed, tfs_z, mirostat_mode, mirostat_tau, mirostat_eta, model, stopping_criteria, logits_processor, grammar, logit_bias)\u001b[0m\n\u001b[1;32m   2014\u001b[0m             \u001b[0mResponse\u001b[0m \u001b[0mobject\u001b[0m \u001b[0mcontaining\u001b[0m \u001b[0mthe\u001b[0m \u001b[0mgenerated\u001b[0m \u001b[0mtext\u001b[0m\u001b[0;34m.\u001b[0m\u001b[0;34m\u001b[0m\u001b[0;34m\u001b[0m\u001b[0m\n\u001b[1;32m   2015\u001b[0m         \"\"\"\n\u001b[0;32m-> 2016\u001b[0;31m         return self.create_completion(\n\u001b[0m\u001b[1;32m   2017\u001b[0m             \u001b[0mprompt\u001b[0m\u001b[0;34m=\u001b[0m\u001b[0mprompt\u001b[0m\u001b[0;34m,\u001b[0m\u001b[0;34m\u001b[0m\u001b[0;34m\u001b[0m\u001b[0m\n\u001b[1;32m   2018\u001b[0m             \u001b[0msuffix\u001b[0m\u001b[0;34m=\u001b[0m\u001b[0msuffix\u001b[0m\u001b[0;34m,\u001b[0m\u001b[0;34m\u001b[0m\u001b[0;34m\u001b[0m\u001b[0m\n",
            "\u001b[0;32m/usr/local/lib/python3.12/dist-packages/llama_cpp/llama.py\u001b[0m in \u001b[0;36mcreate_completion\u001b[0;34m(self, prompt, suffix, max_tokens, temperature, top_p, min_p, typical_p, logprobs, echo, stop, frequency_penalty, presence_penalty, repeat_penalty, top_k, stream, seed, tfs_z, mirostat_mode, mirostat_tau, mirostat_eta, model, stopping_criteria, logits_processor, grammar, logit_bias)\u001b[0m\n\u001b[1;32m   1947\u001b[0m             \u001b[0mchunks\u001b[0m\u001b[0;34m:\u001b[0m \u001b[0mIterator\u001b[0m\u001b[0;34m[\u001b[0m\u001b[0mCreateCompletionStreamResponse\u001b[0m\u001b[0;34m]\u001b[0m \u001b[0;34m=\u001b[0m \u001b[0mcompletion_or_chunks\u001b[0m\u001b[0;34m\u001b[0m\u001b[0;34m\u001b[0m\u001b[0m\n\u001b[1;32m   1948\u001b[0m             \u001b[0;32mreturn\u001b[0m \u001b[0mchunks\u001b[0m\u001b[0;34m\u001b[0m\u001b[0;34m\u001b[0m\u001b[0m\n\u001b[0;32m-> 1949\u001b[0;31m         \u001b[0mcompletion\u001b[0m\u001b[0;34m:\u001b[0m \u001b[0mCompletion\u001b[0m \u001b[0;34m=\u001b[0m \u001b[0mnext\u001b[0m\u001b[0;34m(\u001b[0m\u001b[0mcompletion_or_chunks\u001b[0m\u001b[0;34m)\u001b[0m  \u001b[0;31m# type: ignore\u001b[0m\u001b[0;34m\u001b[0m\u001b[0;34m\u001b[0m\u001b[0m\n\u001b[0m\u001b[1;32m   1950\u001b[0m         \u001b[0;32mreturn\u001b[0m \u001b[0mcompletion\u001b[0m\u001b[0;34m\u001b[0m\u001b[0;34m\u001b[0m\u001b[0m\n\u001b[1;32m   1951\u001b[0m \u001b[0;34m\u001b[0m\u001b[0m\n",
            "\u001b[0;32m/usr/local/lib/python3.12/dist-packages/llama_cpp/llama.py\u001b[0m in \u001b[0;36m_create_completion\u001b[0;34m(self, prompt, suffix, max_tokens, temperature, top_p, min_p, typical_p, logprobs, echo, stop, frequency_penalty, presence_penalty, repeat_penalty, top_k, stream, seed, tfs_z, mirostat_mode, mirostat_tau, mirostat_eta, model, stopping_criteria, logits_processor, grammar, logit_bias)\u001b[0m\n\u001b[1;32m   1426\u001b[0m \u001b[0;34m\u001b[0m\u001b[0m\n\u001b[1;32m   1427\u001b[0m         \u001b[0;32mif\u001b[0m \u001b[0mlen\u001b[0m\u001b[0;34m(\u001b[0m\u001b[0mprompt_tokens\u001b[0m\u001b[0;34m)\u001b[0m \u001b[0;34m>=\u001b[0m \u001b[0mself\u001b[0m\u001b[0;34m.\u001b[0m\u001b[0m_n_ctx\u001b[0m\u001b[0;34m:\u001b[0m\u001b[0;34m\u001b[0m\u001b[0;34m\u001b[0m\u001b[0m\n\u001b[0;32m-> 1428\u001b[0;31m             raise ValueError(\n\u001b[0m\u001b[1;32m   1429\u001b[0m                 \u001b[0;34mf\"Requested tokens ({len(prompt_tokens)}) exceed context window of {llama_cpp.llama_n_ctx(self.ctx)}\"\u001b[0m\u001b[0;34m\u001b[0m\u001b[0;34m\u001b[0m\u001b[0m\n\u001b[1;32m   1430\u001b[0m             )\n",
            "\u001b[0;31mValueError\u001b[0m: Requested tokens (1860) exceed context window of 1024"
          ]
        }
      ],
      "source": [
        "user_input_2 = \"List down the three leadership characteristics in bulleted points and explain each one of the characteristics under two lines.\"\n",
        "ground,rel = generate_ground_relevance_response(user_input_2,max_tokens=500)\n",
        "print(ground,end=\"\\n\\n\")\n",
        "print(rel)"
      ]
    },
    {
      "cell_type": "markdown",
      "metadata": {
        "id": "9TDT2zrxXJec"
      },
      "source": [
        "- The groundedness score is 5 since the response is derived solely from the context.  \n",
        "\n",
        "- Regarding relevance, the score is 4 (the metric is mostly followed). However, it is not very clear why this rating was given.  \n",
        "\n",
        "- One solution is to modify the relevance prompt to instruct the model to provide reasons for any point deductions or increase the max_tokens (assuming the output has been truncated)"
      ]
    },
    {
      "cell_type": "code",
      "execution_count": null,
      "metadata": {
        "id": "IdA8HaAhXHjC"
      },
      "outputs": [],
      "source": [
        "user_input_3 = \"Can you explain specific examples from the article where Apple's approach to leadership has led to successful innovations?\"\n",
        "ground,rel = generate_ground_relevance_response(user_input_3,max_tokens=500)\n",
        "\n",
        "print(ground,end=\"\\n\\n\")\n",
        "print(rel)"
      ]
    },
    {
      "cell_type": "markdown",
      "metadata": {
        "id": "ByTITSyQXo4e"
      },
      "source": [
        "- For relevance, the response includes both the score and the reason for the point deduction.  \n",
        "\n",
        "- For groundedness, it is unclear why one point was deducted.\n",
        "# Business Insights and Recommendations\n",
        "- Vector database creation time increases with the number of pages in the PDF document.\n",
        "- Retrieval parameter **`k`** is critical as the answer can be spread across multiple contexts.\n",
        "- **`chunk_overlap`** ensures coherence, especially when context spans across chunks.\n",
        "- **`max_tokens`** depends on query complexity; higher values yield detailed responses, while simple queries result in concise outputs despite large token limits due to prompt design and zero **`temperature`**.\n",
        "- Refine prompt design and temperature settings to control response length and creativity.\n",
        "- Continuously adjust RAG parameters based on specific use cases for optimal performance.\n",
        "- Prioritize groundedness and relevance in evaluations to ensure reliable and contextually accurate outputs.\n",
        "- Establish a feedback loop to fine-tune parameters, improving performance for diverse query types."
      ]
    },
    {
      "cell_type": "code",
      "execution_count": null,
      "metadata": {
        "id": "xZbOvU1tXLXI"
      },
      "outputs": [],
      "source": []
    }
  ],
  "metadata": {
    "accelerator": "GPU",
    "colab": {
      "gpuType": "T4",
      "provenance": []
    },
    "kernelspec": {
      "display_name": "Python 3",
      "name": "python3"
    },
    "language_info": {
      "name": "python"
    },
    "widgets": {
      "application/vnd.jupyter.widget-state+json": {
        "01a2a17e717a47ef9f24910fd8c0eeb2": {
          "model_module": "@jupyter-widgets/base",
          "model_module_version": "1.2.0",
          "model_name": "LayoutModel",
          "state": {
            "_model_module": "@jupyter-widgets/base",
            "_model_module_version": "1.2.0",
            "_model_name": "LayoutModel",
            "_view_count": null,
            "_view_module": "@jupyter-widgets/base",
            "_view_module_version": "1.2.0",
            "_view_name": "LayoutView",
            "align_content": null,
            "align_items": null,
            "align_self": null,
            "border": null,
            "bottom": null,
            "display": null,
            "flex": null,
            "flex_flow": null,
            "grid_area": null,
            "grid_auto_columns": null,
            "grid_auto_flow": null,
            "grid_auto_rows": null,
            "grid_column": null,
            "grid_gap": null,
            "grid_row": null,
            "grid_template_areas": null,
            "grid_template_columns": null,
            "grid_template_rows": null,
            "height": null,
            "justify_content": null,
            "justify_items": null,
            "left": null,
            "margin": null,
            "max_height": null,
            "max_width": null,
            "min_height": null,
            "min_width": null,
            "object_fit": null,
            "object_position": null,
            "order": null,
            "overflow": null,
            "overflow_x": null,
            "overflow_y": null,
            "padding": null,
            "right": null,
            "top": null,
            "visibility": null,
            "width": null
          }
        },
        "01e8c413be9643918038e9198354b844": {
          "model_module": "@jupyter-widgets/controls",
          "model_module_version": "1.5.0",
          "model_name": "FloatProgressModel",
          "state": {
            "_dom_classes": [],
            "_model_module": "@jupyter-widgets/controls",
            "_model_module_version": "1.5.0",
            "_model_name": "FloatProgressModel",
            "_view_count": null,
            "_view_module": "@jupyter-widgets/controls",
            "_view_module_version": "1.5.0",
            "_view_name": "ProgressView",
            "bar_style": "success",
            "description": "",
            "description_tooltip": null,
            "layout": "IPY_MODEL_01a2a17e717a47ef9f24910fd8c0eeb2",
            "max": 191,
            "min": 0,
            "orientation": "horizontal",
            "style": "IPY_MODEL_68b2e4c31dcc4f22b2d566229f38bfca",
            "value": 191
          }
        },
        "043f9d8d824948a28c440e044857a1a6": {
          "model_module": "@jupyter-widgets/base",
          "model_module_version": "1.2.0",
          "model_name": "LayoutModel",
          "state": {
            "_model_module": "@jupyter-widgets/base",
            "_model_module_version": "1.2.0",
            "_model_name": "LayoutModel",
            "_view_count": null,
            "_view_module": "@jupyter-widgets/base",
            "_view_module_version": "1.2.0",
            "_view_name": "LayoutView",
            "align_content": null,
            "align_items": null,
            "align_self": null,
            "border": null,
            "bottom": null,
            "display": null,
            "flex": null,
            "flex_flow": null,
            "grid_area": null,
            "grid_auto_columns": null,
            "grid_auto_flow": null,
            "grid_auto_rows": null,
            "grid_column": null,
            "grid_gap": null,
            "grid_row": null,
            "grid_template_areas": null,
            "grid_template_columns": null,
            "grid_template_rows": null,
            "height": null,
            "justify_content": null,
            "justify_items": null,
            "left": null,
            "margin": null,
            "max_height": null,
            "max_width": null,
            "min_height": null,
            "min_width": null,
            "object_fit": null,
            "object_position": null,
            "order": null,
            "overflow": null,
            "overflow_x": null,
            "overflow_y": null,
            "padding": null,
            "right": null,
            "top": null,
            "visibility": null,
            "width": null
          }
        },
        "09c71ca8b39648fdaf36eebfef1565ca": {
          "model_module": "@jupyter-widgets/controls",
          "model_module_version": "1.5.0",
          "model_name": "DescriptionStyleModel",
          "state": {
            "_model_module": "@jupyter-widgets/controls",
            "_model_module_version": "1.5.0",
            "_model_name": "DescriptionStyleModel",
            "_view_count": null,
            "_view_module": "@jupyter-widgets/base",
            "_view_module_version": "1.2.0",
            "_view_name": "StyleView",
            "description_width": ""
          }
        },
        "102e7de2e44a405883fbdf09c95802e8": {
          "model_module": "@jupyter-widgets/controls",
          "model_module_version": "1.5.0",
          "model_name": "DescriptionStyleModel",
          "state": {
            "_model_module": "@jupyter-widgets/controls",
            "_model_module_version": "1.5.0",
            "_model_name": "DescriptionStyleModel",
            "_view_count": null,
            "_view_module": "@jupyter-widgets/base",
            "_view_module_version": "1.2.0",
            "_view_name": "StyleView",
            "description_width": ""
          }
        },
        "122d6c8155254f4c9016dd3ff555517d": {
          "model_module": "@jupyter-widgets/controls",
          "model_module_version": "1.5.0",
          "model_name": "HTMLModel",
          "state": {
            "_dom_classes": [],
            "_model_module": "@jupyter-widgets/controls",
            "_model_module_version": "1.5.0",
            "_model_name": "HTMLModel",
            "_view_count": null,
            "_view_module": "@jupyter-widgets/controls",
            "_view_module_version": "1.5.0",
            "_view_name": "HTMLView",
            "description": "",
            "description_tooltip": null,
            "layout": "IPY_MODEL_27d9792e403848d8999a02ae61b8ae8c",
            "placeholder": "​",
            "style": "IPY_MODEL_f30c17a3d075487cbe93d9262bfbc612",
            "value": "modules.json: 100%"
          }
        },
        "125969e4db2f4cdb8fb49602256a5318": {
          "model_module": "@jupyter-widgets/controls",
          "model_module_version": "1.5.0",
          "model_name": "ProgressStyleModel",
          "state": {
            "_model_module": "@jupyter-widgets/controls",
            "_model_module_version": "1.5.0",
            "_model_name": "ProgressStyleModel",
            "_view_count": null,
            "_view_module": "@jupyter-widgets/base",
            "_view_module_version": "1.2.0",
            "_view_name": "StyleView",
            "bar_color": null,
            "description_width": ""
          }
        },
        "130fbb604c8445939bb4de891b0498a2": {
          "model_module": "@jupyter-widgets/controls",
          "model_module_version": "1.5.0",
          "model_name": "DescriptionStyleModel",
          "state": {
            "_model_module": "@jupyter-widgets/controls",
            "_model_module_version": "1.5.0",
            "_model_name": "DescriptionStyleModel",
            "_view_count": null,
            "_view_module": "@jupyter-widgets/base",
            "_view_module_version": "1.2.0",
            "_view_name": "StyleView",
            "description_width": ""
          }
        },
        "180bf5f8861341fa9c7344be49ecff91": {
          "model_module": "@jupyter-widgets/controls",
          "model_module_version": "1.5.0",
          "model_name": "ProgressStyleModel",
          "state": {
            "_model_module": "@jupyter-widgets/controls",
            "_model_module_version": "1.5.0",
            "_model_name": "ProgressStyleModel",
            "_view_count": null,
            "_view_module": "@jupyter-widgets/base",
            "_view_module_version": "1.2.0",
            "_view_name": "StyleView",
            "bar_color": null,
            "description_width": ""
          }
        },
        "182f2c0cce74441984d4289ac9d36801": {
          "model_module": "@jupyter-widgets/base",
          "model_module_version": "1.2.0",
          "model_name": "LayoutModel",
          "state": {
            "_model_module": "@jupyter-widgets/base",
            "_model_module_version": "1.2.0",
            "_model_name": "LayoutModel",
            "_view_count": null,
            "_view_module": "@jupyter-widgets/base",
            "_view_module_version": "1.2.0",
            "_view_name": "LayoutView",
            "align_content": null,
            "align_items": null,
            "align_self": null,
            "border": null,
            "bottom": null,
            "display": null,
            "flex": null,
            "flex_flow": null,
            "grid_area": null,
            "grid_auto_columns": null,
            "grid_auto_flow": null,
            "grid_auto_rows": null,
            "grid_column": null,
            "grid_gap": null,
            "grid_row": null,
            "grid_template_areas": null,
            "grid_template_columns": null,
            "grid_template_rows": null,
            "height": null,
            "justify_content": null,
            "justify_items": null,
            "left": null,
            "margin": null,
            "max_height": null,
            "max_width": null,
            "min_height": null,
            "min_width": null,
            "object_fit": null,
            "object_position": null,
            "order": null,
            "overflow": null,
            "overflow_x": null,
            "overflow_y": null,
            "padding": null,
            "right": null,
            "top": null,
            "visibility": null,
            "width": null
          }
        },
        "184a5d3be66a4bd6a8d4d5797cb9a6dc": {
          "model_module": "@jupyter-widgets/base",
          "model_module_version": "1.2.0",
          "model_name": "LayoutModel",
          "state": {
            "_model_module": "@jupyter-widgets/base",
            "_model_module_version": "1.2.0",
            "_model_name": "LayoutModel",
            "_view_count": null,
            "_view_module": "@jupyter-widgets/base",
            "_view_module_version": "1.2.0",
            "_view_name": "LayoutView",
            "align_content": null,
            "align_items": null,
            "align_self": null,
            "border": null,
            "bottom": null,
            "display": null,
            "flex": null,
            "flex_flow": null,
            "grid_area": null,
            "grid_auto_columns": null,
            "grid_auto_flow": null,
            "grid_auto_rows": null,
            "grid_column": null,
            "grid_gap": null,
            "grid_row": null,
            "grid_template_areas": null,
            "grid_template_columns": null,
            "grid_template_rows": null,
            "height": null,
            "justify_content": null,
            "justify_items": null,
            "left": null,
            "margin": null,
            "max_height": null,
            "max_width": null,
            "min_height": null,
            "min_width": null,
            "object_fit": null,
            "object_position": null,
            "order": null,
            "overflow": null,
            "overflow_x": null,
            "overflow_y": null,
            "padding": null,
            "right": null,
            "top": null,
            "visibility": null,
            "width": null
          }
        },
        "1876364499ef478b80ca1685fcad91b8": {
          "model_module": "@jupyter-widgets/controls",
          "model_module_version": "1.5.0",
          "model_name": "FloatProgressModel",
          "state": {
            "_dom_classes": [],
            "_model_module": "@jupyter-widgets/controls",
            "_model_module_version": "1.5.0",
            "_model_name": "FloatProgressModel",
            "_view_count": null,
            "_view_module": "@jupyter-widgets/controls",
            "_view_module_version": "1.5.0",
            "_view_name": "ProgressView",
            "bar_style": "success",
            "description": "",
            "description_tooltip": null,
            "layout": "IPY_MODEL_5085acde29e84a1383ef75c5797cc076",
            "max": 1,
            "min": 0,
            "orientation": "horizontal",
            "style": "IPY_MODEL_7eeafdc3918949c7b3da5f23d04814fd",
            "value": 1
          }
        },
        "1883cc6e9aa9449ab4e49d7797edac45": {
          "model_module": "@jupyter-widgets/controls",
          "model_module_version": "1.5.0",
          "model_name": "FloatProgressModel",
          "state": {
            "_dom_classes": [],
            "_model_module": "@jupyter-widgets/controls",
            "_model_module_version": "1.5.0",
            "_model_name": "FloatProgressModel",
            "_view_count": null,
            "_view_module": "@jupyter-widgets/controls",
            "_view_module_version": "1.5.0",
            "_view_name": "ProgressView",
            "bar_style": "success",
            "description": "",
            "description_tooltip": null,
            "layout": "IPY_MODEL_b28133f9062f4b19930739076df07375",
            "max": 670332568,
            "min": 0,
            "orientation": "horizontal",
            "style": "IPY_MODEL_6843b813fd2e476c905d83b861cdf139",
            "value": 670332568
          }
        },
        "19af91a2327a4e2a8981537412d915ec": {
          "model_module": "@jupyter-widgets/controls",
          "model_module_version": "1.5.0",
          "model_name": "HTMLModel",
          "state": {
            "_dom_classes": [],
            "_model_module": "@jupyter-widgets/controls",
            "_model_module_version": "1.5.0",
            "_model_name": "HTMLModel",
            "_view_count": null,
            "_view_module": "@jupyter-widgets/controls",
            "_view_module_version": "1.5.0",
            "_view_name": "HTMLView",
            "description": "",
            "description_tooltip": null,
            "layout": "IPY_MODEL_68e049e9e949422cbfb2ce25056b9792",
            "placeholder": "​",
            "style": "IPY_MODEL_5552d590a7f54612aac744d4da104610",
            "value": " 385/385 [00:00&lt;00:00, 40.7kB/s]"
          }
        },
        "1a4e051b8b2f4a7e93e8690d510bf6a0": {
          "model_module": "@jupyter-widgets/controls",
          "model_module_version": "1.5.0",
          "model_name": "HBoxModel",
          "state": {
            "_dom_classes": [],
            "_model_module": "@jupyter-widgets/controls",
            "_model_module_version": "1.5.0",
            "_model_name": "HBoxModel",
            "_view_count": null,
            "_view_module": "@jupyter-widgets/controls",
            "_view_module_version": "1.5.0",
            "_view_name": "HBoxView",
            "box_style": "",
            "children": [
              "IPY_MODEL_522b48f0e84243ab993f6775173c38a2",
              "IPY_MODEL_1876364499ef478b80ca1685fcad91b8",
              "IPY_MODEL_e9bae5292e614e048d4be3d1d47b6d88"
            ],
            "layout": "IPY_MODEL_1c68d806adaa4c8abbc3df97c9f026c5"
          }
        },
        "1a72a5b8c8984258af7bce564f118996": {
          "model_module": "@jupyter-widgets/controls",
          "model_module_version": "1.5.0",
          "model_name": "HTMLModel",
          "state": {
            "_dom_classes": [],
            "_model_module": "@jupyter-widgets/controls",
            "_model_module_version": "1.5.0",
            "_model_name": "HTMLModel",
            "_view_count": null,
            "_view_module": "@jupyter-widgets/controls",
            "_view_module_version": "1.5.0",
            "_view_name": "HTMLView",
            "description": "",
            "description_tooltip": null,
            "layout": "IPY_MODEL_d41ad5493ccc41fd8cafcfa3e32c8c96",
            "placeholder": "​",
            "style": "IPY_MODEL_09c71ca8b39648fdaf36eebfef1565ca",
            "value": "model.safetensors: 100%"
          }
        },
        "1ba0b33cabb544808f245bb67b4fb4be": {
          "model_module": "@jupyter-widgets/base",
          "model_module_version": "1.2.0",
          "model_name": "LayoutModel",
          "state": {
            "_model_module": "@jupyter-widgets/base",
            "_model_module_version": "1.2.0",
            "_model_name": "LayoutModel",
            "_view_count": null,
            "_view_module": "@jupyter-widgets/base",
            "_view_module_version": "1.2.0",
            "_view_name": "LayoutView",
            "align_content": null,
            "align_items": null,
            "align_self": null,
            "border": null,
            "bottom": null,
            "display": null,
            "flex": null,
            "flex_flow": null,
            "grid_area": null,
            "grid_auto_columns": null,
            "grid_auto_flow": null,
            "grid_auto_rows": null,
            "grid_column": null,
            "grid_gap": null,
            "grid_row": null,
            "grid_template_areas": null,
            "grid_template_columns": null,
            "grid_template_rows": null,
            "height": null,
            "justify_content": null,
            "justify_items": null,
            "left": null,
            "margin": null,
            "max_height": null,
            "max_width": null,
            "min_height": null,
            "min_width": null,
            "object_fit": null,
            "object_position": null,
            "order": null,
            "overflow": null,
            "overflow_x": null,
            "overflow_y": null,
            "padding": null,
            "right": null,
            "top": null,
            "visibility": null,
            "width": null
          }
        },
        "1c68d806adaa4c8abbc3df97c9f026c5": {
          "model_module": "@jupyter-widgets/base",
          "model_module_version": "1.2.0",
          "model_name": "LayoutModel",
          "state": {
            "_model_module": "@jupyter-widgets/base",
            "_model_module_version": "1.2.0",
            "_model_name": "LayoutModel",
            "_view_count": null,
            "_view_module": "@jupyter-widgets/base",
            "_view_module_version": "1.2.0",
            "_view_name": "LayoutView",
            "align_content": null,
            "align_items": null,
            "align_self": null,
            "border": null,
            "bottom": null,
            "display": null,
            "flex": null,
            "flex_flow": null,
            "grid_area": null,
            "grid_auto_columns": null,
            "grid_auto_flow": null,
            "grid_auto_rows": null,
            "grid_column": null,
            "grid_gap": null,
            "grid_row": null,
            "grid_template_areas": null,
            "grid_template_columns": null,
            "grid_template_rows": null,
            "height": null,
            "justify_content": null,
            "justify_items": null,
            "left": null,
            "margin": null,
            "max_height": null,
            "max_width": null,
            "min_height": null,
            "min_width": null,
            "object_fit": null,
            "object_position": null,
            "order": null,
            "overflow": null,
            "overflow_x": null,
            "overflow_y": null,
            "padding": null,
            "right": null,
            "top": null,
            "visibility": null,
            "width": null
          }
        },
        "1f8516ee9b344bde934913d5876f461e": {
          "model_module": "@jupyter-widgets/base",
          "model_module_version": "1.2.0",
          "model_name": "LayoutModel",
          "state": {
            "_model_module": "@jupyter-widgets/base",
            "_model_module_version": "1.2.0",
            "_model_name": "LayoutModel",
            "_view_count": null,
            "_view_module": "@jupyter-widgets/base",
            "_view_module_version": "1.2.0",
            "_view_name": "LayoutView",
            "align_content": null,
            "align_items": null,
            "align_self": null,
            "border": null,
            "bottom": null,
            "display": null,
            "flex": null,
            "flex_flow": null,
            "grid_area": null,
            "grid_auto_columns": null,
            "grid_auto_flow": null,
            "grid_auto_rows": null,
            "grid_column": null,
            "grid_gap": null,
            "grid_row": null,
            "grid_template_areas": null,
            "grid_template_columns": null,
            "grid_template_rows": null,
            "height": null,
            "justify_content": null,
            "justify_items": null,
            "left": null,
            "margin": null,
            "max_height": null,
            "max_width": null,
            "min_height": null,
            "min_width": null,
            "object_fit": null,
            "object_position": null,
            "order": null,
            "overflow": null,
            "overflow_x": null,
            "overflow_y": null,
            "padding": null,
            "right": null,
            "top": null,
            "visibility": null,
            "width": null
          }
        },
        "1fa23755d05344f89333468c4b905706": {
          "model_module": "@jupyter-widgets/controls",
          "model_module_version": "1.5.0",
          "model_name": "DescriptionStyleModel",
          "state": {
            "_model_module": "@jupyter-widgets/controls",
            "_model_module_version": "1.5.0",
            "_model_name": "DescriptionStyleModel",
            "_view_count": null,
            "_view_module": "@jupyter-widgets/base",
            "_view_module_version": "1.2.0",
            "_view_name": "StyleView",
            "description_width": ""
          }
        },
        "21ea0eea0b18443dba1d162a0cf1703d": {
          "model_module": "@jupyter-widgets/controls",
          "model_module_version": "1.5.0",
          "model_name": "HTMLModel",
          "state": {
            "_dom_classes": [],
            "_model_module": "@jupyter-widgets/controls",
            "_model_module_version": "1.5.0",
            "_model_name": "HTMLModel",
            "_view_count": null,
            "_view_module": "@jupyter-widgets/controls",
            "_view_module_version": "1.5.0",
            "_view_name": "HTMLView",
            "description": "",
            "description_tooltip": null,
            "layout": "IPY_MODEL_e37a9d4f9d3048cebf25fb098692b5e6",
            "placeholder": "​",
            "style": "IPY_MODEL_4053a7f50c1a49d3b011f138f7c22a4c",
            "value": " 232k/? [00:00&lt;00:00, 6.84MB/s]"
          }
        },
        "237c9e9fef5b4941b2e9381be890226f": {
          "model_module": "@jupyter-widgets/controls",
          "model_module_version": "1.5.0",
          "model_name": "FloatProgressModel",
          "state": {
            "_dom_classes": [],
            "_model_module": "@jupyter-widgets/controls",
            "_model_module_version": "1.5.0",
            "_model_name": "FloatProgressModel",
            "_view_count": null,
            "_view_module": "@jupyter-widgets/controls",
            "_view_module_version": "1.5.0",
            "_view_name": "ProgressView",
            "bar_style": "success",
            "description": "",
            "description_tooltip": null,
            "layout": "IPY_MODEL_c36efc3e9c7b43b488e6ac4bc9c72018",
            "max": 385,
            "min": 0,
            "orientation": "horizontal",
            "style": "IPY_MODEL_676e8aa1852f43cead9d30ec311d3e42",
            "value": 385
          }
        },
        "26a5ac64fb4949ed95c8aa93fc811c32": {
          "model_module": "@jupyter-widgets/controls",
          "model_module_version": "1.5.0",
          "model_name": "HBoxModel",
          "state": {
            "_dom_classes": [],
            "_model_module": "@jupyter-widgets/controls",
            "_model_module_version": "1.5.0",
            "_model_name": "HBoxModel",
            "_view_count": null,
            "_view_module": "@jupyter-widgets/controls",
            "_view_module_version": "1.5.0",
            "_view_name": "HBoxView",
            "box_style": "",
            "children": [
              "IPY_MODEL_9a723f0895634f26bf0caf8730905129",
              "IPY_MODEL_4c2d9de4e4444d79950a93381dea0dde",
              "IPY_MODEL_2932484d78fe4480b6997929fcaf177d"
            ],
            "layout": "IPY_MODEL_805d6001998941beb8fcb4a3db479dda"
          }
        },
        "26fc4aa8062444c0859ba91f18f81029": {
          "model_module": "@jupyter-widgets/base",
          "model_module_version": "1.2.0",
          "model_name": "LayoutModel",
          "state": {
            "_model_module": "@jupyter-widgets/base",
            "_model_module_version": "1.2.0",
            "_model_name": "LayoutModel",
            "_view_count": null,
            "_view_module": "@jupyter-widgets/base",
            "_view_module_version": "1.2.0",
            "_view_name": "LayoutView",
            "align_content": null,
            "align_items": null,
            "align_self": null,
            "border": null,
            "bottom": null,
            "display": null,
            "flex": null,
            "flex_flow": null,
            "grid_area": null,
            "grid_auto_columns": null,
            "grid_auto_flow": null,
            "grid_auto_rows": null,
            "grid_column": null,
            "grid_gap": null,
            "grid_row": null,
            "grid_template_areas": null,
            "grid_template_columns": null,
            "grid_template_rows": null,
            "height": null,
            "justify_content": null,
            "justify_items": null,
            "left": null,
            "margin": null,
            "max_height": null,
            "max_width": null,
            "min_height": null,
            "min_width": null,
            "object_fit": null,
            "object_position": null,
            "order": null,
            "overflow": null,
            "overflow_x": null,
            "overflow_y": null,
            "padding": null,
            "right": null,
            "top": null,
            "visibility": null,
            "width": "20px"
          }
        },
        "27d9792e403848d8999a02ae61b8ae8c": {
          "model_module": "@jupyter-widgets/base",
          "model_module_version": "1.2.0",
          "model_name": "LayoutModel",
          "state": {
            "_model_module": "@jupyter-widgets/base",
            "_model_module_version": "1.2.0",
            "_model_name": "LayoutModel",
            "_view_count": null,
            "_view_module": "@jupyter-widgets/base",
            "_view_module_version": "1.2.0",
            "_view_name": "LayoutView",
            "align_content": null,
            "align_items": null,
            "align_self": null,
            "border": null,
            "bottom": null,
            "display": null,
            "flex": null,
            "flex_flow": null,
            "grid_area": null,
            "grid_auto_columns": null,
            "grid_auto_flow": null,
            "grid_auto_rows": null,
            "grid_column": null,
            "grid_gap": null,
            "grid_row": null,
            "grid_template_areas": null,
            "grid_template_columns": null,
            "grid_template_rows": null,
            "height": null,
            "justify_content": null,
            "justify_items": null,
            "left": null,
            "margin": null,
            "max_height": null,
            "max_width": null,
            "min_height": null,
            "min_width": null,
            "object_fit": null,
            "object_position": null,
            "order": null,
            "overflow": null,
            "overflow_x": null,
            "overflow_y": null,
            "padding": null,
            "right": null,
            "top": null,
            "visibility": null,
            "width": null
          }
        },
        "285016eff7c844a1b4233d293383295d": {
          "model_module": "@jupyter-widgets/base",
          "model_module_version": "1.2.0",
          "model_name": "LayoutModel",
          "state": {
            "_model_module": "@jupyter-widgets/base",
            "_model_module_version": "1.2.0",
            "_model_name": "LayoutModel",
            "_view_count": null,
            "_view_module": "@jupyter-widgets/base",
            "_view_module_version": "1.2.0",
            "_view_name": "LayoutView",
            "align_content": null,
            "align_items": null,
            "align_self": null,
            "border": null,
            "bottom": null,
            "display": null,
            "flex": null,
            "flex_flow": null,
            "grid_area": null,
            "grid_auto_columns": null,
            "grid_auto_flow": null,
            "grid_auto_rows": null,
            "grid_column": null,
            "grid_gap": null,
            "grid_row": null,
            "grid_template_areas": null,
            "grid_template_columns": null,
            "grid_template_rows": null,
            "height": null,
            "justify_content": null,
            "justify_items": null,
            "left": null,
            "margin": null,
            "max_height": null,
            "max_width": null,
            "min_height": null,
            "min_width": null,
            "object_fit": null,
            "object_position": null,
            "order": null,
            "overflow": null,
            "overflow_x": null,
            "overflow_y": null,
            "padding": null,
            "right": null,
            "top": null,
            "visibility": null,
            "width": null
          }
        },
        "28c2cda4d0294b509fda658db03d8f5c": {
          "model_module": "@jupyter-widgets/controls",
          "model_module_version": "1.5.0",
          "model_name": "DescriptionStyleModel",
          "state": {
            "_model_module": "@jupyter-widgets/controls",
            "_model_module_version": "1.5.0",
            "_model_name": "DescriptionStyleModel",
            "_view_count": null,
            "_view_module": "@jupyter-widgets/base",
            "_view_module_version": "1.2.0",
            "_view_name": "StyleView",
            "description_width": ""
          }
        },
        "2932484d78fe4480b6997929fcaf177d": {
          "model_module": "@jupyter-widgets/controls",
          "model_module_version": "1.5.0",
          "model_name": "HTMLModel",
          "state": {
            "_dom_classes": [],
            "_model_module": "@jupyter-widgets/controls",
            "_model_module_version": "1.5.0",
            "_model_name": "HTMLModel",
            "_view_count": null,
            "_view_module": "@jupyter-widgets/controls",
            "_view_module_version": "1.5.0",
            "_view_name": "HTMLView",
            "description": "",
            "description_tooltip": null,
            "layout": "IPY_MODEL_bec924a646d146459716804e25ea5377",
            "placeholder": "​",
            "style": "IPY_MODEL_943c052fcd7049b2b4e4a3d7acfffd92",
            "value": " 67.9k/? [00:00&lt;00:00, 6.18MB/s]"
          }
        },
        "2a27713cc6854ecab01d06503dcef36b": {
          "model_module": "@jupyter-widgets/base",
          "model_module_version": "1.2.0",
          "model_name": "LayoutModel",
          "state": {
            "_model_module": "@jupyter-widgets/base",
            "_model_module_version": "1.2.0",
            "_model_name": "LayoutModel",
            "_view_count": null,
            "_view_module": "@jupyter-widgets/base",
            "_view_module_version": "1.2.0",
            "_view_name": "LayoutView",
            "align_content": null,
            "align_items": null,
            "align_self": null,
            "border": null,
            "bottom": null,
            "display": null,
            "flex": null,
            "flex_flow": null,
            "grid_area": null,
            "grid_auto_columns": null,
            "grid_auto_flow": null,
            "grid_auto_rows": null,
            "grid_column": null,
            "grid_gap": null,
            "grid_row": null,
            "grid_template_areas": null,
            "grid_template_columns": null,
            "grid_template_rows": null,
            "height": null,
            "justify_content": null,
            "justify_items": null,
            "left": null,
            "margin": null,
            "max_height": null,
            "max_width": null,
            "min_height": null,
            "min_width": null,
            "object_fit": null,
            "object_position": null,
            "order": null,
            "overflow": null,
            "overflow_x": null,
            "overflow_y": null,
            "padding": null,
            "right": null,
            "top": null,
            "visibility": null,
            "width": null
          }
        },
        "2e62fde5f7a64cb09cc5cfe3f93a78eb": {
          "model_module": "@jupyter-widgets/controls",
          "model_module_version": "1.5.0",
          "model_name": "HTMLModel",
          "state": {
            "_dom_classes": [],
            "_model_module": "@jupyter-widgets/controls",
            "_model_module_version": "1.5.0",
            "_model_name": "HTMLModel",
            "_view_count": null,
            "_view_module": "@jupyter-widgets/controls",
            "_view_module_version": "1.5.0",
            "_view_name": "HTMLView",
            "description": "",
            "description_tooltip": null,
            "layout": "IPY_MODEL_2a27713cc6854ecab01d06503dcef36b",
            "placeholder": "​",
            "style": "IPY_MODEL_3d5467abdf26490f8c73d870197a3d2a",
            "value": " 125/125 [00:00&lt;00:00, 8.04kB/s]"
          }
        },
        "2f75cdc6c2814fb1817ceed2aab6c125": {
          "model_module": "@jupyter-widgets/controls",
          "model_module_version": "1.5.0",
          "model_name": "DescriptionStyleModel",
          "state": {
            "_model_module": "@jupyter-widgets/controls",
            "_model_module_version": "1.5.0",
            "_model_name": "DescriptionStyleModel",
            "_view_count": null,
            "_view_module": "@jupyter-widgets/base",
            "_view_module_version": "1.2.0",
            "_view_name": "StyleView",
            "description_width": ""
          }
        },
        "31dc5999b7724e4db3a10879a22017b2": {
          "model_module": "@jupyter-widgets/base",
          "model_module_version": "1.2.0",
          "model_name": "LayoutModel",
          "state": {
            "_model_module": "@jupyter-widgets/base",
            "_model_module_version": "1.2.0",
            "_model_name": "LayoutModel",
            "_view_count": null,
            "_view_module": "@jupyter-widgets/base",
            "_view_module_version": "1.2.0",
            "_view_name": "LayoutView",
            "align_content": null,
            "align_items": null,
            "align_self": null,
            "border": null,
            "bottom": null,
            "display": null,
            "flex": null,
            "flex_flow": null,
            "grid_area": null,
            "grid_auto_columns": null,
            "grid_auto_flow": null,
            "grid_auto_rows": null,
            "grid_column": null,
            "grid_gap": null,
            "grid_row": null,
            "grid_template_areas": null,
            "grid_template_columns": null,
            "grid_template_rows": null,
            "height": null,
            "justify_content": null,
            "justify_items": null,
            "left": null,
            "margin": null,
            "max_height": null,
            "max_width": null,
            "min_height": null,
            "min_width": null,
            "object_fit": null,
            "object_position": null,
            "order": null,
            "overflow": null,
            "overflow_x": null,
            "overflow_y": null,
            "padding": null,
            "right": null,
            "top": null,
            "visibility": null,
            "width": null
          }
        },
        "33b51c6be2d04c39aa803bc9d053aba5": {
          "model_module": "@jupyter-widgets/controls",
          "model_module_version": "1.5.0",
          "model_name": "HBoxModel",
          "state": {
            "_dom_classes": [],
            "_model_module": "@jupyter-widgets/controls",
            "_model_module_version": "1.5.0",
            "_model_name": "HBoxModel",
            "_view_count": null,
            "_view_module": "@jupyter-widgets/controls",
            "_view_module_version": "1.5.0",
            "_view_name": "HBoxView",
            "box_style": "",
            "children": [
              "IPY_MODEL_8f5213b41a37463692473d8d02fecf4d",
              "IPY_MODEL_a3f869447b624575949e0d38caa98b55",
              "IPY_MODEL_c2a0069059114886937773609d5e5683"
            ],
            "layout": "IPY_MODEL_952e5eb4352f4d25889edfd5cd6d1b44"
          }
        },
        "34b21cd21e5c406c80a296c03aaeefff": {
          "model_module": "@jupyter-widgets/controls",
          "model_module_version": "1.5.0",
          "model_name": "HTMLModel",
          "state": {
            "_dom_classes": [],
            "_model_module": "@jupyter-widgets/controls",
            "_model_module_version": "1.5.0",
            "_model_name": "HTMLModel",
            "_view_count": null,
            "_view_module": "@jupyter-widgets/controls",
            "_view_module_version": "1.5.0",
            "_view_name": "HTMLView",
            "description": "",
            "description_tooltip": null,
            "layout": "IPY_MODEL_f6b414b8799f4d479fd27d1cf0e1299b",
            "placeholder": "​",
            "style": "IPY_MODEL_f9083ce959a04ff096d00ae621c58489",
            "value": "tokenizer_config.json: 100%"
          }
        },
        "3a824ca1297148828b77714589353c0c": {
          "model_module": "@jupyter-widgets/base",
          "model_module_version": "1.2.0",
          "model_name": "LayoutModel",
          "state": {
            "_model_module": "@jupyter-widgets/base",
            "_model_module_version": "1.2.0",
            "_model_name": "LayoutModel",
            "_view_count": null,
            "_view_module": "@jupyter-widgets/base",
            "_view_module_version": "1.2.0",
            "_view_name": "LayoutView",
            "align_content": null,
            "align_items": null,
            "align_self": null,
            "border": null,
            "bottom": null,
            "display": null,
            "flex": null,
            "flex_flow": null,
            "grid_area": null,
            "grid_auto_columns": null,
            "grid_auto_flow": null,
            "grid_auto_rows": null,
            "grid_column": null,
            "grid_gap": null,
            "grid_row": null,
            "grid_template_areas": null,
            "grid_template_columns": null,
            "grid_template_rows": null,
            "height": null,
            "justify_content": null,
            "justify_items": null,
            "left": null,
            "margin": null,
            "max_height": null,
            "max_width": null,
            "min_height": null,
            "min_width": null,
            "object_fit": null,
            "object_position": null,
            "order": null,
            "overflow": null,
            "overflow_x": null,
            "overflow_y": null,
            "padding": null,
            "right": null,
            "top": null,
            "visibility": null,
            "width": null
          }
        },
        "3bd78c9e89354bce95b579037135ee71": {
          "model_module": "@jupyter-widgets/controls",
          "model_module_version": "1.5.0",
          "model_name": "ProgressStyleModel",
          "state": {
            "_model_module": "@jupyter-widgets/controls",
            "_model_module_version": "1.5.0",
            "_model_name": "ProgressStyleModel",
            "_view_count": null,
            "_view_module": "@jupyter-widgets/base",
            "_view_module_version": "1.2.0",
            "_view_name": "StyleView",
            "bar_color": null,
            "description_width": ""
          }
        },
        "3d5467abdf26490f8c73d870197a3d2a": {
          "model_module": "@jupyter-widgets/controls",
          "model_module_version": "1.5.0",
          "model_name": "DescriptionStyleModel",
          "state": {
            "_model_module": "@jupyter-widgets/controls",
            "_model_module_version": "1.5.0",
            "_model_name": "DescriptionStyleModel",
            "_view_count": null,
            "_view_module": "@jupyter-widgets/base",
            "_view_module_version": "1.2.0",
            "_view_name": "StyleView",
            "description_width": ""
          }
        },
        "3e7d79da58c64fe18a009f585bcd8a7e": {
          "model_module": "@jupyter-widgets/controls",
          "model_module_version": "1.5.0",
          "model_name": "DescriptionStyleModel",
          "state": {
            "_model_module": "@jupyter-widgets/controls",
            "_model_module_version": "1.5.0",
            "_model_name": "DescriptionStyleModel",
            "_view_count": null,
            "_view_module": "@jupyter-widgets/base",
            "_view_module_version": "1.2.0",
            "_view_name": "StyleView",
            "description_width": ""
          }
        },
        "4053a7f50c1a49d3b011f138f7c22a4c": {
          "model_module": "@jupyter-widgets/controls",
          "model_module_version": "1.5.0",
          "model_name": "DescriptionStyleModel",
          "state": {
            "_model_module": "@jupyter-widgets/controls",
            "_model_module_version": "1.5.0",
            "_model_name": "DescriptionStyleModel",
            "_view_count": null,
            "_view_module": "@jupyter-widgets/base",
            "_view_module_version": "1.2.0",
            "_view_name": "StyleView",
            "description_width": ""
          }
        },
        "40e68d0e1d8c422ca1260e83fccafe04": {
          "model_module": "@jupyter-widgets/controls",
          "model_module_version": "1.5.0",
          "model_name": "FloatProgressModel",
          "state": {
            "_dom_classes": [],
            "_model_module": "@jupyter-widgets/controls",
            "_model_module_version": "1.5.0",
            "_model_name": "FloatProgressModel",
            "_view_count": null,
            "_view_module": "@jupyter-widgets/controls",
            "_view_module_version": "1.5.0",
            "_view_name": "ProgressView",
            "bar_style": "success",
            "description": "",
            "description_tooltip": null,
            "layout": "IPY_MODEL_043f9d8d824948a28c440e044857a1a6",
            "max": 125,
            "min": 0,
            "orientation": "horizontal",
            "style": "IPY_MODEL_3bd78c9e89354bce95b579037135ee71",
            "value": 125
          }
        },
        "43bfb6ff66764aca97ff1749c666f6ab": {
          "model_module": "@jupyter-widgets/base",
          "model_module_version": "1.2.0",
          "model_name": "LayoutModel",
          "state": {
            "_model_module": "@jupyter-widgets/base",
            "_model_module_version": "1.2.0",
            "_model_name": "LayoutModel",
            "_view_count": null,
            "_view_module": "@jupyter-widgets/base",
            "_view_module_version": "1.2.0",
            "_view_name": "LayoutView",
            "align_content": null,
            "align_items": null,
            "align_self": null,
            "border": null,
            "bottom": null,
            "display": null,
            "flex": null,
            "flex_flow": null,
            "grid_area": null,
            "grid_auto_columns": null,
            "grid_auto_flow": null,
            "grid_auto_rows": null,
            "grid_column": null,
            "grid_gap": null,
            "grid_row": null,
            "grid_template_areas": null,
            "grid_template_columns": null,
            "grid_template_rows": null,
            "height": null,
            "justify_content": null,
            "justify_items": null,
            "left": null,
            "margin": null,
            "max_height": null,
            "max_width": null,
            "min_height": null,
            "min_width": null,
            "object_fit": null,
            "object_position": null,
            "order": null,
            "overflow": null,
            "overflow_x": null,
            "overflow_y": null,
            "padding": null,
            "right": null,
            "top": null,
            "visibility": null,
            "width": null
          }
        },
        "45e55ea1f0c0464980745890933bfab8": {
          "model_module": "@jupyter-widgets/base",
          "model_module_version": "1.2.0",
          "model_name": "LayoutModel",
          "state": {
            "_model_module": "@jupyter-widgets/base",
            "_model_module_version": "1.2.0",
            "_model_name": "LayoutModel",
            "_view_count": null,
            "_view_module": "@jupyter-widgets/base",
            "_view_module_version": "1.2.0",
            "_view_name": "LayoutView",
            "align_content": null,
            "align_items": null,
            "align_self": null,
            "border": null,
            "bottom": null,
            "display": null,
            "flex": null,
            "flex_flow": null,
            "grid_area": null,
            "grid_auto_columns": null,
            "grid_auto_flow": null,
            "grid_auto_rows": null,
            "grid_column": null,
            "grid_gap": null,
            "grid_row": null,
            "grid_template_areas": null,
            "grid_template_columns": null,
            "grid_template_rows": null,
            "height": null,
            "justify_content": null,
            "justify_items": null,
            "left": null,
            "margin": null,
            "max_height": null,
            "max_width": null,
            "min_height": null,
            "min_width": null,
            "object_fit": null,
            "object_position": null,
            "order": null,
            "overflow": null,
            "overflow_x": null,
            "overflow_y": null,
            "padding": null,
            "right": null,
            "top": null,
            "visibility": null,
            "width": null
          }
        },
        "4786588c03004b72a095a3b1595b514e": {
          "model_module": "@jupyter-widgets/controls",
          "model_module_version": "1.5.0",
          "model_name": "ProgressStyleModel",
          "state": {
            "_model_module": "@jupyter-widgets/controls",
            "_model_module_version": "1.5.0",
            "_model_name": "ProgressStyleModel",
            "_view_count": null,
            "_view_module": "@jupyter-widgets/base",
            "_view_module_version": "1.2.0",
            "_view_name": "StyleView",
            "bar_color": null,
            "description_width": ""
          }
        },
        "47a01fc0a935433eb7de65df3a57e56a": {
          "model_module": "@jupyter-widgets/controls",
          "model_module_version": "1.5.0",
          "model_name": "DescriptionStyleModel",
          "state": {
            "_model_module": "@jupyter-widgets/controls",
            "_model_module_version": "1.5.0",
            "_model_name": "DescriptionStyleModel",
            "_view_count": null,
            "_view_module": "@jupyter-widgets/base",
            "_view_module_version": "1.2.0",
            "_view_name": "StyleView",
            "description_width": ""
          }
        },
        "48782e2f8b8e4f5687d25d50d7efe294": {
          "model_module": "@jupyter-widgets/controls",
          "model_module_version": "1.5.0",
          "model_name": "HBoxModel",
          "state": {
            "_dom_classes": [],
            "_model_module": "@jupyter-widgets/controls",
            "_model_module_version": "1.5.0",
            "_model_name": "HBoxModel",
            "_view_count": null,
            "_view_module": "@jupyter-widgets/controls",
            "_view_module_version": "1.5.0",
            "_view_name": "HBoxView",
            "box_style": "",
            "children": [
              "IPY_MODEL_f84538411ad147a99984bdd15bb28495",
              "IPY_MODEL_b61c3ff2af9d4d91a3a3f6012017a88e",
              "IPY_MODEL_21ea0eea0b18443dba1d162a0cf1703d"
            ],
            "layout": "IPY_MODEL_655fec879b6c4f61ad707b3a9a970f09"
          }
        },
        "48b52a50bbf14f94902c2d856e89efeb": {
          "model_module": "@jupyter-widgets/controls",
          "model_module_version": "1.5.0",
          "model_name": "DescriptionStyleModel",
          "state": {
            "_model_module": "@jupyter-widgets/controls",
            "_model_module_version": "1.5.0",
            "_model_name": "DescriptionStyleModel",
            "_view_count": null,
            "_view_module": "@jupyter-widgets/base",
            "_view_module_version": "1.2.0",
            "_view_name": "StyleView",
            "description_width": ""
          }
        },
        "4af39dde8d5244baab193ba0f0c12200": {
          "model_module": "@jupyter-widgets/base",
          "model_module_version": "1.2.0",
          "model_name": "LayoutModel",
          "state": {
            "_model_module": "@jupyter-widgets/base",
            "_model_module_version": "1.2.0",
            "_model_name": "LayoutModel",
            "_view_count": null,
            "_view_module": "@jupyter-widgets/base",
            "_view_module_version": "1.2.0",
            "_view_name": "LayoutView",
            "align_content": null,
            "align_items": null,
            "align_self": null,
            "border": null,
            "bottom": null,
            "display": null,
            "flex": null,
            "flex_flow": null,
            "grid_area": null,
            "grid_auto_columns": null,
            "grid_auto_flow": null,
            "grid_auto_rows": null,
            "grid_column": null,
            "grid_gap": null,
            "grid_row": null,
            "grid_template_areas": null,
            "grid_template_columns": null,
            "grid_template_rows": null,
            "height": null,
            "justify_content": null,
            "justify_items": null,
            "left": null,
            "margin": null,
            "max_height": null,
            "max_width": null,
            "min_height": null,
            "min_width": null,
            "object_fit": null,
            "object_position": null,
            "order": null,
            "overflow": null,
            "overflow_x": null,
            "overflow_y": null,
            "padding": null,
            "right": null,
            "top": null,
            "visibility": null,
            "width": null
          }
        },
        "4c2d9de4e4444d79950a93381dea0dde": {
          "model_module": "@jupyter-widgets/controls",
          "model_module_version": "1.5.0",
          "model_name": "FloatProgressModel",
          "state": {
            "_dom_classes": [],
            "_model_module": "@jupyter-widgets/controls",
            "_model_module_version": "1.5.0",
            "_model_name": "FloatProgressModel",
            "_view_count": null,
            "_view_module": "@jupyter-widgets/controls",
            "_view_module_version": "1.5.0",
            "_view_name": "ProgressView",
            "bar_style": "success",
            "description": "",
            "description_tooltip": null,
            "layout": "IPY_MODEL_ed0c356351e9451faae553a706091e0c",
            "max": 1,
            "min": 0,
            "orientation": "horizontal",
            "style": "IPY_MODEL_4786588c03004b72a095a3b1595b514e",
            "value": 1
          }
        },
        "4c96de97967c42e7a33b656d8ee7502a": {
          "model_module": "@jupyter-widgets/controls",
          "model_module_version": "1.5.0",
          "model_name": "ProgressStyleModel",
          "state": {
            "_model_module": "@jupyter-widgets/controls",
            "_model_module_version": "1.5.0",
            "_model_name": "ProgressStyleModel",
            "_view_count": null,
            "_view_module": "@jupyter-widgets/base",
            "_view_module_version": "1.2.0",
            "_view_name": "StyleView",
            "bar_color": null,
            "description_width": ""
          }
        },
        "4ee5f4997f274d7e96e62e6ed904b83e": {
          "model_module": "@jupyter-widgets/base",
          "model_module_version": "1.2.0",
          "model_name": "LayoutModel",
          "state": {
            "_model_module": "@jupyter-widgets/base",
            "_model_module_version": "1.2.0",
            "_model_name": "LayoutModel",
            "_view_count": null,
            "_view_module": "@jupyter-widgets/base",
            "_view_module_version": "1.2.0",
            "_view_name": "LayoutView",
            "align_content": null,
            "align_items": null,
            "align_self": null,
            "border": null,
            "bottom": null,
            "display": null,
            "flex": null,
            "flex_flow": null,
            "grid_area": null,
            "grid_auto_columns": null,
            "grid_auto_flow": null,
            "grid_auto_rows": null,
            "grid_column": null,
            "grid_gap": null,
            "grid_row": null,
            "grid_template_areas": null,
            "grid_template_columns": null,
            "grid_template_rows": null,
            "height": null,
            "justify_content": null,
            "justify_items": null,
            "left": null,
            "margin": null,
            "max_height": null,
            "max_width": null,
            "min_height": null,
            "min_width": null,
            "object_fit": null,
            "object_position": null,
            "order": null,
            "overflow": null,
            "overflow_x": null,
            "overflow_y": null,
            "padding": null,
            "right": null,
            "top": null,
            "visibility": null,
            "width": null
          }
        },
        "4ef7155225714374b90ae9effac65a5f": {
          "model_module": "@jupyter-widgets/base",
          "model_module_version": "1.2.0",
          "model_name": "LayoutModel",
          "state": {
            "_model_module": "@jupyter-widgets/base",
            "_model_module_version": "1.2.0",
            "_model_name": "LayoutModel",
            "_view_count": null,
            "_view_module": "@jupyter-widgets/base",
            "_view_module_version": "1.2.0",
            "_view_name": "LayoutView",
            "align_content": null,
            "align_items": null,
            "align_self": null,
            "border": null,
            "bottom": null,
            "display": null,
            "flex": null,
            "flex_flow": null,
            "grid_area": null,
            "grid_auto_columns": null,
            "grid_auto_flow": null,
            "grid_auto_rows": null,
            "grid_column": null,
            "grid_gap": null,
            "grid_row": null,
            "grid_template_areas": null,
            "grid_template_columns": null,
            "grid_template_rows": null,
            "height": null,
            "justify_content": null,
            "justify_items": null,
            "left": null,
            "margin": null,
            "max_height": null,
            "max_width": null,
            "min_height": null,
            "min_width": null,
            "object_fit": null,
            "object_position": null,
            "order": null,
            "overflow": null,
            "overflow_x": null,
            "overflow_y": null,
            "padding": null,
            "right": null,
            "top": null,
            "visibility": null,
            "width": null
          }
        },
        "5085acde29e84a1383ef75c5797cc076": {
          "model_module": "@jupyter-widgets/base",
          "model_module_version": "1.2.0",
          "model_name": "LayoutModel",
          "state": {
            "_model_module": "@jupyter-widgets/base",
            "_model_module_version": "1.2.0",
            "_model_name": "LayoutModel",
            "_view_count": null,
            "_view_module": "@jupyter-widgets/base",
            "_view_module_version": "1.2.0",
            "_view_name": "LayoutView",
            "align_content": null,
            "align_items": null,
            "align_self": null,
            "border": null,
            "bottom": null,
            "display": null,
            "flex": null,
            "flex_flow": null,
            "grid_area": null,
            "grid_auto_columns": null,
            "grid_auto_flow": null,
            "grid_auto_rows": null,
            "grid_column": null,
            "grid_gap": null,
            "grid_row": null,
            "grid_template_areas": null,
            "grid_template_columns": null,
            "grid_template_rows": null,
            "height": null,
            "justify_content": null,
            "justify_items": null,
            "left": null,
            "margin": null,
            "max_height": null,
            "max_width": null,
            "min_height": null,
            "min_width": null,
            "object_fit": null,
            "object_position": null,
            "order": null,
            "overflow": null,
            "overflow_x": null,
            "overflow_y": null,
            "padding": null,
            "right": null,
            "top": null,
            "visibility": null,
            "width": "20px"
          }
        },
        "522b48f0e84243ab993f6775173c38a2": {
          "model_module": "@jupyter-widgets/controls",
          "model_module_version": "1.5.0",
          "model_name": "HTMLModel",
          "state": {
            "_dom_classes": [],
            "_model_module": "@jupyter-widgets/controls",
            "_model_module_version": "1.5.0",
            "_model_name": "HTMLModel",
            "_view_count": null,
            "_view_module": "@jupyter-widgets/controls",
            "_view_module_version": "1.5.0",
            "_view_name": "HTMLView",
            "description": "",
            "description_tooltip": null,
            "layout": "IPY_MODEL_4af39dde8d5244baab193ba0f0c12200",
            "placeholder": "​",
            "style": "IPY_MODEL_d4fff690be6b4accb5ef6bcdf1093d4b",
            "value": "tokenizer.json: "
          }
        },
        "5230f97fe5944e108b7cfcbe7ef067e3": {
          "model_module": "@jupyter-widgets/controls",
          "model_module_version": "1.5.0",
          "model_name": "HTMLModel",
          "state": {
            "_dom_classes": [],
            "_model_module": "@jupyter-widgets/controls",
            "_model_module_version": "1.5.0",
            "_model_name": "HTMLModel",
            "_view_count": null,
            "_view_module": "@jupyter-widgets/controls",
            "_view_module_version": "1.5.0",
            "_view_name": "HTMLView",
            "description": "",
            "description_tooltip": null,
            "layout": "IPY_MODEL_81bd2dcfe4494dd5808c3e9805bad0ae",
            "placeholder": "​",
            "style": "IPY_MODEL_985ce0c85aa049e9a0bcc7d3a289d60d",
            "value": "sentence_bert_config.json: 100%"
          }
        },
        "54b838a3efad43dd8d470f9c2fd9e346": {
          "model_module": "@jupyter-widgets/base",
          "model_module_version": "1.2.0",
          "model_name": "LayoutModel",
          "state": {
            "_model_module": "@jupyter-widgets/base",
            "_model_module_version": "1.2.0",
            "_model_name": "LayoutModel",
            "_view_count": null,
            "_view_module": "@jupyter-widgets/base",
            "_view_module_version": "1.2.0",
            "_view_name": "LayoutView",
            "align_content": null,
            "align_items": null,
            "align_self": null,
            "border": null,
            "bottom": null,
            "display": null,
            "flex": null,
            "flex_flow": null,
            "grid_area": null,
            "grid_auto_columns": null,
            "grid_auto_flow": null,
            "grid_auto_rows": null,
            "grid_column": null,
            "grid_gap": null,
            "grid_row": null,
            "grid_template_areas": null,
            "grid_template_columns": null,
            "grid_template_rows": null,
            "height": null,
            "justify_content": null,
            "justify_items": null,
            "left": null,
            "margin": null,
            "max_height": null,
            "max_width": null,
            "min_height": null,
            "min_width": null,
            "object_fit": null,
            "object_position": null,
            "order": null,
            "overflow": null,
            "overflow_x": null,
            "overflow_y": null,
            "padding": null,
            "right": null,
            "top": null,
            "visibility": null,
            "width": null
          }
        },
        "5552d590a7f54612aac744d4da104610": {
          "model_module": "@jupyter-widgets/controls",
          "model_module_version": "1.5.0",
          "model_name": "DescriptionStyleModel",
          "state": {
            "_model_module": "@jupyter-widgets/controls",
            "_model_module_version": "1.5.0",
            "_model_name": "DescriptionStyleModel",
            "_view_count": null,
            "_view_module": "@jupyter-widgets/base",
            "_view_module_version": "1.2.0",
            "_view_name": "StyleView",
            "description_width": ""
          }
        },
        "59d9ab52d3894c0ea058f68aa68a88e6": {
          "model_module": "@jupyter-widgets/controls",
          "model_module_version": "1.5.0",
          "model_name": "HTMLModel",
          "state": {
            "_dom_classes": [],
            "_model_module": "@jupyter-widgets/controls",
            "_model_module_version": "1.5.0",
            "_model_name": "HTMLModel",
            "_view_count": null,
            "_view_module": "@jupyter-widgets/controls",
            "_view_module_version": "1.5.0",
            "_view_name": "HTMLView",
            "description": "",
            "description_tooltip": null,
            "layout": "IPY_MODEL_184a5d3be66a4bd6a8d4d5797cb9a6dc",
            "placeholder": "​",
            "style": "IPY_MODEL_ef5c75dd6e074f6aa1167aea2a8b05bc",
            "value": "mistral-7b-instruct-v0.2.Q6_K.gguf: 100%"
          }
        },
        "5ff03e6d503445c7b59b73c0b63d2498": {
          "model_module": "@jupyter-widgets/controls",
          "model_module_version": "1.5.0",
          "model_name": "FloatProgressModel",
          "state": {
            "_dom_classes": [],
            "_model_module": "@jupyter-widgets/controls",
            "_model_module_version": "1.5.0",
            "_model_name": "FloatProgressModel",
            "_view_count": null,
            "_view_module": "@jupyter-widgets/controls",
            "_view_module_version": "1.5.0",
            "_view_name": "ProgressView",
            "bar_style": "success",
            "description": "",
            "description_tooltip": null,
            "layout": "IPY_MODEL_b760033b8af0443285c79621eb3be92a",
            "max": 5942065440,
            "min": 0,
            "orientation": "horizontal",
            "style": "IPY_MODEL_99da4f0a8a374a78b69012a608b5c7d4",
            "value": 5942065440
          }
        },
        "623630fb8791485399f00df171a6bb7a": {
          "model_module": "@jupyter-widgets/controls",
          "model_module_version": "1.5.0",
          "model_name": "HBoxModel",
          "state": {
            "_dom_classes": [],
            "_model_module": "@jupyter-widgets/controls",
            "_model_module_version": "1.5.0",
            "_model_name": "HBoxModel",
            "_view_count": null,
            "_view_module": "@jupyter-widgets/controls",
            "_view_module_version": "1.5.0",
            "_view_name": "HBoxView",
            "box_style": "",
            "children": [
              "IPY_MODEL_34b21cd21e5c406c80a296c03aaeefff",
              "IPY_MODEL_84ebd40f6a9d44da85c7e18e1c4a8b23",
              "IPY_MODEL_79c7a16b63e448cca44b588b05c9e0af"
            ],
            "layout": "IPY_MODEL_ce3a8cc287394f8b8883dee167691e24"
          }
        },
        "623a092c3ef84b889a14202ff6830cdd": {
          "model_module": "@jupyter-widgets/controls",
          "model_module_version": "1.5.0",
          "model_name": "ProgressStyleModel",
          "state": {
            "_model_module": "@jupyter-widgets/controls",
            "_model_module_version": "1.5.0",
            "_model_name": "ProgressStyleModel",
            "_view_count": null,
            "_view_module": "@jupyter-widgets/base",
            "_view_module_version": "1.2.0",
            "_view_name": "StyleView",
            "bar_color": null,
            "description_width": ""
          }
        },
        "6346c3966a9a4e68937a4a75f29d430e": {
          "model_module": "@jupyter-widgets/controls",
          "model_module_version": "1.5.0",
          "model_name": "DescriptionStyleModel",
          "state": {
            "_model_module": "@jupyter-widgets/controls",
            "_model_module_version": "1.5.0",
            "_model_name": "DescriptionStyleModel",
            "_view_count": null,
            "_view_module": "@jupyter-widgets/base",
            "_view_module_version": "1.2.0",
            "_view_name": "StyleView",
            "description_width": ""
          }
        },
        "655fec879b6c4f61ad707b3a9a970f09": {
          "model_module": "@jupyter-widgets/base",
          "model_module_version": "1.2.0",
          "model_name": "LayoutModel",
          "state": {
            "_model_module": "@jupyter-widgets/base",
            "_model_module_version": "1.2.0",
            "_model_name": "LayoutModel",
            "_view_count": null,
            "_view_module": "@jupyter-widgets/base",
            "_view_module_version": "1.2.0",
            "_view_name": "LayoutView",
            "align_content": null,
            "align_items": null,
            "align_self": null,
            "border": null,
            "bottom": null,
            "display": null,
            "flex": null,
            "flex_flow": null,
            "grid_area": null,
            "grid_auto_columns": null,
            "grid_auto_flow": null,
            "grid_auto_rows": null,
            "grid_column": null,
            "grid_gap": null,
            "grid_row": null,
            "grid_template_areas": null,
            "grid_template_columns": null,
            "grid_template_rows": null,
            "height": null,
            "justify_content": null,
            "justify_items": null,
            "left": null,
            "margin": null,
            "max_height": null,
            "max_width": null,
            "min_height": null,
            "min_width": null,
            "object_fit": null,
            "object_position": null,
            "order": null,
            "overflow": null,
            "overflow_x": null,
            "overflow_y": null,
            "padding": null,
            "right": null,
            "top": null,
            "visibility": null,
            "width": null
          }
        },
        "667c5e47e7804c8eb4f856b05a400683": {
          "model_module": "@jupyter-widgets/controls",
          "model_module_version": "1.5.0",
          "model_name": "HTMLModel",
          "state": {
            "_dom_classes": [],
            "_model_module": "@jupyter-widgets/controls",
            "_model_module_version": "1.5.0",
            "_model_name": "HTMLModel",
            "_view_count": null,
            "_view_module": "@jupyter-widgets/controls",
            "_view_module_version": "1.5.0",
            "_view_name": "HTMLView",
            "description": "",
            "description_tooltip": null,
            "layout": "IPY_MODEL_77456fa545f24f7a8d39bb23193b16d4",
            "placeholder": "​",
            "style": "IPY_MODEL_e418e89a9e8c4465b897ec234f51d07b",
            "value": " 191/191 [00:00&lt;00:00, 11.9kB/s]"
          }
        },
        "676e8aa1852f43cead9d30ec311d3e42": {
          "model_module": "@jupyter-widgets/controls",
          "model_module_version": "1.5.0",
          "model_name": "ProgressStyleModel",
          "state": {
            "_model_module": "@jupyter-widgets/controls",
            "_model_module_version": "1.5.0",
            "_model_name": "ProgressStyleModel",
            "_view_count": null,
            "_view_module": "@jupyter-widgets/base",
            "_view_module_version": "1.2.0",
            "_view_name": "StyleView",
            "bar_color": null,
            "description_width": ""
          }
        },
        "6843b813fd2e476c905d83b861cdf139": {
          "model_module": "@jupyter-widgets/controls",
          "model_module_version": "1.5.0",
          "model_name": "ProgressStyleModel",
          "state": {
            "_model_module": "@jupyter-widgets/controls",
            "_model_module_version": "1.5.0",
            "_model_name": "ProgressStyleModel",
            "_view_count": null,
            "_view_module": "@jupyter-widgets/base",
            "_view_module_version": "1.2.0",
            "_view_name": "StyleView",
            "bar_color": null,
            "description_width": ""
          }
        },
        "68b2e4c31dcc4f22b2d566229f38bfca": {
          "model_module": "@jupyter-widgets/controls",
          "model_module_version": "1.5.0",
          "model_name": "ProgressStyleModel",
          "state": {
            "_model_module": "@jupyter-widgets/controls",
            "_model_module_version": "1.5.0",
            "_model_name": "ProgressStyleModel",
            "_view_count": null,
            "_view_module": "@jupyter-widgets/base",
            "_view_module_version": "1.2.0",
            "_view_name": "StyleView",
            "bar_color": null,
            "description_width": ""
          }
        },
        "68e049e9e949422cbfb2ce25056b9792": {
          "model_module": "@jupyter-widgets/base",
          "model_module_version": "1.2.0",
          "model_name": "LayoutModel",
          "state": {
            "_model_module": "@jupyter-widgets/base",
            "_model_module_version": "1.2.0",
            "_model_name": "LayoutModel",
            "_view_count": null,
            "_view_module": "@jupyter-widgets/base",
            "_view_module_version": "1.2.0",
            "_view_name": "LayoutView",
            "align_content": null,
            "align_items": null,
            "align_self": null,
            "border": null,
            "bottom": null,
            "display": null,
            "flex": null,
            "flex_flow": null,
            "grid_area": null,
            "grid_auto_columns": null,
            "grid_auto_flow": null,
            "grid_auto_rows": null,
            "grid_column": null,
            "grid_gap": null,
            "grid_row": null,
            "grid_template_areas": null,
            "grid_template_columns": null,
            "grid_template_rows": null,
            "height": null,
            "justify_content": null,
            "justify_items": null,
            "left": null,
            "margin": null,
            "max_height": null,
            "max_width": null,
            "min_height": null,
            "min_width": null,
            "object_fit": null,
            "object_position": null,
            "order": null,
            "overflow": null,
            "overflow_x": null,
            "overflow_y": null,
            "padding": null,
            "right": null,
            "top": null,
            "visibility": null,
            "width": null
          }
        },
        "6ad904010c614367b580ac8ce687c226": {
          "model_module": "@jupyter-widgets/base",
          "model_module_version": "1.2.0",
          "model_name": "LayoutModel",
          "state": {
            "_model_module": "@jupyter-widgets/base",
            "_model_module_version": "1.2.0",
            "_model_name": "LayoutModel",
            "_view_count": null,
            "_view_module": "@jupyter-widgets/base",
            "_view_module_version": "1.2.0",
            "_view_name": "LayoutView",
            "align_content": null,
            "align_items": null,
            "align_self": null,
            "border": null,
            "bottom": null,
            "display": null,
            "flex": null,
            "flex_flow": null,
            "grid_area": null,
            "grid_auto_columns": null,
            "grid_auto_flow": null,
            "grid_auto_rows": null,
            "grid_column": null,
            "grid_gap": null,
            "grid_row": null,
            "grid_template_areas": null,
            "grid_template_columns": null,
            "grid_template_rows": null,
            "height": null,
            "justify_content": null,
            "justify_items": null,
            "left": null,
            "margin": null,
            "max_height": null,
            "max_width": null,
            "min_height": null,
            "min_width": null,
            "object_fit": null,
            "object_position": null,
            "order": null,
            "overflow": null,
            "overflow_x": null,
            "overflow_y": null,
            "padding": null,
            "right": null,
            "top": null,
            "visibility": null,
            "width": null
          }
        },
        "6d12c6046b16467a97c26f9316ab03d3": {
          "model_module": "@jupyter-widgets/controls",
          "model_module_version": "1.5.0",
          "model_name": "HBoxModel",
          "state": {
            "_dom_classes": [],
            "_model_module": "@jupyter-widgets/controls",
            "_model_module_version": "1.5.0",
            "_model_name": "HBoxModel",
            "_view_count": null,
            "_view_module": "@jupyter-widgets/controls",
            "_view_module_version": "1.5.0",
            "_view_name": "HBoxView",
            "box_style": "",
            "children": [
              "IPY_MODEL_dcb9930279384449b574ac7cdd7a498e",
              "IPY_MODEL_40e68d0e1d8c422ca1260e83fccafe04",
              "IPY_MODEL_2e62fde5f7a64cb09cc5cfe3f93a78eb"
            ],
            "layout": "IPY_MODEL_c8835f2adc164635a77bf85e23eb7eaf"
          }
        },
        "6de26d55a3034dc1830a23a270ce4069": {
          "model_module": "@jupyter-widgets/controls",
          "model_module_version": "1.5.0",
          "model_name": "HTMLModel",
          "state": {
            "_dom_classes": [],
            "_model_module": "@jupyter-widgets/controls",
            "_model_module_version": "1.5.0",
            "_model_name": "HTMLModel",
            "_view_count": null,
            "_view_module": "@jupyter-widgets/controls",
            "_view_module_version": "1.5.0",
            "_view_name": "HTMLView",
            "description": "",
            "description_tooltip": null,
            "layout": "IPY_MODEL_ff157bef94e1447ab413c0cfe8034a6e",
            "placeholder": "​",
            "style": "IPY_MODEL_47a01fc0a935433eb7de65df3a57e56a",
            "value": "config.json: 100%"
          }
        },
        "77456fa545f24f7a8d39bb23193b16d4": {
          "model_module": "@jupyter-widgets/base",
          "model_module_version": "1.2.0",
          "model_name": "LayoutModel",
          "state": {
            "_model_module": "@jupyter-widgets/base",
            "_model_module_version": "1.2.0",
            "_model_name": "LayoutModel",
            "_view_count": null,
            "_view_module": "@jupyter-widgets/base",
            "_view_module_version": "1.2.0",
            "_view_name": "LayoutView",
            "align_content": null,
            "align_items": null,
            "align_self": null,
            "border": null,
            "bottom": null,
            "display": null,
            "flex": null,
            "flex_flow": null,
            "grid_area": null,
            "grid_auto_columns": null,
            "grid_auto_flow": null,
            "grid_auto_rows": null,
            "grid_column": null,
            "grid_gap": null,
            "grid_row": null,
            "grid_template_areas": null,
            "grid_template_columns": null,
            "grid_template_rows": null,
            "height": null,
            "justify_content": null,
            "justify_items": null,
            "left": null,
            "margin": null,
            "max_height": null,
            "max_width": null,
            "min_height": null,
            "min_width": null,
            "object_fit": null,
            "object_position": null,
            "order": null,
            "overflow": null,
            "overflow_x": null,
            "overflow_y": null,
            "padding": null,
            "right": null,
            "top": null,
            "visibility": null,
            "width": null
          }
        },
        "79c7a16b63e448cca44b588b05c9e0af": {
          "model_module": "@jupyter-widgets/controls",
          "model_module_version": "1.5.0",
          "model_name": "HTMLModel",
          "state": {
            "_dom_classes": [],
            "_model_module": "@jupyter-widgets/controls",
            "_model_module_version": "1.5.0",
            "_model_name": "HTMLModel",
            "_view_count": null,
            "_view_module": "@jupyter-widgets/controls",
            "_view_module_version": "1.5.0",
            "_view_name": "HTMLView",
            "description": "",
            "description_tooltip": null,
            "layout": "IPY_MODEL_1f8516ee9b344bde934913d5876f461e",
            "placeholder": "​",
            "style": "IPY_MODEL_7d14464c1ff34036a7cb85af64b7fc55",
            "value": " 342/342 [00:00&lt;00:00, 21.1kB/s]"
          }
        },
        "7d14464c1ff34036a7cb85af64b7fc55": {
          "model_module": "@jupyter-widgets/controls",
          "model_module_version": "1.5.0",
          "model_name": "DescriptionStyleModel",
          "state": {
            "_model_module": "@jupyter-widgets/controls",
            "_model_module_version": "1.5.0",
            "_model_name": "DescriptionStyleModel",
            "_view_count": null,
            "_view_module": "@jupyter-widgets/base",
            "_view_module_version": "1.2.0",
            "_view_name": "StyleView",
            "description_width": ""
          }
        },
        "7e46d796cc6542758c171a0f5cd6978c": {
          "model_module": "@jupyter-widgets/controls",
          "model_module_version": "1.5.0",
          "model_name": "HBoxModel",
          "state": {
            "_dom_classes": [],
            "_model_module": "@jupyter-widgets/controls",
            "_model_module_version": "1.5.0",
            "_model_name": "HBoxModel",
            "_view_count": null,
            "_view_module": "@jupyter-widgets/controls",
            "_view_module_version": "1.5.0",
            "_view_name": "HBoxView",
            "box_style": "",
            "children": [
              "IPY_MODEL_5230f97fe5944e108b7cfcbe7ef067e3",
              "IPY_MODEL_9ca6ff0b68084c34bbf9eb1d0a5d0913",
              "IPY_MODEL_967bee87f1f843f7999dbc93f10f4c5f"
            ],
            "layout": "IPY_MODEL_e597c78d07c842a18cf2ad88e8987ef0"
          }
        },
        "7eeafdc3918949c7b3da5f23d04814fd": {
          "model_module": "@jupyter-widgets/controls",
          "model_module_version": "1.5.0",
          "model_name": "ProgressStyleModel",
          "state": {
            "_model_module": "@jupyter-widgets/controls",
            "_model_module_version": "1.5.0",
            "_model_name": "ProgressStyleModel",
            "_view_count": null,
            "_view_module": "@jupyter-widgets/base",
            "_view_module_version": "1.2.0",
            "_view_name": "StyleView",
            "bar_color": null,
            "description_width": ""
          }
        },
        "805d6001998941beb8fcb4a3db479dda": {
          "model_module": "@jupyter-widgets/base",
          "model_module_version": "1.2.0",
          "model_name": "LayoutModel",
          "state": {
            "_model_module": "@jupyter-widgets/base",
            "_model_module_version": "1.2.0",
            "_model_name": "LayoutModel",
            "_view_count": null,
            "_view_module": "@jupyter-widgets/base",
            "_view_module_version": "1.2.0",
            "_view_name": "LayoutView",
            "align_content": null,
            "align_items": null,
            "align_self": null,
            "border": null,
            "bottom": null,
            "display": null,
            "flex": null,
            "flex_flow": null,
            "grid_area": null,
            "grid_auto_columns": null,
            "grid_auto_flow": null,
            "grid_auto_rows": null,
            "grid_column": null,
            "grid_gap": null,
            "grid_row": null,
            "grid_template_areas": null,
            "grid_template_columns": null,
            "grid_template_rows": null,
            "height": null,
            "justify_content": null,
            "justify_items": null,
            "left": null,
            "margin": null,
            "max_height": null,
            "max_width": null,
            "min_height": null,
            "min_width": null,
            "object_fit": null,
            "object_position": null,
            "order": null,
            "overflow": null,
            "overflow_x": null,
            "overflow_y": null,
            "padding": null,
            "right": null,
            "top": null,
            "visibility": null,
            "width": null
          }
        },
        "81bd2dcfe4494dd5808c3e9805bad0ae": {
          "model_module": "@jupyter-widgets/base",
          "model_module_version": "1.2.0",
          "model_name": "LayoutModel",
          "state": {
            "_model_module": "@jupyter-widgets/base",
            "_model_module_version": "1.2.0",
            "_model_name": "LayoutModel",
            "_view_count": null,
            "_view_module": "@jupyter-widgets/base",
            "_view_module_version": "1.2.0",
            "_view_name": "LayoutView",
            "align_content": null,
            "align_items": null,
            "align_self": null,
            "border": null,
            "bottom": null,
            "display": null,
            "flex": null,
            "flex_flow": null,
            "grid_area": null,
            "grid_auto_columns": null,
            "grid_auto_flow": null,
            "grid_auto_rows": null,
            "grid_column": null,
            "grid_gap": null,
            "grid_row": null,
            "grid_template_areas": null,
            "grid_template_columns": null,
            "grid_template_rows": null,
            "height": null,
            "justify_content": null,
            "justify_items": null,
            "left": null,
            "margin": null,
            "max_height": null,
            "max_width": null,
            "min_height": null,
            "min_width": null,
            "object_fit": null,
            "object_position": null,
            "order": null,
            "overflow": null,
            "overflow_x": null,
            "overflow_y": null,
            "padding": null,
            "right": null,
            "top": null,
            "visibility": null,
            "width": null
          }
        },
        "84ebd40f6a9d44da85c7e18e1c4a8b23": {
          "model_module": "@jupyter-widgets/controls",
          "model_module_version": "1.5.0",
          "model_name": "FloatProgressModel",
          "state": {
            "_dom_classes": [],
            "_model_module": "@jupyter-widgets/controls",
            "_model_module_version": "1.5.0",
            "_model_name": "FloatProgressModel",
            "_view_count": null,
            "_view_module": "@jupyter-widgets/controls",
            "_view_module_version": "1.5.0",
            "_view_name": "ProgressView",
            "bar_style": "success",
            "description": "",
            "description_tooltip": null,
            "layout": "IPY_MODEL_182f2c0cce74441984d4289ac9d36801",
            "max": 342,
            "min": 0,
            "orientation": "horizontal",
            "style": "IPY_MODEL_623a092c3ef84b889a14202ff6830cdd",
            "value": 342
          }
        },
        "884e77325f614f7382f136b311ab5b62": {
          "model_module": "@jupyter-widgets/controls",
          "model_module_version": "1.5.0",
          "model_name": "DescriptionStyleModel",
          "state": {
            "_model_module": "@jupyter-widgets/controls",
            "_model_module_version": "1.5.0",
            "_model_name": "DescriptionStyleModel",
            "_view_count": null,
            "_view_module": "@jupyter-widgets/base",
            "_view_module_version": "1.2.0",
            "_view_name": "StyleView",
            "description_width": ""
          }
        },
        "8ee0cea6402c445d8b633f207877187a": {
          "model_module": "@jupyter-widgets/controls",
          "model_module_version": "1.5.0",
          "model_name": "HBoxModel",
          "state": {
            "_dom_classes": [],
            "_model_module": "@jupyter-widgets/controls",
            "_model_module_version": "1.5.0",
            "_model_name": "HBoxModel",
            "_view_count": null,
            "_view_module": "@jupyter-widgets/controls",
            "_view_module_version": "1.5.0",
            "_view_name": "HBoxView",
            "box_style": "",
            "children": [
              "IPY_MODEL_122d6c8155254f4c9016dd3ff555517d",
              "IPY_MODEL_237c9e9fef5b4941b2e9381be890226f",
              "IPY_MODEL_19af91a2327a4e2a8981537412d915ec"
            ],
            "layout": "IPY_MODEL_45e55ea1f0c0464980745890933bfab8"
          }
        },
        "8f5213b41a37463692473d8d02fecf4d": {
          "model_module": "@jupyter-widgets/controls",
          "model_module_version": "1.5.0",
          "model_name": "HTMLModel",
          "state": {
            "_dom_classes": [],
            "_model_module": "@jupyter-widgets/controls",
            "_model_module_version": "1.5.0",
            "_model_name": "HTMLModel",
            "_view_count": null,
            "_view_module": "@jupyter-widgets/controls",
            "_view_module_version": "1.5.0",
            "_view_name": "HTMLView",
            "description": "",
            "description_tooltip": null,
            "layout": "IPY_MODEL_43bfb6ff66764aca97ff1749c666f6ab",
            "placeholder": "​",
            "style": "IPY_MODEL_130fbb604c8445939bb4de891b0498a2",
            "value": "config.json: 100%"
          }
        },
        "8fa8d2ea3bbd4d75a93ca71a28c8b946": {
          "model_module": "@jupyter-widgets/controls",
          "model_module_version": "1.5.0",
          "model_name": "HTMLModel",
          "state": {
            "_dom_classes": [],
            "_model_module": "@jupyter-widgets/controls",
            "_model_module_version": "1.5.0",
            "_model_name": "HTMLModel",
            "_view_count": null,
            "_view_module": "@jupyter-widgets/controls",
            "_view_module_version": "1.5.0",
            "_view_name": "HTMLView",
            "description": "",
            "description_tooltip": null,
            "layout": "IPY_MODEL_285016eff7c844a1b4233d293383295d",
            "placeholder": "​",
            "style": "IPY_MODEL_28c2cda4d0294b509fda658db03d8f5c",
            "value": " 5.94G/5.94G [02:01&lt;00:00, 105MB/s]"
          }
        },
        "943c052fcd7049b2b4e4a3d7acfffd92": {
          "model_module": "@jupyter-widgets/controls",
          "model_module_version": "1.5.0",
          "model_name": "DescriptionStyleModel",
          "state": {
            "_model_module": "@jupyter-widgets/controls",
            "_model_module_version": "1.5.0",
            "_model_name": "DescriptionStyleModel",
            "_view_count": null,
            "_view_module": "@jupyter-widgets/base",
            "_view_module_version": "1.2.0",
            "_view_name": "StyleView",
            "description_width": ""
          }
        },
        "952e5eb4352f4d25889edfd5cd6d1b44": {
          "model_module": "@jupyter-widgets/base",
          "model_module_version": "1.2.0",
          "model_name": "LayoutModel",
          "state": {
            "_model_module": "@jupyter-widgets/base",
            "_model_module_version": "1.2.0",
            "_model_name": "LayoutModel",
            "_view_count": null,
            "_view_module": "@jupyter-widgets/base",
            "_view_module_version": "1.2.0",
            "_view_name": "LayoutView",
            "align_content": null,
            "align_items": null,
            "align_self": null,
            "border": null,
            "bottom": null,
            "display": null,
            "flex": null,
            "flex_flow": null,
            "grid_area": null,
            "grid_auto_columns": null,
            "grid_auto_flow": null,
            "grid_auto_rows": null,
            "grid_column": null,
            "grid_gap": null,
            "grid_row": null,
            "grid_template_areas": null,
            "grid_template_columns": null,
            "grid_template_rows": null,
            "height": null,
            "justify_content": null,
            "justify_items": null,
            "left": null,
            "margin": null,
            "max_height": null,
            "max_width": null,
            "min_height": null,
            "min_width": null,
            "object_fit": null,
            "object_position": null,
            "order": null,
            "overflow": null,
            "overflow_x": null,
            "overflow_y": null,
            "padding": null,
            "right": null,
            "top": null,
            "visibility": null,
            "width": null
          }
        },
        "967bee87f1f843f7999dbc93f10f4c5f": {
          "model_module": "@jupyter-widgets/controls",
          "model_module_version": "1.5.0",
          "model_name": "HTMLModel",
          "state": {
            "_dom_classes": [],
            "_model_module": "@jupyter-widgets/controls",
            "_model_module_version": "1.5.0",
            "_model_name": "HTMLModel",
            "_view_count": null,
            "_view_module": "@jupyter-widgets/controls",
            "_view_module_version": "1.5.0",
            "_view_name": "HTMLView",
            "description": "",
            "description_tooltip": null,
            "layout": "IPY_MODEL_3a824ca1297148828b77714589353c0c",
            "placeholder": "​",
            "style": "IPY_MODEL_2f75cdc6c2814fb1817ceed2aab6c125",
            "value": " 57.0/57.0 [00:00&lt;00:00, 5.47kB/s]"
          }
        },
        "985ce0c85aa049e9a0bcc7d3a289d60d": {
          "model_module": "@jupyter-widgets/controls",
          "model_module_version": "1.5.0",
          "model_name": "DescriptionStyleModel",
          "state": {
            "_model_module": "@jupyter-widgets/controls",
            "_model_module_version": "1.5.0",
            "_model_name": "DescriptionStyleModel",
            "_view_count": null,
            "_view_module": "@jupyter-widgets/base",
            "_view_module_version": "1.2.0",
            "_view_name": "StyleView",
            "description_width": ""
          }
        },
        "99da4f0a8a374a78b69012a608b5c7d4": {
          "model_module": "@jupyter-widgets/controls",
          "model_module_version": "1.5.0",
          "model_name": "ProgressStyleModel",
          "state": {
            "_model_module": "@jupyter-widgets/controls",
            "_model_module_version": "1.5.0",
            "_model_name": "ProgressStyleModel",
            "_view_count": null,
            "_view_module": "@jupyter-widgets/base",
            "_view_module_version": "1.2.0",
            "_view_name": "StyleView",
            "bar_color": null,
            "description_width": ""
          }
        },
        "9a723f0895634f26bf0caf8730905129": {
          "model_module": "@jupyter-widgets/controls",
          "model_module_version": "1.5.0",
          "model_name": "HTMLModel",
          "state": {
            "_dom_classes": [],
            "_model_module": "@jupyter-widgets/controls",
            "_model_module_version": "1.5.0",
            "_model_name": "HTMLModel",
            "_view_count": null,
            "_view_module": "@jupyter-widgets/controls",
            "_view_module_version": "1.5.0",
            "_view_name": "HTMLView",
            "description": "",
            "description_tooltip": null,
            "layout": "IPY_MODEL_54b838a3efad43dd8d470f9c2fd9e346",
            "placeholder": "​",
            "style": "IPY_MODEL_3e7d79da58c64fe18a009f585bcd8a7e",
            "value": "README.md: "
          }
        },
        "9ae6aaec13654d1fb12632746c8eb6f5": {
          "model_module": "@jupyter-widgets/base",
          "model_module_version": "1.2.0",
          "model_name": "LayoutModel",
          "state": {
            "_model_module": "@jupyter-widgets/base",
            "_model_module_version": "1.2.0",
            "_model_name": "LayoutModel",
            "_view_count": null,
            "_view_module": "@jupyter-widgets/base",
            "_view_module_version": "1.2.0",
            "_view_name": "LayoutView",
            "align_content": null,
            "align_items": null,
            "align_self": null,
            "border": null,
            "bottom": null,
            "display": null,
            "flex": null,
            "flex_flow": null,
            "grid_area": null,
            "grid_auto_columns": null,
            "grid_auto_flow": null,
            "grid_auto_rows": null,
            "grid_column": null,
            "grid_gap": null,
            "grid_row": null,
            "grid_template_areas": null,
            "grid_template_columns": null,
            "grid_template_rows": null,
            "height": null,
            "justify_content": null,
            "justify_items": null,
            "left": null,
            "margin": null,
            "max_height": null,
            "max_width": null,
            "min_height": null,
            "min_width": null,
            "object_fit": null,
            "object_position": null,
            "order": null,
            "overflow": null,
            "overflow_x": null,
            "overflow_y": null,
            "padding": null,
            "right": null,
            "top": null,
            "visibility": null,
            "width": null
          }
        },
        "9ca6ff0b68084c34bbf9eb1d0a5d0913": {
          "model_module": "@jupyter-widgets/controls",
          "model_module_version": "1.5.0",
          "model_name": "FloatProgressModel",
          "state": {
            "_dom_classes": [],
            "_model_module": "@jupyter-widgets/controls",
            "_model_module_version": "1.5.0",
            "_model_name": "FloatProgressModel",
            "_view_count": null,
            "_view_module": "@jupyter-widgets/controls",
            "_view_module_version": "1.5.0",
            "_view_name": "ProgressView",
            "bar_style": "success",
            "description": "",
            "description_tooltip": null,
            "layout": "IPY_MODEL_4ef7155225714374b90ae9effac65a5f",
            "max": 57,
            "min": 0,
            "orientation": "horizontal",
            "style": "IPY_MODEL_180bf5f8861341fa9c7344be49ecff91",
            "value": 57
          }
        },
        "a3f869447b624575949e0d38caa98b55": {
          "model_module": "@jupyter-widgets/controls",
          "model_module_version": "1.5.0",
          "model_name": "FloatProgressModel",
          "state": {
            "_dom_classes": [],
            "_model_module": "@jupyter-widgets/controls",
            "_model_module_version": "1.5.0",
            "_model_name": "FloatProgressModel",
            "_view_count": null,
            "_view_module": "@jupyter-widgets/controls",
            "_view_module_version": "1.5.0",
            "_view_name": "ProgressView",
            "bar_style": "success",
            "description": "",
            "description_tooltip": null,
            "layout": "IPY_MODEL_9ae6aaec13654d1fb12632746c8eb6f5",
            "max": 619,
            "min": 0,
            "orientation": "horizontal",
            "style": "IPY_MODEL_125969e4db2f4cdb8fb49602256a5318",
            "value": 619
          }
        },
        "aa31d5711b45443fa4f958f1d27fac99": {
          "model_module": "@jupyter-widgets/base",
          "model_module_version": "1.2.0",
          "model_name": "LayoutModel",
          "state": {
            "_model_module": "@jupyter-widgets/base",
            "_model_module_version": "1.2.0",
            "_model_name": "LayoutModel",
            "_view_count": null,
            "_view_module": "@jupyter-widgets/base",
            "_view_module_version": "1.2.0",
            "_view_name": "LayoutView",
            "align_content": null,
            "align_items": null,
            "align_self": null,
            "border": null,
            "bottom": null,
            "display": null,
            "flex": null,
            "flex_flow": null,
            "grid_area": null,
            "grid_auto_columns": null,
            "grid_auto_flow": null,
            "grid_auto_rows": null,
            "grid_column": null,
            "grid_gap": null,
            "grid_row": null,
            "grid_template_areas": null,
            "grid_template_columns": null,
            "grid_template_rows": null,
            "height": null,
            "justify_content": null,
            "justify_items": null,
            "left": null,
            "margin": null,
            "max_height": null,
            "max_width": null,
            "min_height": null,
            "min_width": null,
            "object_fit": null,
            "object_position": null,
            "order": null,
            "overflow": null,
            "overflow_x": null,
            "overflow_y": null,
            "padding": null,
            "right": null,
            "top": null,
            "visibility": null,
            "width": null
          }
        },
        "b28133f9062f4b19930739076df07375": {
          "model_module": "@jupyter-widgets/base",
          "model_module_version": "1.2.0",
          "model_name": "LayoutModel",
          "state": {
            "_model_module": "@jupyter-widgets/base",
            "_model_module_version": "1.2.0",
            "_model_name": "LayoutModel",
            "_view_count": null,
            "_view_module": "@jupyter-widgets/base",
            "_view_module_version": "1.2.0",
            "_view_name": "LayoutView",
            "align_content": null,
            "align_items": null,
            "align_self": null,
            "border": null,
            "bottom": null,
            "display": null,
            "flex": null,
            "flex_flow": null,
            "grid_area": null,
            "grid_auto_columns": null,
            "grid_auto_flow": null,
            "grid_auto_rows": null,
            "grid_column": null,
            "grid_gap": null,
            "grid_row": null,
            "grid_template_areas": null,
            "grid_template_columns": null,
            "grid_template_rows": null,
            "height": null,
            "justify_content": null,
            "justify_items": null,
            "left": null,
            "margin": null,
            "max_height": null,
            "max_width": null,
            "min_height": null,
            "min_width": null,
            "object_fit": null,
            "object_position": null,
            "order": null,
            "overflow": null,
            "overflow_x": null,
            "overflow_y": null,
            "padding": null,
            "right": null,
            "top": null,
            "visibility": null,
            "width": null
          }
        },
        "b4256843f9b748c7b6b0462f1a080460": {
          "model_module": "@jupyter-widgets/controls",
          "model_module_version": "1.5.0",
          "model_name": "HBoxModel",
          "state": {
            "_dom_classes": [],
            "_model_module": "@jupyter-widgets/controls",
            "_model_module_version": "1.5.0",
            "_model_name": "HBoxModel",
            "_view_count": null,
            "_view_module": "@jupyter-widgets/controls",
            "_view_module_version": "1.5.0",
            "_view_name": "HBoxView",
            "box_style": "",
            "children": [
              "IPY_MODEL_59d9ab52d3894c0ea058f68aa68a88e6",
              "IPY_MODEL_5ff03e6d503445c7b59b73c0b63d2498",
              "IPY_MODEL_8fa8d2ea3bbd4d75a93ca71a28c8b946"
            ],
            "layout": "IPY_MODEL_31dc5999b7724e4db3a10879a22017b2"
          }
        },
        "b61c3ff2af9d4d91a3a3f6012017a88e": {
          "model_module": "@jupyter-widgets/controls",
          "model_module_version": "1.5.0",
          "model_name": "FloatProgressModel",
          "state": {
            "_dom_classes": [],
            "_model_module": "@jupyter-widgets/controls",
            "_model_module_version": "1.5.0",
            "_model_name": "FloatProgressModel",
            "_view_count": null,
            "_view_module": "@jupyter-widgets/controls",
            "_view_module_version": "1.5.0",
            "_view_name": "ProgressView",
            "bar_style": "success",
            "description": "",
            "description_tooltip": null,
            "layout": "IPY_MODEL_26fc4aa8062444c0859ba91f18f81029",
            "max": 1,
            "min": 0,
            "orientation": "horizontal",
            "style": "IPY_MODEL_4c96de97967c42e7a33b656d8ee7502a",
            "value": 1
          }
        },
        "b760033b8af0443285c79621eb3be92a": {
          "model_module": "@jupyter-widgets/base",
          "model_module_version": "1.2.0",
          "model_name": "LayoutModel",
          "state": {
            "_model_module": "@jupyter-widgets/base",
            "_model_module_version": "1.2.0",
            "_model_name": "LayoutModel",
            "_view_count": null,
            "_view_module": "@jupyter-widgets/base",
            "_view_module_version": "1.2.0",
            "_view_name": "LayoutView",
            "align_content": null,
            "align_items": null,
            "align_self": null,
            "border": null,
            "bottom": null,
            "display": null,
            "flex": null,
            "flex_flow": null,
            "grid_area": null,
            "grid_auto_columns": null,
            "grid_auto_flow": null,
            "grid_auto_rows": null,
            "grid_column": null,
            "grid_gap": null,
            "grid_row": null,
            "grid_template_areas": null,
            "grid_template_columns": null,
            "grid_template_rows": null,
            "height": null,
            "justify_content": null,
            "justify_items": null,
            "left": null,
            "margin": null,
            "max_height": null,
            "max_width": null,
            "min_height": null,
            "min_width": null,
            "object_fit": null,
            "object_position": null,
            "order": null,
            "overflow": null,
            "overflow_x": null,
            "overflow_y": null,
            "padding": null,
            "right": null,
            "top": null,
            "visibility": null,
            "width": null
          }
        },
        "bec924a646d146459716804e25ea5377": {
          "model_module": "@jupyter-widgets/base",
          "model_module_version": "1.2.0",
          "model_name": "LayoutModel",
          "state": {
            "_model_module": "@jupyter-widgets/base",
            "_model_module_version": "1.2.0",
            "_model_name": "LayoutModel",
            "_view_count": null,
            "_view_module": "@jupyter-widgets/base",
            "_view_module_version": "1.2.0",
            "_view_name": "LayoutView",
            "align_content": null,
            "align_items": null,
            "align_self": null,
            "border": null,
            "bottom": null,
            "display": null,
            "flex": null,
            "flex_flow": null,
            "grid_area": null,
            "grid_auto_columns": null,
            "grid_auto_flow": null,
            "grid_auto_rows": null,
            "grid_column": null,
            "grid_gap": null,
            "grid_row": null,
            "grid_template_areas": null,
            "grid_template_columns": null,
            "grid_template_rows": null,
            "height": null,
            "justify_content": null,
            "justify_items": null,
            "left": null,
            "margin": null,
            "max_height": null,
            "max_width": null,
            "min_height": null,
            "min_width": null,
            "object_fit": null,
            "object_position": null,
            "order": null,
            "overflow": null,
            "overflow_x": null,
            "overflow_y": null,
            "padding": null,
            "right": null,
            "top": null,
            "visibility": null,
            "width": null
          }
        },
        "bfb94ea0f89d4b46b386f9fbf8503371": {
          "model_module": "@jupyter-widgets/base",
          "model_module_version": "1.2.0",
          "model_name": "LayoutModel",
          "state": {
            "_model_module": "@jupyter-widgets/base",
            "_model_module_version": "1.2.0",
            "_model_name": "LayoutModel",
            "_view_count": null,
            "_view_module": "@jupyter-widgets/base",
            "_view_module_version": "1.2.0",
            "_view_name": "LayoutView",
            "align_content": null,
            "align_items": null,
            "align_self": null,
            "border": null,
            "bottom": null,
            "display": null,
            "flex": null,
            "flex_flow": null,
            "grid_area": null,
            "grid_auto_columns": null,
            "grid_auto_flow": null,
            "grid_auto_rows": null,
            "grid_column": null,
            "grid_gap": null,
            "grid_row": null,
            "grid_template_areas": null,
            "grid_template_columns": null,
            "grid_template_rows": null,
            "height": null,
            "justify_content": null,
            "justify_items": null,
            "left": null,
            "margin": null,
            "max_height": null,
            "max_width": null,
            "min_height": null,
            "min_width": null,
            "object_fit": null,
            "object_position": null,
            "order": null,
            "overflow": null,
            "overflow_x": null,
            "overflow_y": null,
            "padding": null,
            "right": null,
            "top": null,
            "visibility": null,
            "width": null
          }
        },
        "c2a0069059114886937773609d5e5683": {
          "model_module": "@jupyter-widgets/controls",
          "model_module_version": "1.5.0",
          "model_name": "HTMLModel",
          "state": {
            "_dom_classes": [],
            "_model_module": "@jupyter-widgets/controls",
            "_model_module_version": "1.5.0",
            "_model_name": "HTMLModel",
            "_view_count": null,
            "_view_module": "@jupyter-widgets/controls",
            "_view_module_version": "1.5.0",
            "_view_name": "HTMLView",
            "description": "",
            "description_tooltip": null,
            "layout": "IPY_MODEL_f3487dbe365b4efcbc53d8a510ed20f8",
            "placeholder": "​",
            "style": "IPY_MODEL_884e77325f614f7382f136b311ab5b62",
            "value": " 619/619 [00:00&lt;00:00, 31.8kB/s]"
          }
        },
        "c36efc3e9c7b43b488e6ac4bc9c72018": {
          "model_module": "@jupyter-widgets/base",
          "model_module_version": "1.2.0",
          "model_name": "LayoutModel",
          "state": {
            "_model_module": "@jupyter-widgets/base",
            "_model_module_version": "1.2.0",
            "_model_name": "LayoutModel",
            "_view_count": null,
            "_view_module": "@jupyter-widgets/base",
            "_view_module_version": "1.2.0",
            "_view_name": "LayoutView",
            "align_content": null,
            "align_items": null,
            "align_self": null,
            "border": null,
            "bottom": null,
            "display": null,
            "flex": null,
            "flex_flow": null,
            "grid_area": null,
            "grid_auto_columns": null,
            "grid_auto_flow": null,
            "grid_auto_rows": null,
            "grid_column": null,
            "grid_gap": null,
            "grid_row": null,
            "grid_template_areas": null,
            "grid_template_columns": null,
            "grid_template_rows": null,
            "height": null,
            "justify_content": null,
            "justify_items": null,
            "left": null,
            "margin": null,
            "max_height": null,
            "max_width": null,
            "min_height": null,
            "min_width": null,
            "object_fit": null,
            "object_position": null,
            "order": null,
            "overflow": null,
            "overflow_x": null,
            "overflow_y": null,
            "padding": null,
            "right": null,
            "top": null,
            "visibility": null,
            "width": null
          }
        },
        "c8835f2adc164635a77bf85e23eb7eaf": {
          "model_module": "@jupyter-widgets/base",
          "model_module_version": "1.2.0",
          "model_name": "LayoutModel",
          "state": {
            "_model_module": "@jupyter-widgets/base",
            "_model_module_version": "1.2.0",
            "_model_name": "LayoutModel",
            "_view_count": null,
            "_view_module": "@jupyter-widgets/base",
            "_view_module_version": "1.2.0",
            "_view_name": "LayoutView",
            "align_content": null,
            "align_items": null,
            "align_self": null,
            "border": null,
            "bottom": null,
            "display": null,
            "flex": null,
            "flex_flow": null,
            "grid_area": null,
            "grid_auto_columns": null,
            "grid_auto_flow": null,
            "grid_auto_rows": null,
            "grid_column": null,
            "grid_gap": null,
            "grid_row": null,
            "grid_template_areas": null,
            "grid_template_columns": null,
            "grid_template_rows": null,
            "height": null,
            "justify_content": null,
            "justify_items": null,
            "left": null,
            "margin": null,
            "max_height": null,
            "max_width": null,
            "min_height": null,
            "min_width": null,
            "object_fit": null,
            "object_position": null,
            "order": null,
            "overflow": null,
            "overflow_x": null,
            "overflow_y": null,
            "padding": null,
            "right": null,
            "top": null,
            "visibility": null,
            "width": null
          }
        },
        "ce3a8cc287394f8b8883dee167691e24": {
          "model_module": "@jupyter-widgets/base",
          "model_module_version": "1.2.0",
          "model_name": "LayoutModel",
          "state": {
            "_model_module": "@jupyter-widgets/base",
            "_model_module_version": "1.2.0",
            "_model_name": "LayoutModel",
            "_view_count": null,
            "_view_module": "@jupyter-widgets/base",
            "_view_module_version": "1.2.0",
            "_view_name": "LayoutView",
            "align_content": null,
            "align_items": null,
            "align_self": null,
            "border": null,
            "bottom": null,
            "display": null,
            "flex": null,
            "flex_flow": null,
            "grid_area": null,
            "grid_auto_columns": null,
            "grid_auto_flow": null,
            "grid_auto_rows": null,
            "grid_column": null,
            "grid_gap": null,
            "grid_row": null,
            "grid_template_areas": null,
            "grid_template_columns": null,
            "grid_template_rows": null,
            "height": null,
            "justify_content": null,
            "justify_items": null,
            "left": null,
            "margin": null,
            "max_height": null,
            "max_width": null,
            "min_height": null,
            "min_width": null,
            "object_fit": null,
            "object_position": null,
            "order": null,
            "overflow": null,
            "overflow_x": null,
            "overflow_y": null,
            "padding": null,
            "right": null,
            "top": null,
            "visibility": null,
            "width": null
          }
        },
        "d41ad5493ccc41fd8cafcfa3e32c8c96": {
          "model_module": "@jupyter-widgets/base",
          "model_module_version": "1.2.0",
          "model_name": "LayoutModel",
          "state": {
            "_model_module": "@jupyter-widgets/base",
            "_model_module_version": "1.2.0",
            "_model_name": "LayoutModel",
            "_view_count": null,
            "_view_module": "@jupyter-widgets/base",
            "_view_module_version": "1.2.0",
            "_view_name": "LayoutView",
            "align_content": null,
            "align_items": null,
            "align_self": null,
            "border": null,
            "bottom": null,
            "display": null,
            "flex": null,
            "flex_flow": null,
            "grid_area": null,
            "grid_auto_columns": null,
            "grid_auto_flow": null,
            "grid_auto_rows": null,
            "grid_column": null,
            "grid_gap": null,
            "grid_row": null,
            "grid_template_areas": null,
            "grid_template_columns": null,
            "grid_template_rows": null,
            "height": null,
            "justify_content": null,
            "justify_items": null,
            "left": null,
            "margin": null,
            "max_height": null,
            "max_width": null,
            "min_height": null,
            "min_width": null,
            "object_fit": null,
            "object_position": null,
            "order": null,
            "overflow": null,
            "overflow_x": null,
            "overflow_y": null,
            "padding": null,
            "right": null,
            "top": null,
            "visibility": null,
            "width": null
          }
        },
        "d4fff690be6b4accb5ef6bcdf1093d4b": {
          "model_module": "@jupyter-widgets/controls",
          "model_module_version": "1.5.0",
          "model_name": "DescriptionStyleModel",
          "state": {
            "_model_module": "@jupyter-widgets/controls",
            "_model_module_version": "1.5.0",
            "_model_name": "DescriptionStyleModel",
            "_view_count": null,
            "_view_module": "@jupyter-widgets/base",
            "_view_module_version": "1.2.0",
            "_view_name": "StyleView",
            "description_width": ""
          }
        },
        "d577adbe14064a5db800ede377cd8c6a": {
          "model_module": "@jupyter-widgets/controls",
          "model_module_version": "1.5.0",
          "model_name": "HBoxModel",
          "state": {
            "_dom_classes": [],
            "_model_module": "@jupyter-widgets/controls",
            "_model_module_version": "1.5.0",
            "_model_name": "HBoxModel",
            "_view_count": null,
            "_view_module": "@jupyter-widgets/controls",
            "_view_module_version": "1.5.0",
            "_view_name": "HBoxView",
            "box_style": "",
            "children": [
              "IPY_MODEL_6de26d55a3034dc1830a23a270ce4069",
              "IPY_MODEL_01e8c413be9643918038e9198354b844",
              "IPY_MODEL_667c5e47e7804c8eb4f856b05a400683"
            ],
            "layout": "IPY_MODEL_ea44381f8cd0429fa14d7cd8486f43cd"
          }
        },
        "dcb9930279384449b574ac7cdd7a498e": {
          "model_module": "@jupyter-widgets/controls",
          "model_module_version": "1.5.0",
          "model_name": "HTMLModel",
          "state": {
            "_dom_classes": [],
            "_model_module": "@jupyter-widgets/controls",
            "_model_module_version": "1.5.0",
            "_model_name": "HTMLModel",
            "_view_count": null,
            "_view_module": "@jupyter-widgets/controls",
            "_view_module_version": "1.5.0",
            "_view_name": "HTMLView",
            "description": "",
            "description_tooltip": null,
            "layout": "IPY_MODEL_aa31d5711b45443fa4f958f1d27fac99",
            "placeholder": "​",
            "style": "IPY_MODEL_48b52a50bbf14f94902c2d856e89efeb",
            "value": "special_tokens_map.json: 100%"
          }
        },
        "e37a9d4f9d3048cebf25fb098692b5e6": {
          "model_module": "@jupyter-widgets/base",
          "model_module_version": "1.2.0",
          "model_name": "LayoutModel",
          "state": {
            "_model_module": "@jupyter-widgets/base",
            "_model_module_version": "1.2.0",
            "_model_name": "LayoutModel",
            "_view_count": null,
            "_view_module": "@jupyter-widgets/base",
            "_view_module_version": "1.2.0",
            "_view_name": "LayoutView",
            "align_content": null,
            "align_items": null,
            "align_self": null,
            "border": null,
            "bottom": null,
            "display": null,
            "flex": null,
            "flex_flow": null,
            "grid_area": null,
            "grid_auto_columns": null,
            "grid_auto_flow": null,
            "grid_auto_rows": null,
            "grid_column": null,
            "grid_gap": null,
            "grid_row": null,
            "grid_template_areas": null,
            "grid_template_columns": null,
            "grid_template_rows": null,
            "height": null,
            "justify_content": null,
            "justify_items": null,
            "left": null,
            "margin": null,
            "max_height": null,
            "max_width": null,
            "min_height": null,
            "min_width": null,
            "object_fit": null,
            "object_position": null,
            "order": null,
            "overflow": null,
            "overflow_x": null,
            "overflow_y": null,
            "padding": null,
            "right": null,
            "top": null,
            "visibility": null,
            "width": null
          }
        },
        "e418e89a9e8c4465b897ec234f51d07b": {
          "model_module": "@jupyter-widgets/controls",
          "model_module_version": "1.5.0",
          "model_name": "DescriptionStyleModel",
          "state": {
            "_model_module": "@jupyter-widgets/controls",
            "_model_module_version": "1.5.0",
            "_model_name": "DescriptionStyleModel",
            "_view_count": null,
            "_view_module": "@jupyter-widgets/base",
            "_view_module_version": "1.2.0",
            "_view_name": "StyleView",
            "description_width": ""
          }
        },
        "e597c78d07c842a18cf2ad88e8987ef0": {
          "model_module": "@jupyter-widgets/base",
          "model_module_version": "1.2.0",
          "model_name": "LayoutModel",
          "state": {
            "_model_module": "@jupyter-widgets/base",
            "_model_module_version": "1.2.0",
            "_model_name": "LayoutModel",
            "_view_count": null,
            "_view_module": "@jupyter-widgets/base",
            "_view_module_version": "1.2.0",
            "_view_name": "LayoutView",
            "align_content": null,
            "align_items": null,
            "align_self": null,
            "border": null,
            "bottom": null,
            "display": null,
            "flex": null,
            "flex_flow": null,
            "grid_area": null,
            "grid_auto_columns": null,
            "grid_auto_flow": null,
            "grid_auto_rows": null,
            "grid_column": null,
            "grid_gap": null,
            "grid_row": null,
            "grid_template_areas": null,
            "grid_template_columns": null,
            "grid_template_rows": null,
            "height": null,
            "justify_content": null,
            "justify_items": null,
            "left": null,
            "margin": null,
            "max_height": null,
            "max_width": null,
            "min_height": null,
            "min_width": null,
            "object_fit": null,
            "object_position": null,
            "order": null,
            "overflow": null,
            "overflow_x": null,
            "overflow_y": null,
            "padding": null,
            "right": null,
            "top": null,
            "visibility": null,
            "width": null
          }
        },
        "e8902b7cfb844485aae3ce69bdd1e1fa": {
          "model_module": "@jupyter-widgets/controls",
          "model_module_version": "1.5.0",
          "model_name": "HTMLModel",
          "state": {
            "_dom_classes": [],
            "_model_module": "@jupyter-widgets/controls",
            "_model_module_version": "1.5.0",
            "_model_name": "HTMLModel",
            "_view_count": null,
            "_view_module": "@jupyter-widgets/controls",
            "_view_module_version": "1.5.0",
            "_view_name": "HTMLView",
            "description": "",
            "description_tooltip": null,
            "layout": "IPY_MODEL_1ba0b33cabb544808f245bb67b4fb4be",
            "placeholder": "​",
            "style": "IPY_MODEL_6346c3966a9a4e68937a4a75f29d430e",
            "value": " 670M/670M [00:10&lt;00:00, 101MB/s]"
          }
        },
        "e9bae5292e614e048d4be3d1d47b6d88": {
          "model_module": "@jupyter-widgets/controls",
          "model_module_version": "1.5.0",
          "model_name": "HTMLModel",
          "state": {
            "_dom_classes": [],
            "_model_module": "@jupyter-widgets/controls",
            "_model_module_version": "1.5.0",
            "_model_name": "HTMLModel",
            "_view_count": null,
            "_view_module": "@jupyter-widgets/controls",
            "_view_module_version": "1.5.0",
            "_view_name": "HTMLView",
            "description": "",
            "description_tooltip": null,
            "layout": "IPY_MODEL_6ad904010c614367b580ac8ce687c226",
            "placeholder": "​",
            "style": "IPY_MODEL_102e7de2e44a405883fbdf09c95802e8",
            "value": " 712k/? [00:00&lt;00:00, 27.0MB/s]"
          }
        },
        "ea44381f8cd0429fa14d7cd8486f43cd": {
          "model_module": "@jupyter-widgets/base",
          "model_module_version": "1.2.0",
          "model_name": "LayoutModel",
          "state": {
            "_model_module": "@jupyter-widgets/base",
            "_model_module_version": "1.2.0",
            "_model_name": "LayoutModel",
            "_view_count": null,
            "_view_module": "@jupyter-widgets/base",
            "_view_module_version": "1.2.0",
            "_view_name": "LayoutView",
            "align_content": null,
            "align_items": null,
            "align_self": null,
            "border": null,
            "bottom": null,
            "display": null,
            "flex": null,
            "flex_flow": null,
            "grid_area": null,
            "grid_auto_columns": null,
            "grid_auto_flow": null,
            "grid_auto_rows": null,
            "grid_column": null,
            "grid_gap": null,
            "grid_row": null,
            "grid_template_areas": null,
            "grid_template_columns": null,
            "grid_template_rows": null,
            "height": null,
            "justify_content": null,
            "justify_items": null,
            "left": null,
            "margin": null,
            "max_height": null,
            "max_width": null,
            "min_height": null,
            "min_width": null,
            "object_fit": null,
            "object_position": null,
            "order": null,
            "overflow": null,
            "overflow_x": null,
            "overflow_y": null,
            "padding": null,
            "right": null,
            "top": null,
            "visibility": null,
            "width": null
          }
        },
        "ed0c356351e9451faae553a706091e0c": {
          "model_module": "@jupyter-widgets/base",
          "model_module_version": "1.2.0",
          "model_name": "LayoutModel",
          "state": {
            "_model_module": "@jupyter-widgets/base",
            "_model_module_version": "1.2.0",
            "_model_name": "LayoutModel",
            "_view_count": null,
            "_view_module": "@jupyter-widgets/base",
            "_view_module_version": "1.2.0",
            "_view_name": "LayoutView",
            "align_content": null,
            "align_items": null,
            "align_self": null,
            "border": null,
            "bottom": null,
            "display": null,
            "flex": null,
            "flex_flow": null,
            "grid_area": null,
            "grid_auto_columns": null,
            "grid_auto_flow": null,
            "grid_auto_rows": null,
            "grid_column": null,
            "grid_gap": null,
            "grid_row": null,
            "grid_template_areas": null,
            "grid_template_columns": null,
            "grid_template_rows": null,
            "height": null,
            "justify_content": null,
            "justify_items": null,
            "left": null,
            "margin": null,
            "max_height": null,
            "max_width": null,
            "min_height": null,
            "min_width": null,
            "object_fit": null,
            "object_position": null,
            "order": null,
            "overflow": null,
            "overflow_x": null,
            "overflow_y": null,
            "padding": null,
            "right": null,
            "top": null,
            "visibility": null,
            "width": "20px"
          }
        },
        "ef5c75dd6e074f6aa1167aea2a8b05bc": {
          "model_module": "@jupyter-widgets/controls",
          "model_module_version": "1.5.0",
          "model_name": "DescriptionStyleModel",
          "state": {
            "_model_module": "@jupyter-widgets/controls",
            "_model_module_version": "1.5.0",
            "_model_name": "DescriptionStyleModel",
            "_view_count": null,
            "_view_module": "@jupyter-widgets/base",
            "_view_module_version": "1.2.0",
            "_view_name": "StyleView",
            "description_width": ""
          }
        },
        "f30c17a3d075487cbe93d9262bfbc612": {
          "model_module": "@jupyter-widgets/controls",
          "model_module_version": "1.5.0",
          "model_name": "DescriptionStyleModel",
          "state": {
            "_model_module": "@jupyter-widgets/controls",
            "_model_module_version": "1.5.0",
            "_model_name": "DescriptionStyleModel",
            "_view_count": null,
            "_view_module": "@jupyter-widgets/base",
            "_view_module_version": "1.2.0",
            "_view_name": "StyleView",
            "description_width": ""
          }
        },
        "f3487dbe365b4efcbc53d8a510ed20f8": {
          "model_module": "@jupyter-widgets/base",
          "model_module_version": "1.2.0",
          "model_name": "LayoutModel",
          "state": {
            "_model_module": "@jupyter-widgets/base",
            "_model_module_version": "1.2.0",
            "_model_name": "LayoutModel",
            "_view_count": null,
            "_view_module": "@jupyter-widgets/base",
            "_view_module_version": "1.2.0",
            "_view_name": "LayoutView",
            "align_content": null,
            "align_items": null,
            "align_self": null,
            "border": null,
            "bottom": null,
            "display": null,
            "flex": null,
            "flex_flow": null,
            "grid_area": null,
            "grid_auto_columns": null,
            "grid_auto_flow": null,
            "grid_auto_rows": null,
            "grid_column": null,
            "grid_gap": null,
            "grid_row": null,
            "grid_template_areas": null,
            "grid_template_columns": null,
            "grid_template_rows": null,
            "height": null,
            "justify_content": null,
            "justify_items": null,
            "left": null,
            "margin": null,
            "max_height": null,
            "max_width": null,
            "min_height": null,
            "min_width": null,
            "object_fit": null,
            "object_position": null,
            "order": null,
            "overflow": null,
            "overflow_x": null,
            "overflow_y": null,
            "padding": null,
            "right": null,
            "top": null,
            "visibility": null,
            "width": null
          }
        },
        "f6b414b8799f4d479fd27d1cf0e1299b": {
          "model_module": "@jupyter-widgets/base",
          "model_module_version": "1.2.0",
          "model_name": "LayoutModel",
          "state": {
            "_model_module": "@jupyter-widgets/base",
            "_model_module_version": "1.2.0",
            "_model_name": "LayoutModel",
            "_view_count": null,
            "_view_module": "@jupyter-widgets/base",
            "_view_module_version": "1.2.0",
            "_view_name": "LayoutView",
            "align_content": null,
            "align_items": null,
            "align_self": null,
            "border": null,
            "bottom": null,
            "display": null,
            "flex": null,
            "flex_flow": null,
            "grid_area": null,
            "grid_auto_columns": null,
            "grid_auto_flow": null,
            "grid_auto_rows": null,
            "grid_column": null,
            "grid_gap": null,
            "grid_row": null,
            "grid_template_areas": null,
            "grid_template_columns": null,
            "grid_template_rows": null,
            "height": null,
            "justify_content": null,
            "justify_items": null,
            "left": null,
            "margin": null,
            "max_height": null,
            "max_width": null,
            "min_height": null,
            "min_width": null,
            "object_fit": null,
            "object_position": null,
            "order": null,
            "overflow": null,
            "overflow_x": null,
            "overflow_y": null,
            "padding": null,
            "right": null,
            "top": null,
            "visibility": null,
            "width": null
          }
        },
        "f7f030013a6c48e6ba6cb0ea78d993c7": {
          "model_module": "@jupyter-widgets/controls",
          "model_module_version": "1.5.0",
          "model_name": "HBoxModel",
          "state": {
            "_dom_classes": [],
            "_model_module": "@jupyter-widgets/controls",
            "_model_module_version": "1.5.0",
            "_model_name": "HBoxModel",
            "_view_count": null,
            "_view_module": "@jupyter-widgets/controls",
            "_view_module_version": "1.5.0",
            "_view_name": "HBoxView",
            "box_style": "",
            "children": [
              "IPY_MODEL_1a72a5b8c8984258af7bce564f118996",
              "IPY_MODEL_1883cc6e9aa9449ab4e49d7797edac45",
              "IPY_MODEL_e8902b7cfb844485aae3ce69bdd1e1fa"
            ],
            "layout": "IPY_MODEL_bfb94ea0f89d4b46b386f9fbf8503371"
          }
        },
        "f84538411ad147a99984bdd15bb28495": {
          "model_module": "@jupyter-widgets/controls",
          "model_module_version": "1.5.0",
          "model_name": "HTMLModel",
          "state": {
            "_dom_classes": [],
            "_model_module": "@jupyter-widgets/controls",
            "_model_module_version": "1.5.0",
            "_model_name": "HTMLModel",
            "_view_count": null,
            "_view_module": "@jupyter-widgets/controls",
            "_view_module_version": "1.5.0",
            "_view_name": "HTMLView",
            "description": "",
            "description_tooltip": null,
            "layout": "IPY_MODEL_4ee5f4997f274d7e96e62e6ed904b83e",
            "placeholder": "​",
            "style": "IPY_MODEL_1fa23755d05344f89333468c4b905706",
            "value": "vocab.txt: "
          }
        },
        "f9083ce959a04ff096d00ae621c58489": {
          "model_module": "@jupyter-widgets/controls",
          "model_module_version": "1.5.0",
          "model_name": "DescriptionStyleModel",
          "state": {
            "_model_module": "@jupyter-widgets/controls",
            "_model_module_version": "1.5.0",
            "_model_name": "DescriptionStyleModel",
            "_view_count": null,
            "_view_module": "@jupyter-widgets/base",
            "_view_module_version": "1.2.0",
            "_view_name": "StyleView",
            "description_width": ""
          }
        },
        "ff157bef94e1447ab413c0cfe8034a6e": {
          "model_module": "@jupyter-widgets/base",
          "model_module_version": "1.2.0",
          "model_name": "LayoutModel",
          "state": {
            "_model_module": "@jupyter-widgets/base",
            "_model_module_version": "1.2.0",
            "_model_name": "LayoutModel",
            "_view_count": null,
            "_view_module": "@jupyter-widgets/base",
            "_view_module_version": "1.2.0",
            "_view_name": "LayoutView",
            "align_content": null,
            "align_items": null,
            "align_self": null,
            "border": null,
            "bottom": null,
            "display": null,
            "flex": null,
            "flex_flow": null,
            "grid_area": null,
            "grid_auto_columns": null,
            "grid_auto_flow": null,
            "grid_auto_rows": null,
            "grid_column": null,
            "grid_gap": null,
            "grid_row": null,
            "grid_template_areas": null,
            "grid_template_columns": null,
            "grid_template_rows": null,
            "height": null,
            "justify_content": null,
            "justify_items": null,
            "left": null,
            "margin": null,
            "max_height": null,
            "max_width": null,
            "min_height": null,
            "min_width": null,
            "object_fit": null,
            "object_position": null,
            "order": null,
            "overflow": null,
            "overflow_x": null,
            "overflow_y": null,
            "padding": null,
            "right": null,
            "top": null,
            "visibility": null,
            "width": null
          }
        }
      }
    }
  },
  "nbformat": 4,
  "nbformat_minor": 0
}